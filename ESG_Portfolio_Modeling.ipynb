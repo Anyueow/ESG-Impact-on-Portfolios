{
 "cells": [
  {
   "cell_type": "markdown",
   "metadata": {},
   "source": [
    "# ESG Portfolio Modeling Analysis\n",
    "\n",
    "This notebook implements various modeling strategies to analyze the relationship between ESG scores and stock performance.\n",
    "\n",
    "**Business Question:** Can a long-short portfolio strategy based on ESG score rankings within the S&P 500 consistently generate excess returns, and should fund managers consider ESG scores as a signal for portfolio construction?"
   ]
  },
  {
   "cell_type": "code",
   "execution_count": null,
   "metadata": {},
   "outputs": [],
   "source": [
    "import pandas as pd\n",
    "import numpy as np\n",
    "import matplotlib.pyplot as plt\n",
    "import seaborn as sns\n",
    "from sklearn.linear_model import LinearRegression\n",
    "from sklearn.ensemble import RandomForestRegressor\n",
    "from sklearn.preprocessing import StandardScaler, OneHotEncoder\n",
    "from sklearn.compose import ColumnTransformer\n",
    "from sklearn.pipeline import Pipeline\n",
    "from sklearn.metrics import r2_score, mean_squared_error\n",
    "from sklearn.model_selection import train_test_split\n",
    "import xgboost as xgb\n",
    "from sklearn.cluster import KMeans\n",
    "from sklearn.model_selection import cross_val_score  \n",
    "\n",
    "import plotly.express as px\n",
    "import plotly.graph_objects as go\n",
    "from plotly.subplots import make_subplots\n",
    "\n",
    "# Set style\n",
    "sns.set_palette('husl')"
   ]
  },
  {
   "cell_type": "code",
   "execution_count": null,
   "metadata": {},
   "outputs": [
    {
     "name": "stdout",
     "output_type": "stream",
     "text": [
      "Dataset shape: (176, 31)\n"
     ]
    },
    {
     "data": {
      "text/html": [
       "<div>\n",
       "<style scoped>\n",
       "    .dataframe tbody tr th:only-of-type {\n",
       "        vertical-align: middle;\n",
       "    }\n",
       "\n",
       "    .dataframe tbody tr th {\n",
       "        vertical-align: top;\n",
       "    }\n",
       "\n",
       "    .dataframe thead th {\n",
       "        text-align: right;\n",
       "    }\n",
       "</style>\n",
       "<table border=\"1\" class=\"dataframe\">\n",
       "  <thead>\n",
       "    <tr style=\"text-align: right;\">\n",
       "      <th></th>\n",
       "      <th>Ticker</th>\n",
       "      <th>YTD_Change</th>\n",
       "      <th>YTD_Return</th>\n",
       "      <th>1M_Change</th>\n",
       "      <th>1M_Return</th>\n",
       "      <th>3M_Change</th>\n",
       "      <th>3M_Return</th>\n",
       "      <th>6M_Change</th>\n",
       "      <th>6M_Return</th>\n",
       "      <th>12M_Change</th>\n",
       "      <th>...</th>\n",
       "      <th>environmentScore</th>\n",
       "      <th>socialScore</th>\n",
       "      <th>governanceScore</th>\n",
       "      <th>totalEsg</th>\n",
       "      <th>highestControversy</th>\n",
       "      <th>percentile</th>\n",
       "      <th>ratingYear</th>\n",
       "      <th>ratingMonth</th>\n",
       "      <th>beta</th>\n",
       "      <th>overallRisk</th>\n",
       "    </tr>\n",
       "  </thead>\n",
       "  <tbody>\n",
       "    <tr>\n",
       "      <th>0</th>\n",
       "      <td>CSCO</td>\n",
       "      <td>-23.060479</td>\n",
       "      <td>0.769395</td>\n",
       "      <td>8.495200</td>\n",
       "      <td>1.084952</td>\n",
       "      <td>10.167764</td>\n",
       "      <td>1.101678</td>\n",
       "      <td>10.947493</td>\n",
       "      <td>1.109475</td>\n",
       "      <td>-17.983120</td>\n",
       "      <td>...</td>\n",
       "      <td>0.45</td>\n",
       "      <td>6.90</td>\n",
       "      <td>6.51</td>\n",
       "      <td>13.87</td>\n",
       "      <td>2.0</td>\n",
       "      <td>8.46</td>\n",
       "      <td>2023.0</td>\n",
       "      <td>9.0</td>\n",
       "      <td>0.819</td>\n",
       "      <td>1</td>\n",
       "    </tr>\n",
       "    <tr>\n",
       "      <th>1</th>\n",
       "      <td>ISRG</td>\n",
       "      <td>-24.494442</td>\n",
       "      <td>0.755056</td>\n",
       "      <td>2.542637</td>\n",
       "      <td>1.025426</td>\n",
       "      <td>28.580896</td>\n",
       "      <td>1.285809</td>\n",
       "      <td>38.591751</td>\n",
       "      <td>1.385918</td>\n",
       "      <td>-21.202454</td>\n",
       "      <td>...</td>\n",
       "      <td>3.65</td>\n",
       "      <td>9.58</td>\n",
       "      <td>7.84</td>\n",
       "      <td>21.07</td>\n",
       "      <td>1.0</td>\n",
       "      <td>32.14</td>\n",
       "      <td>2023.0</td>\n",
       "      <td>9.0</td>\n",
       "      <td>1.395</td>\n",
       "      <td>3</td>\n",
       "    </tr>\n",
       "    <tr>\n",
       "      <th>2</th>\n",
       "      <td>GILD</td>\n",
       "      <td>21.052629</td>\n",
       "      <td>1.210526</td>\n",
       "      <td>7.382059</td>\n",
       "      <td>1.073821</td>\n",
       "      <td>34.961602</td>\n",
       "      <td>1.349616</td>\n",
       "      <td>50.470974</td>\n",
       "      <td>1.504710</td>\n",
       "      <td>25.067617</td>\n",
       "      <td>...</td>\n",
       "      <td>1.00</td>\n",
       "      <td>14.34</td>\n",
       "      <td>7.62</td>\n",
       "      <td>22.97</td>\n",
       "      <td>2.0</td>\n",
       "      <td>39.94</td>\n",
       "      <td>2023.0</td>\n",
       "      <td>9.0</td>\n",
       "      <td>0.196</td>\n",
       "      <td>2</td>\n",
       "    </tr>\n",
       "    <tr>\n",
       "      <th>3</th>\n",
       "      <td>V</td>\n",
       "      <td>-3.639976</td>\n",
       "      <td>0.963600</td>\n",
       "      <td>4.082924</td>\n",
       "      <td>1.040829</td>\n",
       "      <td>6.861320</td>\n",
       "      <td>1.068613</td>\n",
       "      <td>8.773446</td>\n",
       "      <td>1.087734</td>\n",
       "      <td>-0.014058</td>\n",
       "      <td>...</td>\n",
       "      <td>1.81</td>\n",
       "      <td>8.22</td>\n",
       "      <td>6.65</td>\n",
       "      <td>16.68</td>\n",
       "      <td>3.0</td>\n",
       "      <td>16.22</td>\n",
       "      <td>2023.0</td>\n",
       "      <td>9.0</td>\n",
       "      <td>0.963</td>\n",
       "      <td>3</td>\n",
       "    </tr>\n",
       "    <tr>\n",
       "      <th>4</th>\n",
       "      <td>A</td>\n",
       "      <td>-0.690185</td>\n",
       "      <td>0.993098</td>\n",
       "      <td>4.780525</td>\n",
       "      <td>1.047805</td>\n",
       "      <td>16.369628</td>\n",
       "      <td>1.163696</td>\n",
       "      <td>33.424910</td>\n",
       "      <td>1.334249</td>\n",
       "      <td>-0.550365</td>\n",
       "      <td>...</td>\n",
       "      <td>1.12</td>\n",
       "      <td>6.42</td>\n",
       "      <td>6.10</td>\n",
       "      <td>13.64</td>\n",
       "      <td>2.0</td>\n",
       "      <td>7.98</td>\n",
       "      <td>2023.0</td>\n",
       "      <td>9.0</td>\n",
       "      <td>1.054</td>\n",
       "      <td>8</td>\n",
       "    </tr>\n",
       "  </tbody>\n",
       "</table>\n",
       "<p>5 rows × 31 columns</p>\n",
       "</div>"
      ],
      "text/plain": [
       "  Ticker  YTD_Change  YTD_Return  1M_Change  1M_Return  3M_Change  3M_Return  \\\n",
       "0   CSCO  -23.060479    0.769395   8.495200   1.084952  10.167764   1.101678   \n",
       "1   ISRG  -24.494442    0.755056   2.542637   1.025426  28.580896   1.285809   \n",
       "2   GILD   21.052629    1.210526   7.382059   1.073821  34.961602   1.349616   \n",
       "3      V   -3.639976    0.963600   4.082924   1.040829   6.861320   1.068613   \n",
       "4      A   -0.690185    0.993098   4.780525   1.047805  16.369628   1.163696   \n",
       "\n",
       "   6M_Change  6M_Return  12M_Change  ...  environmentScore socialScore  \\\n",
       "0  10.947493   1.109475  -17.983120  ...              0.45        6.90   \n",
       "1  38.591751   1.385918  -21.202454  ...              3.65        9.58   \n",
       "2  50.470974   1.504710   25.067617  ...              1.00       14.34   \n",
       "3   8.773446   1.087734   -0.014058  ...              1.81        8.22   \n",
       "4  33.424910   1.334249   -0.550365  ...              1.12        6.42   \n",
       "\n",
       "  governanceScore  totalEsg  highestControversy  percentile  ratingYear  \\\n",
       "0            6.51     13.87                 2.0        8.46      2023.0   \n",
       "1            7.84     21.07                 1.0       32.14      2023.0   \n",
       "2            7.62     22.97                 2.0       39.94      2023.0   \n",
       "3            6.65     16.68                 3.0       16.22      2023.0   \n",
       "4            6.10     13.64                 2.0        7.98      2023.0   \n",
       "\n",
       "   ratingMonth   beta overallRisk  \n",
       "0          9.0  0.819           1  \n",
       "1          9.0  1.395           3  \n",
       "2          9.0  0.196           2  \n",
       "3          9.0  0.963           3  \n",
       "4          9.0  1.054           8  \n",
       "\n",
       "[5 rows x 31 columns]"
      ]
     },
     "execution_count": 12,
     "metadata": {},
     "output_type": "execute_result"
    }
   ],
   "source": [
    "# Read the data\n",
    "df = pd.read_csv('merged_data.csv')\n",
    "print(f\"Dataset shape: {df.shape}\")\n",
    "df.head()"
   ]
  },
  {
   "cell_type": "markdown",
   "metadata": {},
   "source": [
    "## 1. Regression Analysis\n",
    "\n",
    "We'll use multiple regression models to analyze the relationship between ESG scores and returns, controlling for sector effects."
   ]
  },
  {
   "cell_type": "code",
   "execution_count": null,
   "metadata": {},
   "outputs": [
    {
     "data": {
      "text/html": [
       "<div>\n",
       "<style scoped>\n",
       "    .dataframe tbody tr th:only-of-type {\n",
       "        vertical-align: middle;\n",
       "    }\n",
       "\n",
       "    .dataframe tbody tr th {\n",
       "        vertical-align: top;\n",
       "    }\n",
       "\n",
       "    .dataframe thead th {\n",
       "        text-align: right;\n",
       "    }\n",
       "</style>\n",
       "<table border=\"1\" class=\"dataframe\">\n",
       "  <thead>\n",
       "    <tr style=\"text-align: right;\">\n",
       "      <th></th>\n",
       "      <th>Model</th>\n",
       "      <th>R2 Score</th>\n",
       "      <th>RMSE</th>\n",
       "    </tr>\n",
       "  </thead>\n",
       "  <tbody>\n",
       "    <tr>\n",
       "      <th>0</th>\n",
       "      <td>Linear Regression</td>\n",
       "      <td>0.479247</td>\n",
       "      <td>0.219627</td>\n",
       "    </tr>\n",
       "    <tr>\n",
       "      <th>1</th>\n",
       "      <td>Random Forest</td>\n",
       "      <td>0.539818</td>\n",
       "      <td>0.206460</td>\n",
       "    </tr>\n",
       "    <tr>\n",
       "      <th>2</th>\n",
       "      <td>XGBoost</td>\n",
       "      <td>0.472861</td>\n",
       "      <td>0.220970</td>\n",
       "    </tr>\n",
       "  </tbody>\n",
       "</table>\n",
       "</div>"
      ],
      "text/plain": [
       "               Model  R2 Score      RMSE\n",
       "0  Linear Regression  0.479247  0.219627\n",
       "1      Random Forest  0.539818  0.206460\n",
       "2            XGBoost  0.472861  0.220970"
      ]
     },
     "execution_count": 13,
     "metadata": {},
     "output_type": "execute_result"
    }
   ],
   "source": [
    "def prepare_regression_data(df, target_col='12M_Return'):\n",
    "    \"\"\"Prepare data for regression analysis\"\"\"\n",
    "    # Features for regression\n",
    "    X = df[['totalEsg', 'GIS Sector']]\n",
    "    y = df[target_col]\n",
    "    \n",
    "    # Create preprocessing pipeline\n",
    "    preprocessor = ColumnTransformer(\n",
    "        transformers=[\n",
    "            ('num', StandardScaler(), ['totalEsg']),\n",
    "            ('cat', OneHotEncoder(drop='first', sparse_output=False), ['GIS Sector'])\n",
    "        ])\n",
    "    \n",
    "    return train_test_split(X, y, test_size=0.2, random_state=42), preprocessor\n",
    "\n",
    "# Prepare data\n",
    "(X_train, X_test, y_train, y_test), preprocessor = prepare_regression_data(df)\n",
    "\n",
    "# Linear Regression\n",
    "lr_pipeline = Pipeline([\n",
    "    ('preprocessor', preprocessor),\n",
    "    ('regressor', LinearRegression())\n",
    "])\n",
    "\n",
    "lr_pipeline.fit(X_train, y_train)\n",
    "lr_pred = lr_pipeline.predict(X_test)\n",
    "\n",
    "# Random Forest\n",
    "rf_pipeline = Pipeline([\n",
    "    ('preprocessor', preprocessor),\n",
    "    ('regressor', RandomForestRegressor(n_estimators=100, random_state=42))\n",
    "])\n",
    "\n",
    "rf_pipeline.fit(X_train, y_train)\n",
    "rf_pred = rf_pipeline.predict(X_test)\n",
    "\n",
    "# XGBoost\n",
    "xgb_pipeline = Pipeline([\n",
    "    ('preprocessor', preprocessor),\n",
    "    ('regressor', xgb.XGBRegressor(objective='reg:squarederror', random_state=42))\n",
    "])\n",
    "\n",
    "xgb_pipeline.fit(X_train, y_train)\n",
    "xgb_pred = xgb_pipeline.predict(X_test)\n",
    "\n",
    "# Compare results\n",
    "results = pd.DataFrame({\n",
    "    'Model': ['Linear Regression', 'Random Forest', 'XGBoost'],\n",
    "    'R2 Score': [\n",
    "        r2_score(y_test, lr_pred),\n",
    "        r2_score(y_test, rf_pred),\n",
    "        r2_score(y_test, xgb_pred)\n",
    "    ],\n",
    "    'RMSE': [\n",
    "        np.sqrt(mean_squared_error(y_test, lr_pred)),\n",
    "        np.sqrt(mean_squared_error(y_test, rf_pred)),\n",
    "        np.sqrt(mean_squared_error(y_test, xgb_pred))\n",
    "    ]\n",
    "})\n",
    "\n",
    "results"
   ]
  },
  {
   "cell_type": "markdown",
   "metadata": {},
   "source": [
    "## 2. Long-Short Portfolio Backtest"
   ]
  },
  {
   "cell_type": "code",
   "execution_count": null,
   "metadata": {},
   "outputs": [
    {
     "data": {
      "text/html": [
       "<div>\n",
       "<style scoped>\n",
       "    .dataframe tbody tr th:only-of-type {\n",
       "        vertical-align: middle;\n",
       "    }\n",
       "\n",
       "    .dataframe tbody tr th {\n",
       "        vertical-align: top;\n",
       "    }\n",
       "\n",
       "    .dataframe thead th {\n",
       "        text-align: right;\n",
       "    }\n",
       "</style>\n",
       "<table border=\"1\" class=\"dataframe\">\n",
       "  <thead>\n",
       "    <tr style=\"text-align: right;\">\n",
       "      <th></th>\n",
       "      <th>1M_Return</th>\n",
       "      <th>3M_Return</th>\n",
       "      <th>6M_Return</th>\n",
       "      <th>12M_Return</th>\n",
       "    </tr>\n",
       "  </thead>\n",
       "  <tbody>\n",
       "    <tr>\n",
       "      <th>Return</th>\n",
       "      <td>-0.009911</td>\n",
       "      <td>0.002694</td>\n",
       "      <td>-0.003328</td>\n",
       "      <td>0.144211</td>\n",
       "    </tr>\n",
       "    <tr>\n",
       "      <th>Sharpe Ratio</th>\n",
       "      <td>NaN</td>\n",
       "      <td>NaN</td>\n",
       "      <td>NaN</td>\n",
       "      <td>NaN</td>\n",
       "    </tr>\n",
       "  </tbody>\n",
       "</table>\n",
       "</div>"
      ],
      "text/plain": [
       "              1M_Return  3M_Return  6M_Return  12M_Return\n",
       "Return        -0.009911   0.002694  -0.003328    0.144211\n",
       "Sharpe Ratio        NaN        NaN        NaN         NaN"
      ]
     },
     "execution_count": 14,
     "metadata": {},
     "output_type": "execute_result"
    }
   ],
   "source": [
    "def create_long_short_portfolio(df, percentile=30):\n",
    "    \"\"\"Create long-short portfolio based on ESG scores\"\"\"\n",
    "    # Sort by ESG score\n",
    "    df_sorted = df.sort_values('totalEsg', ascending=False)\n",
    "    \n",
    "    # Calculate cutoff points\n",
    "    n_stocks = len(df_sorted)\n",
    "    top_n = int(n_stocks * (percentile/100))\n",
    "    \n",
    "    # Create portfolios\n",
    "    long_portfolio = df_sorted.head(top_n)\n",
    "    short_portfolio = df_sorted.tail(top_n)\n",
    "    \n",
    "    # Calculate portfolio returns\n",
    "    return_periods = ['1M_Return', '3M_Return', '6M_Return', '12M_Return']\n",
    "    portfolio_returns = pd.DataFrame()\n",
    "    \n",
    "    for period in return_periods:\n",
    "        long_return = long_portfolio[period].mean()\n",
    "        short_return = short_portfolio[period].mean()\n",
    "        ls_return = long_return - short_return\n",
    "        \n",
    "        portfolio_returns[period] = [ls_return]\n",
    "    \n",
    "    return portfolio_returns, long_portfolio, short_portfolio\n",
    "\n",
    "# Create portfolios\n",
    "portfolio_returns, long_portfolio, short_portfolio = create_long_short_portfolio(df)\n",
    "\n",
    "# Calculate performance metrics\n",
    "def calculate_portfolio_metrics(returns):\n",
    "    \"\"\"Calculate portfolio performance metrics\"\"\"\n",
    "    metrics = pd.DataFrame()\n",
    "    \n",
    "    for col in returns.columns:\n",
    "        ret = returns[col].iloc[0]\n",
    "        metrics[col] = [\n",
    "            ret,  # Return\n",
    "            ret / returns[col].std()  # Sharpe (simplified)\n",
    "        ]\n",
    "    \n",
    "    metrics.index = ['Return', 'Sharpe Ratio']\n",
    "    return metrics\n",
    "\n",
    "portfolio_metrics = calculate_portfolio_metrics(portfolio_returns)\n",
    "portfolio_metrics"
   ]
  },
  {
   "cell_type": "markdown",
   "metadata": {},
   "source": [
    "## 3. Sector-Level Signal Detection"
   ]
  },
  {
   "cell_type": "code",
   "execution_count": null,
   "metadata": {},
   "outputs": [
    {
     "data": {
      "text/html": [
       "<div>\n",
       "<style scoped>\n",
       "    .dataframe tbody tr th:only-of-type {\n",
       "        vertical-align: middle;\n",
       "    }\n",
       "\n",
       "    .dataframe tbody tr th {\n",
       "        vertical-align: top;\n",
       "    }\n",
       "\n",
       "    .dataframe thead th {\n",
       "        text-align: right;\n",
       "    }\n",
       "</style>\n",
       "<table border=\"1\" class=\"dataframe\">\n",
       "  <thead>\n",
       "    <tr style=\"text-align: right;\">\n",
       "      <th></th>\n",
       "      <th>Sector</th>\n",
       "      <th>R2</th>\n",
       "      <th>Coefficient</th>\n",
       "      <th>N_Stocks</th>\n",
       "    </tr>\n",
       "  </thead>\n",
       "  <tbody>\n",
       "    <tr>\n",
       "      <th>10</th>\n",
       "      <td>Energy</td>\n",
       "      <td>0.555794</td>\n",
       "      <td>0.024020</td>\n",
       "      <td>7</td>\n",
       "    </tr>\n",
       "    <tr>\n",
       "      <th>6</th>\n",
       "      <td>Utilities</td>\n",
       "      <td>0.114002</td>\n",
       "      <td>0.011131</td>\n",
       "      <td>11</td>\n",
       "    </tr>\n",
       "    <tr>\n",
       "      <th>3</th>\n",
       "      <td>Consumer Discretionary</td>\n",
       "      <td>0.106503</td>\n",
       "      <td>-0.011010</td>\n",
       "      <td>21</td>\n",
       "    </tr>\n",
       "    <tr>\n",
       "      <th>5</th>\n",
       "      <td>Communication Services</td>\n",
       "      <td>0.067256</td>\n",
       "      <td>0.016630</td>\n",
       "      <td>5</td>\n",
       "    </tr>\n",
       "    <tr>\n",
       "      <th>0</th>\n",
       "      <td>Information Technology</td>\n",
       "      <td>0.052348</td>\n",
       "      <td>0.005832</td>\n",
       "      <td>18</td>\n",
       "    </tr>\n",
       "    <tr>\n",
       "      <th>1</th>\n",
       "      <td>Health Care</td>\n",
       "      <td>0.032883</td>\n",
       "      <td>0.009428</td>\n",
       "      <td>21</td>\n",
       "    </tr>\n",
       "    <tr>\n",
       "      <th>7</th>\n",
       "      <td>Materials</td>\n",
       "      <td>0.031533</td>\n",
       "      <td>0.005357</td>\n",
       "      <td>14</td>\n",
       "    </tr>\n",
       "    <tr>\n",
       "      <th>4</th>\n",
       "      <td>Consumer Staples</td>\n",
       "      <td>0.015222</td>\n",
       "      <td>0.005054</td>\n",
       "      <td>16</td>\n",
       "    </tr>\n",
       "    <tr>\n",
       "      <th>9</th>\n",
       "      <td>Industrials</td>\n",
       "      <td>0.014449</td>\n",
       "      <td>-0.004410</td>\n",
       "      <td>25</td>\n",
       "    </tr>\n",
       "    <tr>\n",
       "      <th>8</th>\n",
       "      <td>Real Estate</td>\n",
       "      <td>0.007950</td>\n",
       "      <td>0.006716</td>\n",
       "      <td>13</td>\n",
       "    </tr>\n",
       "    <tr>\n",
       "      <th>2</th>\n",
       "      <td>Financials</td>\n",
       "      <td>0.001422</td>\n",
       "      <td>0.001564</td>\n",
       "      <td>25</td>\n",
       "    </tr>\n",
       "  </tbody>\n",
       "</table>\n",
       "</div>"
      ],
      "text/plain": [
       "                    Sector        R2  Coefficient  N_Stocks\n",
       "10                  Energy  0.555794     0.024020         7\n",
       "6                Utilities  0.114002     0.011131        11\n",
       "3   Consumer Discretionary  0.106503    -0.011010        21\n",
       "5   Communication Services  0.067256     0.016630         5\n",
       "0   Information Technology  0.052348     0.005832        18\n",
       "1              Health Care  0.032883     0.009428        21\n",
       "7                Materials  0.031533     0.005357        14\n",
       "4         Consumer Staples  0.015222     0.005054        16\n",
       "9              Industrials  0.014449    -0.004410        25\n",
       "8              Real Estate  0.007950     0.006716        13\n",
       "2               Financials  0.001422     0.001564        25"
      ]
     },
     "execution_count": 15,
     "metadata": {},
     "output_type": "execute_result"
    }
   ],
   "source": [
    "def analyze_sector_signals(df, return_period='12M_Return'):\n",
    "    \"\"\"Analyze ESG signal strength by sector\"\"\"\n",
    "    sectors = df['GIS Sector'].unique()\n",
    "    sector_results = []\n",
    "    \n",
    "    for sector in sectors:\n",
    "        sector_data = df[df['GIS Sector'] == sector]\n",
    "        \n",
    "        # Simple regression for each sector\n",
    "        X = sector_data['totalEsg'].values.reshape(-1, 1)\n",
    "        y = sector_data[return_period].values\n",
    "        \n",
    "        model = LinearRegression()\n",
    "        model.fit(X, y)\n",
    "        \n",
    "        sector_results.append({\n",
    "            'Sector': sector,\n",
    "            'R2': r2_score(y, model.predict(X)),\n",
    "            'Coefficient': model.coef_[0],\n",
    "            'N_Stocks': len(sector_data)\n",
    "        })\n",
    "    \n",
    "    return pd.DataFrame(sector_results)\n",
    "\n",
    "sector_analysis = analyze_sector_signals(df)\n",
    "sector_analysis.sort_values('R2', ascending=False)"
   ]
  },
  {
   "cell_type": "markdown",
   "metadata": {},
   "source": [
    "## 4. Clustering Analysis"
   ]
  },
  {
   "cell_type": "code",
   "execution_count": null,
   "metadata": {},
   "outputs": [
    {
     "data": {
      "application/vnd.plotly.v1+json": {
       "config": {
        "plotlyServerURL": "https://plot.ly"
       },
       "data": [
        {
         "customdata": [
          [
           "CSCO",
           "Information Technology"
          ],
          [
           "ISRG",
           "Health Care"
          ],
          [
           "GILD",
           "Health Care"
          ],
          [
           "V",
           "Financials"
          ],
          [
           "A",
           "Health Care"
          ],
          [
           "MCHP",
           "Information Technology"
          ],
          [
           "BBY",
           "Consumer Discretionary"
          ],
          [
           "WBA",
           "Consumer Staples"
          ],
          [
           "AJG",
           "Financials"
          ],
          [
           "T",
           "Communication Services"
          ],
          [
           "HUM",
           "Health Care"
          ],
          [
           "CFG",
           "Financials"
          ],
          [
           "ADM",
           "Consumer Staples"
          ],
          [
           "LH",
           "Health Care"
          ],
          [
           "LNT",
           "Utilities"
          ],
          [
           "BAC",
           "Financials"
          ],
          [
           "GPN",
           "Financials"
          ],
          [
           "PPG",
           "Materials"
          ],
          [
           "ADI",
           "Information Technology"
          ],
          [
           "ULTA",
           "Consumer Discretionary"
          ],
          [
           "ARE",
           "Real Estate"
          ],
          [
           "SYK",
           "Health Care"
          ],
          [
           "CB",
           "Financials"
          ],
          [
           "TSN",
           "Consumer Staples"
          ],
          [
           "REG",
           "Real Estate"
          ],
          [
           "LOW",
           "Consumer Discretionary"
          ],
          [
           "MDLZ",
           "Consumer Staples"
          ],
          [
           "FMC",
           "Materials"
          ],
          [
           "XEL",
           "Utilities"
          ],
          [
           "FAST",
           "Industrials"
          ],
          [
           "TJX",
           "Consumer Discretionary"
          ],
          [
           "MPC",
           "Energy"
          ],
          [
           "D",
           "Utilities"
          ],
          [
           "NOC",
           "Industrials"
          ],
          [
           "BXP",
           "Real Estate"
          ],
          [
           "ALLE",
           "Industrials"
          ],
          [
           "ECL",
           "Materials"
          ],
          [
           "EBAY",
           "Consumer Discretionary"
          ],
          [
           "SBUX",
           "Consumer Discretionary"
          ],
          [
           "AMT",
           "Real Estate"
          ],
          [
           "AMZN",
           "Consumer Discretionary"
          ],
          [
           "BDX",
           "Health Care"
          ],
          [
           "EXR",
           "Real Estate"
          ],
          [
           "GM",
           "Consumer Discretionary"
          ],
          [
           "TMO",
           "Health Care"
          ],
          [
           "OXY",
           "Energy"
          ],
          [
           "CCI",
           "Real Estate"
          ],
          [
           "MOS",
           "Materials"
          ],
          [
           "HSY",
           "Consumer Staples"
          ],
          [
           "JNPR",
           "Information Technology"
          ],
          [
           "ES",
           "Utilities"
          ],
          [
           "ADSK",
           "Information Technology"
          ],
          [
           "PCAR",
           "Industrials"
          ],
          [
           "WDC",
           "Information Technology"
          ],
          [
           "NEE",
           "Utilities"
          ],
          [
           "MSFT",
           "Information Technology"
          ],
          [
           "CTAS",
           "Industrials"
          ],
          [
           "UDR",
           "Real Estate"
          ],
          [
           "WEC",
           "Utilities"
          ],
          [
           "AME",
           "Industrials"
          ],
          [
           "ACN",
           "Information Technology"
          ],
          [
           "VRSN",
           "Information Technology"
          ],
          [
           "EW",
           "Health Care"
          ],
          [
           "CMG",
           "Consumer Discretionary"
          ],
          [
           "AWK",
           "Utilities"
          ],
          [
           "COO",
           "Health Care"
          ],
          [
           "SHW",
           "Materials"
          ],
          [
           "AMAT",
           "Information Technology"
          ],
          [
           "MLM",
           "Materials"
          ],
          [
           "AVY",
           "Materials"
          ],
          [
           "EA",
           "Communication Services"
          ],
          [
           "SPG",
           "Real Estate"
          ],
          [
           "URI",
           "Industrials"
          ],
          [
           "BIIB",
           "Health Care"
          ],
          [
           "CHRW",
           "Industrials"
          ],
          [
           "ROP",
           "Information Technology"
          ],
          [
           "IDXX",
           "Health Care"
          ],
          [
           "HES",
           "Energy"
          ],
          [
           "HD",
           "Consumer Discretionary"
          ],
          [
           "ALB",
           "Materials"
          ],
          [
           "DG",
           "Consumer Staples"
          ],
          [
           "CAG",
           "Consumer Staples"
          ],
          [
           "SCHW",
           "Financials"
          ],
          [
           "HPE",
           "Information Technology"
          ],
          [
           "DFS",
           "Financials"
          ],
          [
           "HRL",
           "Consumer Staples"
          ],
          [
           "SO",
           "Utilities"
          ],
          [
           "ZBH",
           "Health Care"
          ],
          [
           "AMP",
           "Financials"
          ],
          [
           "PNW",
           "Utilities"
          ],
          [
           "ICE",
           "Financials"
          ],
          [
           "BEN",
           "Financials"
          ],
          [
           "EMN",
           "Materials"
          ],
          [
           "ROK",
           "Industrials"
          ],
          [
           "FIS",
           "Financials"
          ],
          [
           "RF",
           "Financials"
          ],
          [
           "MAR",
           "Consumer Discretionary"
          ],
          [
           "XYL",
           "Industrials"
          ],
          [
           "CMI",
           "Industrials"
          ],
          [
           "PLD",
           "Real Estate"
          ],
          [
           "BSX",
           "Health Care"
          ],
          [
           "ITW",
           "Industrials"
          ],
          [
           "KMB",
           "Consumer Staples"
          ],
          [
           "EL",
           "Consumer Staples"
          ],
          [
           "PM",
           "Consumer Staples"
          ],
          [
           "MCO",
           "Financials"
          ],
          [
           "CLX",
           "Consumer Staples"
          ],
          [
           "DGX",
           "Health Care"
          ],
          [
           "NFLX",
           "Communication Services"
          ],
          [
           "FITB",
           "Financials"
          ],
          [
           "GWW",
           "Industrials"
          ],
          [
           "NTRS",
           "Financials"
          ],
          [
           "AOS",
           "Industrials"
          ],
          [
           "JPM",
           "Financials"
          ],
          [
           "ABT",
           "Health Care"
          ],
          [
           "OMC",
           "Communication Services"
          ],
          [
           "TSCO",
           "Consumer Discretionary"
          ],
          [
           "PH",
           "Industrials"
          ],
          [
           "HST",
           "Real Estate"
          ],
          [
           "JBHT",
           "Industrials"
          ],
          [
           "COP",
           "Energy"
          ],
          [
           "CNC",
           "Health Care"
          ],
          [
           "TXT",
           "Industrials"
          ],
          [
           "AKAM",
           "Information Technology"
          ],
          [
           "PAYX",
           "Industrials"
          ],
          [
           "AAL",
           "Industrials"
          ],
          [
           "MAA",
           "Real Estate"
          ],
          [
           "MMC",
           "Financials"
          ],
          [
           "CINF",
           "Financials"
          ],
          [
           "VMC",
           "Materials"
          ],
          [
           "SRE",
           "Utilities"
          ],
          [
           "ORLY",
           "Consumer Discretionary"
          ],
          [
           "IVZ",
           "Financials"
          ],
          [
           "RCL",
           "Consumer Discretionary"
          ],
          [
           "SNPS",
           "Information Technology"
          ],
          [
           "YUM",
           "Consumer Discretionary"
          ],
          [
           "VZ",
           "Communication Services"
          ],
          [
           "JCI",
           "Industrials"
          ],
          [
           "AMGN",
           "Health Care"
          ],
          [
           "TEL",
           "Information Technology"
          ],
          [
           "ADP",
           "Industrials"
          ],
          [
           "STT",
           "Financials"
          ],
          [
           "IFF",
           "Materials"
          ],
          [
           "LYB",
           "Materials"
          ],
          [
           "GIS",
           "Consumer Staples"
          ],
          [
           "PHM",
           "Consumer Discretionary"
          ],
          [
           "CPB",
           "Consumer Staples"
          ],
          [
           "SYF",
           "Financials"
          ],
          [
           "CHD",
           "Consumer Staples"
          ],
          [
           "APA",
           "Energy"
          ],
          [
           "K",
           "Consumer Staples"
          ],
          [
           "NI",
           "Utilities"
          ],
          [
           "NCLH",
           "Consumer Discretionary"
          ],
          [
           "HBAN",
           "Financials"
          ],
          [
           "PRU",
           "Financials"
          ],
          [
           "GPC",
           "Consumer Discretionary"
          ],
          [
           "WMB",
           "Energy"
          ],
          [
           "DVA",
           "Health Care"
          ],
          [
           "O",
           "Real Estate"
          ],
          [
           "SLB",
           "Energy"
          ],
          [
           "APD",
           "Materials"
          ],
          [
           "HAS",
           "Consumer Discretionary"
          ],
          [
           "NTAP",
           "Information Technology"
          ],
          [
           "KIM",
           "Real Estate"
          ],
          [
           "BAX",
           "Health Care"
          ],
          [
           "WYNN",
           "Consumer Discretionary"
          ],
          [
           "EFX",
           "Industrials"
          ],
          [
           "PKG",
           "Materials"
          ],
          [
           "CTSH",
           "Information Technology"
          ],
          [
           "SWK",
           "Industrials"
          ],
          [
           "TRV",
           "Financials"
          ],
          [
           "WM",
           "Industrials"
          ],
          [
           "DOV",
           "Industrials"
          ],
          [
           "CRM",
           "Information Technology"
          ],
          [
           "WAT",
           "Health Care"
          ],
          [
           "BWA",
           "Consumer Discretionary"
          ]
         ],
         "hovertemplate": "totalEsg=%{x}<br>12M_Return=%{y}<br>Ticker=%{customdata[0]}<br>GIS Sector=%{customdata[1]}<br>Cluster=%{marker.color}<extra></extra>",
         "legendgroup": "",
         "marker": {
          "color": {
           "bdata": "AAAAAAAAAAACAAAAAAAAAAMAAAABAAAAAAAAAAAAAAACAAAAAgAAAAIAAAACAAAABAAAAAAAAAABAAAAAgAAAAAAAAABAAAAAQAAAAMAAAADAAAAAgAAAAIAAAABAAAAAwAAAAMAAAABAAAAAQAAAAEAAAABAAAAAwAAAAQAAAABAAAAAQAAAAMAAAABAAAAAAAAAAAAAAABAAAAAwAAAAIAAAACAAAAAwAAAAEAAAADAAAABAAAAAMAAAABAAAAAQAAAAAAAAAAAAAAAAAAAAEAAAADAAAAAQAAAAAAAAAAAAAAAwAAAAEAAAABAAAAAwAAAAAAAAAAAAAAAAAAAAEAAAAAAAAAAQAAAAMAAAABAAAAAwAAAAAAAAADAAAAAwAAAAIAAAAAAAAAAAAAAAAAAAAEAAAAAwAAAAEAAAAAAAAAAQAAAAIAAAADAAAAAgAAAAEAAAABAAAAAgAAAAIAAAABAAAAAAAAAAAAAAABAAAAAAAAAAAAAAAAAAAAAQAAAAAAAAAAAAAAAwAAAAIAAAABAAAAAQAAAAEAAAACAAAAAAAAAAEAAAACAAAAAAAAAAAAAAADAAAAAgAAAAEAAAACAAAAAgAAAAAAAAAAAAAAAQAAAAMAAAADAAAABAAAAAIAAAABAAAAAAAAAAAAAAABAAAAAwAAAAIAAAACAAAAAQAAAAEAAAADAAAAAgAAAAAAAAADAAAAAAAAAAAAAAADAAAAAgAAAAMAAAADAAAAAgAAAAEAAAADAAAAAQAAAAEAAAABAAAAAAAAAAAAAAAEAAAAAQAAAAEAAAABAAAAAgAAAAIAAAADAAAAAQAAAAIAAAADAAAAAQAAAAMAAAADAAAAAAAAAAMAAAACAAAAAgAAAAIAAAADAAAAAAAAAAAAAAACAAAAAwAAAAEAAAAAAAAAAAAAAAMAAAA=",
           "dtype": "i4"
          },
          "coloraxis": "coloraxis",
          "symbol": "circle"
         },
         "mode": "markers",
         "name": "",
         "orientation": "v",
         "showlegend": false,
         "type": "scatter",
         "x": {
          "bdata": "PQrXo3C9K0BSuB6F6xE1QLgehetR+DZArkfhehSuMEBI4XoUrkcrQFK4HoXr0T9ASOF6FK7HL0AAAAAAAEAwQClcj8L1KDVAKVyPwvXoN0C4HoXrUXg2QArXo3A9ijdACtejcD3KP0A9CtejcL0zQFyPwvUoXDVAzczMzMxMPEAfhetRuN40QPYoXI/CNTlA7FG4HoXrNkC4HoXrUTgvQEjhehSuxytAw/UoXI9CPECamZmZmZk3QPYoXI/C9UFA7FG4HoVrJ0CPwvUoXI8nQIXrUbgeBTZAexSuR+G6PkAzMzMzM3M6QOxRuB6FqzhAw/UoXI/CLEA9CtejcH0+QGZmZmZmZjpASOF6FK6HO0CF61G4HgUpQEjhehSuxzVAXI/C9SjcM0CamZmZmZkxQOxRuB6FqzhAzczMzMzMJUBcj8L1KJw+QFK4HoXr0TdAZmZmZmZmLkAAAAAAAIA8QB+F61G4nilAFK5H4XrUREAzMzMzMzMkQMP1KFyPwkBAzczMzMwMOkCkcD0K16MtQB+F61G4njJAw/UoXI/CMECkcD0K16M7QFyPwvUo3CZAhetRuB5FN0AfhetRuB4uQBSuR+F6FDJA16NwPQrXK0D2KFyPwnU7QGZmZmZm5jdArkfhehSuI0DNzMzMzEw1QFK4HoXrkTJAKVyPwvWoNEAfhetRuJ41QLgehetReDFAmpmZmZlZPUB7FK5H4XopQB+F61G4Hj5AUrgehesRMEAUrkfhepQqQPYoXI/C9StAXI/C9SjcMEA9CtejcD02QFK4HoXrUTNAcT0K16NwNEApXI/C9agyQK5H4XoUjkBASOF6FK5HKUBSuB6F65E6QNejcD0KlzFAFK5H4XrUPkBI4XoUrkc3QOF6FK5HYSVAAAAAAACANkAAAAAAAAA+QD0K16NwfUBAhetRuB4FOkCF61G4HkU0QArXo3A9yj5ASOF6FK7HM0DNzMzMzEwyQIXrUbgeRTlA7FG4HoWrMUB7FK5H4XoxQJqZmZmZ2TBArkfhehRuNUDhehSuRyEyQM3MzMzMTDNACtejcD2KJEBcj8L1KBw3QArXo3A9SjlAexSuR+F6PEB7FK5H4Xo5QDMzMzMzczxApHA9CtejL0DhehSuR6E1QPYoXI/CNTVAKVyPwvVoMEDXo3A9CtcwQAAAAAAAADBAXI/C9SjcN0BxPQrXo3A5QMP1KFyPQj1AFK5H4XrUOEBI4XoUrkcwQJqZmZmZGTBAexSuR+F6PUAzMzMzM7MqQKRwPQrXoy1AFK5H4Xr0QECkcD0K1+MzQK5H4XoUzkBAw/UoXI8CMUB7FK5H4bowQJqZmZmZWTpArkfhehQuKkBSuB6F6xE1QFyPwvUonDlASOF6FK5HPUDXo3A9Cpc3QJqZmZmZGShACtejcD3KNkD2KFyPwrU0QNejcD0K1yxAmpmZmZkZNEB7FK5H4boyQFyPwvUo3CxA9ihcj8L1NUCamZmZmZktQKRwPQrXoytAFK5H4XoUOEBxPQrXo7A2QHE9CtejsDRA4XoUrkchNUDsUbgehWs1QAAAAAAAgDdASOF6FK5HMUBcj8L1KNwzQEjhehSuZ0NAH4XrUbhePECF61G4HgU6QHE9Ctej8DlA16NwPQrXNUApXI/C9egzQFK4HoXrUStAUrgehevRNUCPwvUoXI82QHE9Ctej8C5ASOF6FK5HNECF61G4HoUoQFK4HoXrURxAXI/C9SjcLkDNzMzMzMwlQFK4HoXrkTdAMzMzMzOzOUApXI/C9Sg3QKRwPQrXozJAUrgehetRLUCPwvUoXE85QBSuR+F6VDRAZmZmZmamMEDhehSuR+E5QMP1KFyPwi1APQrXo3A9LUCuR+F6FC4pQA==",
          "dtype": "f8"
         },
         "xaxis": "x",
         "y": {
          "bdata": "JHsGotI+6j+4U99OGDfpPzCsuwLFAvQ/brYuMdn+7z+dQmcB6tLvP9pW/5vcE+w/Q6R+x/Q46T+yySabTFHqP4rDVyWkJvI/R3YQo6PN8T9W6QWMMGjyP4LnLFrbCOs/oqgmF1499z9nnw7tOVXpPyQeJtl2Ue4/gA5Fn1pm5z81PB4XtjLpP+PdRrDTouk/DqOQEJN/7T8bhFodDqLyP1yeFXrja+Y/Q0u3op+E7j/oN5qPkRHyPzcjff6iKeg/Rcz0kGGJ7D/y/K1g3MboP1ZkL79qPvE/Lt/BR+eV8j+pa5wQufXwPwmNjSRuhuk/pJhrDmrG8D87rAP9X037P67mR3U9qOg/yIlXA2TG9j++OqzPoZriP/B8cx9nguo/5pbL2Y6u5D/f9E4Pg7/kP5HX3H3e8+s/iqXY+Joj6T9NAvhQHnLgP24Ahe+wv/A/brWSD2oZ6D9EN5OYfozjP8tPYrwmNew/DYaF67O2AEDEo3b11i/nP9ues72mf/Q/Evsnrr5I9D+Jh4eHQ4vuP/twfK79w+4/Uw06DxCS5z/eAY/M4zLyPwBi2p8Xy+M/UKRQTHxp7j84T3zbzGznP4Eu5KMF0O8/J0TrHtXX5T+bVoRYtYjwP8H9vqJve+8/J3MFyIOR6D8T3V8VqafpP8IdOK6d0uM/+7iHebug7D/KHF20pHfsP2UupyGZNuk/B6WsZTIT5z8t6TknW4vmP/Bmed4QuOk/1OB5ue+M6j9MJTqMa4XvP+PrDYWSfug/1hiZM3Rk8D9jQsriNa7zP0vcYHwSWO0/Hfa8/IlD7T8XalgMiC3mP1SkoPGGBPs/l3Hgyfzw6D8OT248F7LvP2D86iFcqvE/ZRnXegsO8z/IhJMnerTvPxZVFslBCfE/pe9yJYew7D+96U1v5EHwP3nDz42FPfE/H823SpqS8D/px7NrlFPxPwy9H1C3zvI/u+dIBl2E6D/EzBq0ShvpP11QOOV7Wuc/hcVXG7Cn5z++VZriN6zlPxMJFuxyBvA/pJq7z3kg8D/zaxsbO/zsP/7+7yZWkfE/8YMHaWpz5z9VTRZ3Iy7yP3zVpgZ1Ju0/9gDZSbnp7z8w+zSsDGXlP7VShd3LHfI/UOlaDTtB5z+aznge3yDsP2JKk81xtO0/JFgAYqBQ4D9WYUyIDivoP7G2aSVGQvI/ao+EANXk5z8dNA1OaBnmP8gw7RfMtuo/rjPVzmTi6T+n3TvPsj3xP0C/XbjGSO0/gcCfhLYt7T9qJQalWUbxP/Mni62UR+0/nSCHOhRM+D9gGIxYqKzxP9HNkYKgaO4/yQ19TVNz6T+oax/z6BjvP0EdthuIsug/DOIMPFTH5z8nf6VXrufvP0eMKmfnHO0/57O/FoI77D8nE1jnJYb0P+VYYeMXW/M/O5OcttKo6T+8F94LbyXoP/7wTJtXdu0//PuHL2Cs7j+wPcYLg/vnP9EPeQ6DN+o/rmVwCQrl9D9sVW5EKFzoPy3f0tT+p/E/QX4BgtEo6z/jf1fuo0nnP5rXRr6UDe0/o5u5EZ9m9T/Hya/YcCvpP4DJ7lyD2/Q/HqBaSvJ65z8AZzGp6tbqP281WKEWPPo/IRLc6ruy8j8l3eQHbgXxPx/YtEG6MOc/YWh8d6Rt7j/ug/lA29/tP5CCKEseTPU//N9euNKm8z/DJCnKaLvmP/bSQnuqzu4/4CXVrCvQ+D/uJcrZkhXxP5utroqo2eI/+h5nYfo45z/N95i+pzzuP9+Td9TBweQ/ee5JSbpk7z8sc1zqjYvlP2RXOPI71/A/Md0rXazN5j+N7QldKO/ZPzgcXNL9RPM/ZTdWeJAi8D8+HHplj9jpP9gQ12pmE+A/EEvGGVPf7z8jTgOTPVTsPw==",
          "dtype": "f8"
         },
         "yaxis": "y"
        }
       ],
       "layout": {
        "coloraxis": {
         "colorbar": {
          "title": {
           "text": "Cluster"
          }
         },
         "colorscale": [
          [
           0,
           "#0d0887"
          ],
          [
           0.1111111111111111,
           "#46039f"
          ],
          [
           0.2222222222222222,
           "#7201a8"
          ],
          [
           0.3333333333333333,
           "#9c179e"
          ],
          [
           0.4444444444444444,
           "#bd3786"
          ],
          [
           0.5555555555555556,
           "#d8576b"
          ],
          [
           0.6666666666666666,
           "#ed7953"
          ],
          [
           0.7777777777777778,
           "#fb9f3a"
          ],
          [
           0.8888888888888888,
           "#fdca26"
          ],
          [
           1,
           "#f0f921"
          ]
         ]
        },
        "legend": {
         "tracegroupgap": 0
        },
        "template": {
         "data": {
          "bar": [
           {
            "error_x": {
             "color": "#2a3f5f"
            },
            "error_y": {
             "color": "#2a3f5f"
            },
            "marker": {
             "line": {
              "color": "#E5ECF6",
              "width": 0.5
             },
             "pattern": {
              "fillmode": "overlay",
              "size": 10,
              "solidity": 0.2
             }
            },
            "type": "bar"
           }
          ],
          "barpolar": [
           {
            "marker": {
             "line": {
              "color": "#E5ECF6",
              "width": 0.5
             },
             "pattern": {
              "fillmode": "overlay",
              "size": 10,
              "solidity": 0.2
             }
            },
            "type": "barpolar"
           }
          ],
          "carpet": [
           {
            "aaxis": {
             "endlinecolor": "#2a3f5f",
             "gridcolor": "white",
             "linecolor": "white",
             "minorgridcolor": "white",
             "startlinecolor": "#2a3f5f"
            },
            "baxis": {
             "endlinecolor": "#2a3f5f",
             "gridcolor": "white",
             "linecolor": "white",
             "minorgridcolor": "white",
             "startlinecolor": "#2a3f5f"
            },
            "type": "carpet"
           }
          ],
          "choropleth": [
           {
            "colorbar": {
             "outlinewidth": 0,
             "ticks": ""
            },
            "type": "choropleth"
           }
          ],
          "contour": [
           {
            "colorbar": {
             "outlinewidth": 0,
             "ticks": ""
            },
            "colorscale": [
             [
              0,
              "#0d0887"
             ],
             [
              0.1111111111111111,
              "#46039f"
             ],
             [
              0.2222222222222222,
              "#7201a8"
             ],
             [
              0.3333333333333333,
              "#9c179e"
             ],
             [
              0.4444444444444444,
              "#bd3786"
             ],
             [
              0.5555555555555556,
              "#d8576b"
             ],
             [
              0.6666666666666666,
              "#ed7953"
             ],
             [
              0.7777777777777778,
              "#fb9f3a"
             ],
             [
              0.8888888888888888,
              "#fdca26"
             ],
             [
              1,
              "#f0f921"
             ]
            ],
            "type": "contour"
           }
          ],
          "contourcarpet": [
           {
            "colorbar": {
             "outlinewidth": 0,
             "ticks": ""
            },
            "type": "contourcarpet"
           }
          ],
          "heatmap": [
           {
            "colorbar": {
             "outlinewidth": 0,
             "ticks": ""
            },
            "colorscale": [
             [
              0,
              "#0d0887"
             ],
             [
              0.1111111111111111,
              "#46039f"
             ],
             [
              0.2222222222222222,
              "#7201a8"
             ],
             [
              0.3333333333333333,
              "#9c179e"
             ],
             [
              0.4444444444444444,
              "#bd3786"
             ],
             [
              0.5555555555555556,
              "#d8576b"
             ],
             [
              0.6666666666666666,
              "#ed7953"
             ],
             [
              0.7777777777777778,
              "#fb9f3a"
             ],
             [
              0.8888888888888888,
              "#fdca26"
             ],
             [
              1,
              "#f0f921"
             ]
            ],
            "type": "heatmap"
           }
          ],
          "histogram": [
           {
            "marker": {
             "pattern": {
              "fillmode": "overlay",
              "size": 10,
              "solidity": 0.2
             }
            },
            "type": "histogram"
           }
          ],
          "histogram2d": [
           {
            "colorbar": {
             "outlinewidth": 0,
             "ticks": ""
            },
            "colorscale": [
             [
              0,
              "#0d0887"
             ],
             [
              0.1111111111111111,
              "#46039f"
             ],
             [
              0.2222222222222222,
              "#7201a8"
             ],
             [
              0.3333333333333333,
              "#9c179e"
             ],
             [
              0.4444444444444444,
              "#bd3786"
             ],
             [
              0.5555555555555556,
              "#d8576b"
             ],
             [
              0.6666666666666666,
              "#ed7953"
             ],
             [
              0.7777777777777778,
              "#fb9f3a"
             ],
             [
              0.8888888888888888,
              "#fdca26"
             ],
             [
              1,
              "#f0f921"
             ]
            ],
            "type": "histogram2d"
           }
          ],
          "histogram2dcontour": [
           {
            "colorbar": {
             "outlinewidth": 0,
             "ticks": ""
            },
            "colorscale": [
             [
              0,
              "#0d0887"
             ],
             [
              0.1111111111111111,
              "#46039f"
             ],
             [
              0.2222222222222222,
              "#7201a8"
             ],
             [
              0.3333333333333333,
              "#9c179e"
             ],
             [
              0.4444444444444444,
              "#bd3786"
             ],
             [
              0.5555555555555556,
              "#d8576b"
             ],
             [
              0.6666666666666666,
              "#ed7953"
             ],
             [
              0.7777777777777778,
              "#fb9f3a"
             ],
             [
              0.8888888888888888,
              "#fdca26"
             ],
             [
              1,
              "#f0f921"
             ]
            ],
            "type": "histogram2dcontour"
           }
          ],
          "mesh3d": [
           {
            "colorbar": {
             "outlinewidth": 0,
             "ticks": ""
            },
            "type": "mesh3d"
           }
          ],
          "parcoords": [
           {
            "line": {
             "colorbar": {
              "outlinewidth": 0,
              "ticks": ""
             }
            },
            "type": "parcoords"
           }
          ],
          "pie": [
           {
            "automargin": true,
            "type": "pie"
           }
          ],
          "scatter": [
           {
            "fillpattern": {
             "fillmode": "overlay",
             "size": 10,
             "solidity": 0.2
            },
            "type": "scatter"
           }
          ],
          "scatter3d": [
           {
            "line": {
             "colorbar": {
              "outlinewidth": 0,
              "ticks": ""
             }
            },
            "marker": {
             "colorbar": {
              "outlinewidth": 0,
              "ticks": ""
             }
            },
            "type": "scatter3d"
           }
          ],
          "scattercarpet": [
           {
            "marker": {
             "colorbar": {
              "outlinewidth": 0,
              "ticks": ""
             }
            },
            "type": "scattercarpet"
           }
          ],
          "scattergeo": [
           {
            "marker": {
             "colorbar": {
              "outlinewidth": 0,
              "ticks": ""
             }
            },
            "type": "scattergeo"
           }
          ],
          "scattergl": [
           {
            "marker": {
             "colorbar": {
              "outlinewidth": 0,
              "ticks": ""
             }
            },
            "type": "scattergl"
           }
          ],
          "scattermap": [
           {
            "marker": {
             "colorbar": {
              "outlinewidth": 0,
              "ticks": ""
             }
            },
            "type": "scattermap"
           }
          ],
          "scattermapbox": [
           {
            "marker": {
             "colorbar": {
              "outlinewidth": 0,
              "ticks": ""
             }
            },
            "type": "scattermapbox"
           }
          ],
          "scatterpolar": [
           {
            "marker": {
             "colorbar": {
              "outlinewidth": 0,
              "ticks": ""
             }
            },
            "type": "scatterpolar"
           }
          ],
          "scatterpolargl": [
           {
            "marker": {
             "colorbar": {
              "outlinewidth": 0,
              "ticks": ""
             }
            },
            "type": "scatterpolargl"
           }
          ],
          "scatterternary": [
           {
            "marker": {
             "colorbar": {
              "outlinewidth": 0,
              "ticks": ""
             }
            },
            "type": "scatterternary"
           }
          ],
          "surface": [
           {
            "colorbar": {
             "outlinewidth": 0,
             "ticks": ""
            },
            "colorscale": [
             [
              0,
              "#0d0887"
             ],
             [
              0.1111111111111111,
              "#46039f"
             ],
             [
              0.2222222222222222,
              "#7201a8"
             ],
             [
              0.3333333333333333,
              "#9c179e"
             ],
             [
              0.4444444444444444,
              "#bd3786"
             ],
             [
              0.5555555555555556,
              "#d8576b"
             ],
             [
              0.6666666666666666,
              "#ed7953"
             ],
             [
              0.7777777777777778,
              "#fb9f3a"
             ],
             [
              0.8888888888888888,
              "#fdca26"
             ],
             [
              1,
              "#f0f921"
             ]
            ],
            "type": "surface"
           }
          ],
          "table": [
           {
            "cells": {
             "fill": {
              "color": "#EBF0F8"
             },
             "line": {
              "color": "white"
             }
            },
            "header": {
             "fill": {
              "color": "#C8D4E3"
             },
             "line": {
              "color": "white"
             }
            },
            "type": "table"
           }
          ]
         },
         "layout": {
          "annotationdefaults": {
           "arrowcolor": "#2a3f5f",
           "arrowhead": 0,
           "arrowwidth": 1
          },
          "autotypenumbers": "strict",
          "coloraxis": {
           "colorbar": {
            "outlinewidth": 0,
            "ticks": ""
           }
          },
          "colorscale": {
           "diverging": [
            [
             0,
             "#8e0152"
            ],
            [
             0.1,
             "#c51b7d"
            ],
            [
             0.2,
             "#de77ae"
            ],
            [
             0.3,
             "#f1b6da"
            ],
            [
             0.4,
             "#fde0ef"
            ],
            [
             0.5,
             "#f7f7f7"
            ],
            [
             0.6,
             "#e6f5d0"
            ],
            [
             0.7,
             "#b8e186"
            ],
            [
             0.8,
             "#7fbc41"
            ],
            [
             0.9,
             "#4d9221"
            ],
            [
             1,
             "#276419"
            ]
           ],
           "sequential": [
            [
             0,
             "#0d0887"
            ],
            [
             0.1111111111111111,
             "#46039f"
            ],
            [
             0.2222222222222222,
             "#7201a8"
            ],
            [
             0.3333333333333333,
             "#9c179e"
            ],
            [
             0.4444444444444444,
             "#bd3786"
            ],
            [
             0.5555555555555556,
             "#d8576b"
            ],
            [
             0.6666666666666666,
             "#ed7953"
            ],
            [
             0.7777777777777778,
             "#fb9f3a"
            ],
            [
             0.8888888888888888,
             "#fdca26"
            ],
            [
             1,
             "#f0f921"
            ]
           ],
           "sequentialminus": [
            [
             0,
             "#0d0887"
            ],
            [
             0.1111111111111111,
             "#46039f"
            ],
            [
             0.2222222222222222,
             "#7201a8"
            ],
            [
             0.3333333333333333,
             "#9c179e"
            ],
            [
             0.4444444444444444,
             "#bd3786"
            ],
            [
             0.5555555555555556,
             "#d8576b"
            ],
            [
             0.6666666666666666,
             "#ed7953"
            ],
            [
             0.7777777777777778,
             "#fb9f3a"
            ],
            [
             0.8888888888888888,
             "#fdca26"
            ],
            [
             1,
             "#f0f921"
            ]
           ]
          },
          "colorway": [
           "#636efa",
           "#EF553B",
           "#00cc96",
           "#ab63fa",
           "#FFA15A",
           "#19d3f3",
           "#FF6692",
           "#B6E880",
           "#FF97FF",
           "#FECB52"
          ],
          "font": {
           "color": "#2a3f5f"
          },
          "geo": {
           "bgcolor": "white",
           "lakecolor": "white",
           "landcolor": "#E5ECF6",
           "showlakes": true,
           "showland": true,
           "subunitcolor": "white"
          },
          "hoverlabel": {
           "align": "left"
          },
          "hovermode": "closest",
          "mapbox": {
           "style": "light"
          },
          "paper_bgcolor": "white",
          "plot_bgcolor": "#E5ECF6",
          "polar": {
           "angularaxis": {
            "gridcolor": "white",
            "linecolor": "white",
            "ticks": ""
           },
           "bgcolor": "#E5ECF6",
           "radialaxis": {
            "gridcolor": "white",
            "linecolor": "white",
            "ticks": ""
           }
          },
          "scene": {
           "xaxis": {
            "backgroundcolor": "#E5ECF6",
            "gridcolor": "white",
            "gridwidth": 2,
            "linecolor": "white",
            "showbackground": true,
            "ticks": "",
            "zerolinecolor": "white"
           },
           "yaxis": {
            "backgroundcolor": "#E5ECF6",
            "gridcolor": "white",
            "gridwidth": 2,
            "linecolor": "white",
            "showbackground": true,
            "ticks": "",
            "zerolinecolor": "white"
           },
           "zaxis": {
            "backgroundcolor": "#E5ECF6",
            "gridcolor": "white",
            "gridwidth": 2,
            "linecolor": "white",
            "showbackground": true,
            "ticks": "",
            "zerolinecolor": "white"
           }
          },
          "shapedefaults": {
           "line": {
            "color": "#2a3f5f"
           }
          },
          "ternary": {
           "aaxis": {
            "gridcolor": "white",
            "linecolor": "white",
            "ticks": ""
           },
           "baxis": {
            "gridcolor": "white",
            "linecolor": "white",
            "ticks": ""
           },
           "bgcolor": "#E5ECF6",
           "caxis": {
            "gridcolor": "white",
            "linecolor": "white",
            "ticks": ""
           }
          },
          "title": {
           "x": 0.05
          },
          "xaxis": {
           "automargin": true,
           "gridcolor": "white",
           "linecolor": "white",
           "ticks": "",
           "title": {
            "standoff": 15
           },
           "zerolinecolor": "white",
           "zerolinewidth": 2
          },
          "yaxis": {
           "automargin": true,
           "gridcolor": "white",
           "linecolor": "white",
           "ticks": "",
           "title": {
            "standoff": 15
           },
           "zerolinecolor": "white",
           "zerolinewidth": 2
          }
         }
        },
        "title": {
         "text": "Stock Clusters based on ESG and Returns"
        },
        "xaxis": {
         "anchor": "y",
         "domain": [
          0,
          1
         ],
         "title": {
          "text": "totalEsg"
         }
        },
        "yaxis": {
         "anchor": "x",
         "domain": [
          0,
          1
         ],
         "title": {
          "text": "12M_Return"
         }
        }
       }
      }
     },
     "metadata": {},
     "output_type": "display_data"
    },
    {
     "data": {
      "text/html": [
       "<div>\n",
       "<style scoped>\n",
       "    .dataframe tbody tr th:only-of-type {\n",
       "        vertical-align: middle;\n",
       "    }\n",
       "\n",
       "    .dataframe tbody tr th {\n",
       "        vertical-align: top;\n",
       "    }\n",
       "\n",
       "    .dataframe thead th {\n",
       "        text-align: right;\n",
       "    }\n",
       "</style>\n",
       "<table border=\"1\" class=\"dataframe\">\n",
       "  <thead>\n",
       "    <tr style=\"text-align: right;\">\n",
       "      <th></th>\n",
       "      <th>totalEsg</th>\n",
       "      <th>12M_Return</th>\n",
       "      <th>environmentScore</th>\n",
       "      <th>socialScore</th>\n",
       "      <th>governanceScore</th>\n",
       "    </tr>\n",
       "    <tr>\n",
       "      <th>Cluster</th>\n",
       "      <th></th>\n",
       "      <th></th>\n",
       "      <th></th>\n",
       "      <th></th>\n",
       "      <th></th>\n",
       "    </tr>\n",
       "  </thead>\n",
       "  <tbody>\n",
       "    <tr>\n",
       "      <th>0</th>\n",
       "      <td>17.8032</td>\n",
       "      <td>0.8147</td>\n",
       "      <td>3.0760</td>\n",
       "      <td>8.5087</td>\n",
       "      <td>6.2166</td>\n",
       "    </tr>\n",
       "    <tr>\n",
       "      <th>1</th>\n",
       "      <td>26.3292</td>\n",
       "      <td>0.9762</td>\n",
       "      <td>10.6266</td>\n",
       "      <td>9.6474</td>\n",
       "      <td>6.0560</td>\n",
       "    </tr>\n",
       "    <tr>\n",
       "      <th>2</th>\n",
       "      <td>23.7100</td>\n",
       "      <td>0.9636</td>\n",
       "      <td>1.6853</td>\n",
       "      <td>12.7300</td>\n",
       "      <td>9.2941</td>\n",
       "    </tr>\n",
       "    <tr>\n",
       "      <th>3</th>\n",
       "      <td>13.4792</td>\n",
       "      <td>0.8901</td>\n",
       "      <td>4.1018</td>\n",
       "      <td>4.3367</td>\n",
       "      <td>5.0426</td>\n",
       "    </tr>\n",
       "    <tr>\n",
       "      <th>4</th>\n",
       "      <td>34.9617</td>\n",
       "      <td>1.6825</td>\n",
       "      <td>19.5317</td>\n",
       "      <td>8.6917</td>\n",
       "      <td>6.7417</td>\n",
       "    </tr>\n",
       "  </tbody>\n",
       "</table>\n",
       "</div>"
      ],
      "text/plain": [
       "         totalEsg  12M_Return  environmentScore  socialScore  governanceScore\n",
       "Cluster                                                                      \n",
       "0         17.8032      0.8147            3.0760       8.5087           6.2166\n",
       "1         26.3292      0.9762           10.6266       9.6474           6.0560\n",
       "2         23.7100      0.9636            1.6853      12.7300           9.2941\n",
       "3         13.4792      0.8901            4.1018       4.3367           5.0426\n",
       "4         34.9617      1.6825           19.5317       8.6917           6.7417"
      ]
     },
     "execution_count": 16,
     "metadata": {},
     "output_type": "execute_result"
    }
   ],
   "source": [
    "def perform_clustering(df, n_clusters=5):\n",
    "    \"\"\"Perform clustering analysis\"\"\"\n",
    "    # Select features for clustering\n",
    "    features = ['totalEsg', '12M_Return', 'environmentScore', 'socialScore', 'governanceScore']\n",
    "    X = df[features]\n",
    "    \n",
    "    # Scale features\n",
    "    scaler = StandardScaler()\n",
    "    X_scaled = scaler.fit_transform(X)\n",
    "    \n",
    "    # Perform clustering\n",
    "    kmeans = KMeans(n_clusters=n_clusters, random_state=42)\n",
    "    clusters = kmeans.fit_predict(X_scaled)\n",
    "    \n",
    "    # Add cluster labels to data\n",
    "    df_clustered = df.copy()\n",
    "    df_clustered['Cluster'] = clusters\n",
    "    \n",
    "    # Calculate cluster characteristics\n",
    "    cluster_stats = df_clustered.groupby('Cluster').agg({\n",
    "        'totalEsg': 'mean',\n",
    "        '12M_Return': 'mean',\n",
    "        'environmentScore': 'mean',\n",
    "        'socialScore': 'mean',\n",
    "        'governanceScore': 'mean'\n",
    "    }).round(4)\n",
    "    \n",
    "    return df_clustered, cluster_stats\n",
    "\n",
    "# Perform clustering\n",
    "df_clustered, cluster_stats = perform_clustering(df)\n",
    "\n",
    "# Create visualization\n",
    "fig = px.scatter(df_clustered, \n",
    "                 x='totalEsg', \n",
    "                 y='12M_Return',\n",
    "                 color='Cluster',\n",
    "                 hover_data=['Ticker', 'GIS Sector'],\n",
    "                 title='Stock Clusters based on ESG and Returns')\n",
    "\n",
    "fig.show()\n",
    "cluster_stats"
   ]
  },
  {
   "cell_type": "markdown",
   "metadata": {},
   "source": [
    "## 1. Feature Importance Analysis"
   ]
  },
  {
   "cell_type": "code",
   "execution_count": null,
   "metadata": {},
   "outputs": [
    {
     "data": {
      "image/png": "[encoded data removed]",
      "text/plain": [
       "<Figure size 1200x600 with 1 Axes>"
      ]
     },
     "metadata": {},
     "output_type": "display_data"
    }
   ],
   "source": [
    "# Prepare data with individual ESG components\n",
    "def prepare_detailed_data(df, target_col='12M_Return'):\n",
    "    X = df[['environmentScore', 'socialScore', 'governanceScore', 'GIS Sector']]\n",
    "    y = df[target_col]\n",
    "    \n",
    "    preprocessor = ColumnTransformer(\n",
    "        transformers=[\n",
    "            ('num', StandardScaler(), ['environmentScore', 'socialScore', 'governanceScore']),\n",
    "            ('cat', OneHotEncoder(drop='first', sparse_output=False), ['GIS Sector'])\n",
    "        ])\n",
    "    \n",
    "    return train_test_split(X, y, test_size=0.2, random_state=42), preprocessor\n",
    "\n",
    "# Train Random Forest with individual components\n",
    "(X_train, X_test, y_train, y_test), preprocessor = prepare_detailed_data(df)\n",
    "\n",
    "rf_detailed = Pipeline([\n",
    "    ('preprocessor', preprocessor),\n",
    "    ('regressor', RandomForestRegressor(n_estimators=100, random_state=42))\n",
    "])\n",
    "\n",
    "rf_detailed.fit(X_train, y_train)\n",
    "\n",
    "# Get feature names after preprocessing\n",
    "feature_names = (\n",
    "    ['environmentScore', 'socialScore', 'governanceScore'] +\n",
    "    [f'Sector_{sector}' for sector in preprocessor.named_transformers_['cat'].get_feature_names_out(['GIS Sector'])]\n",
    ")\n",
    "\n",
    "# Extract feature importance\n",
    "importances = rf_detailed.named_steps['regressor'].feature_importances_\n",
    "importance_df = pd.DataFrame({\n",
    "    'Feature': feature_names,\n",
    "    'Importance': importances\n",
    "}).sort_values('Importance', ascending=False)\n",
    "\n",
    "# Plot feature importance\n",
    "plt.figure(figsize=(12, 6))\n",
    "sns.barplot(data=importance_df.head(10), x='Importance', y='Feature')\n",
    "plt.title('Top 10 Most Important Features for Return Prediction')\n",
    "plt.tight_layout()\n",
    "plt.show()"
   ]
  },
  {
   "cell_type": "markdown",
   "metadata": {},
   "source": [
    "## 2. ESG Component Analysis"
   ]
  },
  {
   "cell_type": "code",
   "execution_count": null,
   "metadata": {},
   "outputs": [
    {
     "data": {
      "image/png": "[encoded data removed]",
      "text/plain": [
       "<Figure size 1000x800 with 2 Axes>"
      ]
     },
     "metadata": {},
     "output_type": "display_data"
    },
    {
     "data": {
      "application/vnd.plotly.v1+json": {
       "config": {
        "plotlyServerURL": "https://plot.ly"
       },
       "data": [
        {
         "marker": {
          "color": {
           "bdata": "BwUFBAUHAQIEAAUEAgUKBAQIBwEJBQQCCQECCAoGAQMKBgkGCAEBCQEFCQEFAwkIAgcKBwYHCgcGCQoGBwcFAQoFCAcICAAJBgUGBwUDAQgCAgQHBAIKBQQKBAQIBgQEAQYGCQUGAgICBAIFAAQGBAYEBQABBgkGAwUGBwYGCQQECAoBBAEHAQAGBQcGBAgIAgECBAIDAgoBBAQBAwUJAwgBBwkFAQYIBwYEBgYHBQE=",
           "dtype": "i1"
          },
          "colorscale": [
           [
            0,
            "#440154"
           ],
           [
            0.1111111111111111,
            "#482878"
           ],
           [
            0.2222222222222222,
            "#3e4989"
           ],
           [
            0.3333333333333333,
            "#31688e"
           ],
           [
            0.4444444444444444,
            "#26828e"
           ],
           [
            0.5555555555555556,
            "#1f9e89"
           ],
           [
            0.6666666666666666,
            "#35b779"
           ],
           [
            0.7777777777777778,
            "#6ece58"
           ],
           [
            0.8888888888888888,
            "#b5de2b"
           ],
           [
            1,
            "#fde725"
           ]
          ],
          "showscale": false
         },
         "mode": "markers",
         "name": "environment",
         "text": [
          "Information Technology",
          "Health Care",
          "Health Care",
          "Financials",
          "Health Care",
          "Information Technology",
          "Consumer Discretionary",
          "Consumer Staples",
          "Financials",
          "Communication Services",
          "Health Care",
          "Financials",
          "Consumer Staples",
          "Health Care",
          "Utilities",
          "Financials",
          "Financials",
          "Materials",
          "Information Technology",
          "Consumer Discretionary",
          "Real Estate",
          "Health Care",
          "Financials",
          "Consumer Staples",
          "Real Estate",
          "Consumer Discretionary",
          "Consumer Staples",
          "Materials",
          "Utilities",
          "Industrials",
          "Consumer Discretionary",
          "Energy",
          "Utilities",
          "Industrials",
          "Real Estate",
          "Industrials",
          "Materials",
          "Consumer Discretionary",
          "Consumer Discretionary",
          "Real Estate",
          "Consumer Discretionary",
          "Health Care",
          "Real Estate",
          "Consumer Discretionary",
          "Health Care",
          "Energy",
          "Real Estate",
          "Materials",
          "Consumer Staples",
          "Information Technology",
          "Utilities",
          "Information Technology",
          "Industrials",
          "Information Technology",
          "Utilities",
          "Information Technology",
          "Industrials",
          "Real Estate",
          "Utilities",
          "Industrials",
          "Information Technology",
          "Information Technology",
          "Health Care",
          "Consumer Discretionary",
          "Utilities",
          "Health Care",
          "Materials",
          "Information Technology",
          "Materials",
          "Materials",
          "Communication Services",
          "Real Estate",
          "Industrials",
          "Health Care",
          "Industrials",
          "Information Technology",
          "Health Care",
          "Energy",
          "Consumer Discretionary",
          "Materials",
          "Consumer Staples",
          "Consumer Staples",
          "Financials",
          "Information Technology",
          "Financials",
          "Consumer Staples",
          "Utilities",
          "Health Care",
          "Financials",
          "Utilities",
          "Financials",
          "Financials",
          "Materials",
          "Industrials",
          "Financials",
          "Financials",
          "Consumer Discretionary",
          "Industrials",
          "Industrials",
          "Real Estate",
          "Health Care",
          "Industrials",
          "Consumer Staples",
          "Consumer Staples",
          "Consumer Staples",
          "Financials",
          "Consumer Staples",
          "Health Care",
          "Communication Services",
          "Financials",
          "Industrials",
          "Financials",
          "Industrials",
          "Financials",
          "Health Care",
          "Communication Services",
          "Consumer Discretionary",
          "Industrials",
          "Real Estate",
          "Industrials",
          "Energy",
          "Health Care",
          "Industrials",
          "Information Technology",
          "Industrials",
          "Industrials",
          "Real Estate",
          "Financials",
          "Financials",
          "Materials",
          "Utilities",
          "Consumer Discretionary",
          "Financials",
          "Consumer Discretionary",
          "Information Technology",
          "Consumer Discretionary",
          "Communication Services",
          "Industrials",
          "Health Care",
          "Information Technology",
          "Industrials",
          "Financials",
          "Materials",
          "Materials",
          "Consumer Staples",
          "Consumer Discretionary",
          "Consumer Staples",
          "Financials",
          "Consumer Staples",
          "Energy",
          "Consumer Staples",
          "Utilities",
          "Consumer Discretionary",
          "Financials",
          "Financials",
          "Consumer Discretionary",
          "Energy",
          "Health Care",
          "Real Estate",
          "Energy",
          "Materials",
          "Consumer Discretionary",
          "Information Technology",
          "Real Estate",
          "Health Care",
          "Consumer Discretionary",
          "Industrials",
          "Materials",
          "Information Technology",
          "Industrials",
          "Financials",
          "Industrials",
          "Industrials",
          "Information Technology",
          "Health Care",
          "Consumer Discretionary"
         ],
         "type": "scatter",
         "x": {
          "bdata": "zczMzMzM3D8zMzMzMzMNQAAAAAAAAPA/9ihcj8L1/D/sUbgehevxPwAAAAAAgC5AMzMzMzMzA0CkcD0K16P8PwrXo3A9Crc/FK5H4XoUCkB7FK5H4XqEP1yPwvUoXP8/pHA9CtejMECF61G4HoXbPxSuR+F6FCFArkfhehSu+z8zMzMzMzMNQPYoXI/C9SVACtejcD2KIkBSuB6F61EQQEjhehSuRw9A7FG4HoXrD0Bcj8L1KFz3PwrXo3A9CixAw/UoXI/CDUB7FK5H4XoKQOxRuB6F6xxAMzMzMzOzLEBmZmZmZmYpQI/C9ShcjyJAPQrXo3A9/j/Xo3A9ChcxQOF6FK5H4SdAKVyPwvUoH0BSuB6F61EEQM3MzMzMzCVAFK5H4XoUIUDsUbgehesFQClcj8L1KBdAMzMzMzMzB0AAAAAAAAAYQFK4HoXrUQhA7FG4HoXrEEApXI/C9agjQArXo3A9Cvc/exSuR+H6OEBSuB6F61EQQD0K16NwvStACtejcD0KJUAfhetRuB79P65H4XoUrhJAcT0K16NwDUC4HoXrUbggQK5H4XoUrvc/w/UoXI/CIkBcj8L1KFz3Pz0K16NwPQhAw/UoXI/CDUC4HoXrUbgqQM3MzMzMTCFAPQrXo3A96j/2KFyPwvUSQOF6FK5H4QZAKVyPwvUoG0AUrkfhehQiQJqZmZmZmQVAH4XrUbieLED2KFyPwvURQK5H4XoUrjBA16NwPQrXJkCkcD0K16PAP6RwPQrXow5ASOF6FK5HFUDhehSuR+HaP+xRuB6F6xJArkfhehSuEkD2KFyPwvUEQK5H4XoU7jJAj8L1KFyPCkBI4XoUrscuQAAAAAAAAAxA7FG4HoVrJUAfhetRuB4DQGZmZmZmZu4/pHA9CtejwD8fhetRuJ4qQFyPwvUoXC1AzczMzMzMDECkcD0K16MAQHE9CtejcC1AMzMzMzMz+z/sUbgehevxP65H4XoUrilAexSuR+F6FUBcj8L1KFwQQB+F61G4Hv0/mpmZmZkZIUAUrkfhehQRQHsUrkfhehZA7FG4HoXrBUDhehSuR+ECQAAAAAAAABxAXI/C9SjcJEDNzMzMzMwbQFyPwvUoXAtAw/UoXI/C+T/hehSuR+EeQKRwPQrXo8A/CtejcD0Ktz8K16NwPQrzPylcj8L1KBJA7FG4HoXr/T+amZmZmZkcQMP1KFyPwvE/KVyPwvUoAkAK16NwPQq3P3E9CtejcAtA7FG4HoXrIkAAAAAAAAAKQD0K16NwPQpAUrgeheuRMUAK16NwPQq3P9ejcD0K1yVAAAAAAAAACECuR+F6FK4JQOF6FK5H4SNAMzMzMzMzD0AK16NwPQq3Pylcj8L1KPw/16NwPQrXKkC4HoXrUbglQOxRuB6F68E/XI/C9Shc5z/NzMzMzEwgQLgehetRuApAH4XrUbgeEkDsUbgehesNQPYoXI/C9RFAXI/C9Shc5z89CtejcD0XQGZmZmZmZgZAw/UoXI/C+T97FK5H4fokQAAAAAAAACtApHA9CtejIEDhehSuR2EiQD0K16NwvSVApHA9CtejwD+PwvUoXI8bQHsUrkfh+jVASOF6FK5HJUD2KFyPwvUnQHE9Ctej8CFAhetRuB6F/z97FK5H4XrkP65H4XoUrhJAcT0K16NwIUDsUbgeheuxP6RwPQrXoxFAKVyPwvUoIECuR+F6FK4dQHsUrkfheqQ/hetRuB6FAUDNzMzMzMwCQKRwPQrXowZA9ihcj8L1CkB7FK5H4Xq0P+xRuB6F6ytAw/UoXI/C8T8AAAAAAAAUQClcj8L1KPA/rkfhehQuIEDsUbgehesfQBSuR+F6FABAmpmZmZmZ9T9cj8L1KFwFQA==",
          "dtype": "f8"
         },
         "xaxis": "x",
         "y": {
          "bdata": "JHsGotI+6j+4U99OGDfpPzCsuwLFAvQ/brYuMdn+7z+dQmcB6tLvP9pW/5vcE+w/Q6R+x/Q46T+yySabTFHqP4rDVyWkJvI/R3YQo6PN8T9W6QWMMGjyP4LnLFrbCOs/oqgmF1499z9nnw7tOVXpPyQeJtl2Ue4/gA5Fn1pm5z81PB4XtjLpP+PdRrDTouk/DqOQEJN/7T8bhFodDqLyP1yeFXrja+Y/Q0u3op+E7j/oN5qPkRHyPzcjff6iKeg/Rcz0kGGJ7D/y/K1g3MboP1ZkL79qPvE/Lt/BR+eV8j+pa5wQufXwPwmNjSRuhuk/pJhrDmrG8D87rAP9X037P67mR3U9qOg/yIlXA2TG9j++OqzPoZriP/B8cx9nguo/5pbL2Y6u5D/f9E4Pg7/kP5HX3H3e8+s/iqXY+Joj6T9NAvhQHnLgP24Ahe+wv/A/brWSD2oZ6D9EN5OYfozjP8tPYrwmNew/DYaF67O2AEDEo3b11i/nP9ues72mf/Q/Evsnrr5I9D+Jh4eHQ4vuP/twfK79w+4/Uw06DxCS5z/eAY/M4zLyPwBi2p8Xy+M/UKRQTHxp7j84T3zbzGznP4Eu5KMF0O8/J0TrHtXX5T+bVoRYtYjwP8H9vqJve+8/J3MFyIOR6D8T3V8VqafpP8IdOK6d0uM/+7iHebug7D/KHF20pHfsP2UupyGZNuk/B6WsZTIT5z8t6TknW4vmP/Bmed4QuOk/1OB5ue+M6j9MJTqMa4XvP+PrDYWSfug/1hiZM3Rk8D9jQsriNa7zP0vcYHwSWO0/Hfa8/IlD7T8XalgMiC3mP1SkoPGGBPs/l3Hgyfzw6D8OT248F7LvP2D86iFcqvE/ZRnXegsO8z/IhJMnerTvPxZVFslBCfE/pe9yJYew7D+96U1v5EHwP3nDz42FPfE/H823SpqS8D/px7NrlFPxPwy9H1C3zvI/u+dIBl2E6D/EzBq0ShvpP11QOOV7Wuc/hcVXG7Cn5z++VZriN6zlPxMJFuxyBvA/pJq7z3kg8D/zaxsbO/zsP/7+7yZWkfE/8YMHaWpz5z9VTRZ3Iy7yP3zVpgZ1Ju0/9gDZSbnp7z8w+zSsDGXlP7VShd3LHfI/UOlaDTtB5z+aznge3yDsP2JKk81xtO0/JFgAYqBQ4D9WYUyIDivoP7G2aSVGQvI/ao+EANXk5z8dNA1OaBnmP8gw7RfMtuo/rjPVzmTi6T+n3TvPsj3xP0C/XbjGSO0/gcCfhLYt7T9qJQalWUbxP/Mni62UR+0/nSCHOhRM+D9gGIxYqKzxP9HNkYKgaO4/yQ19TVNz6T+oax/z6BjvP0EdthuIsug/DOIMPFTH5z8nf6VXrufvP0eMKmfnHO0/57O/FoI77D8nE1jnJYb0P+VYYeMXW/M/O5OcttKo6T+8F94LbyXoP/7wTJtXdu0//PuHL2Cs7j+wPcYLg/vnP9EPeQ6DN+o/rmVwCQrl9D9sVW5EKFzoPy3f0tT+p/E/QX4BgtEo6z/jf1fuo0nnP5rXRr6UDe0/o5u5EZ9m9T/Hya/YcCvpP4DJ7lyD2/Q/HqBaSvJ65z8AZzGp6tbqP281WKEWPPo/IRLc6ruy8j8l3eQHbgXxPx/YtEG6MOc/YWh8d6Rt7j/ug/lA29/tP5CCKEseTPU//N9euNKm8z/DJCnKaLvmP/bSQnuqzu4/4CXVrCvQ+D/uJcrZkhXxP5utroqo2eI/+h5nYfo45z/N95i+pzzuP9+Td9TBweQ/ee5JSbpk7z8sc1zqjYvlP2RXOPI71/A/Md0rXazN5j+N7QldKO/ZPzgcXNL9RPM/ZTdWeJAi8D8+HHplj9jpP9gQ12pmE+A/EEvGGVPf7z8jTgOTPVTsPw==",
          "dtype": "f8"
         },
         "yaxis": "y"
        },
        {
         "marker": {
          "color": {
           "bdata": "BwUFBAUHAQIEAAUEAgUKBAQIBwEJBQQCCQECCAoGAQMKBgkGCAEBCQEFCQEFAwkIAgcKBwYHCgcGCQoGBwcFAQoFCAcICAAJBgUGBwUDAQgCAgQHBAIKBQQKBAQIBgQEAQYGCQUGAgICBAIFAAQGBAYEBQABBgkGAwUGBwYGCQQECAoBBAEHAQAGBQcGBAgIAgECBAIDAgoBBAQBAwUJAwgBBwkFAQYIBwYEBgYHBQE=",
           "dtype": "i1"
          },
          "colorscale": [
           [
            0,
            "#440154"
           ],
           [
            0.1111111111111111,
            "#482878"
           ],
           [
            0.2222222222222222,
            "#3e4989"
           ],
           [
            0.3333333333333333,
            "#31688e"
           ],
           [
            0.4444444444444444,
            "#26828e"
           ],
           [
            0.5555555555555556,
            "#1f9e89"
           ],
           [
            0.6666666666666666,
            "#35b779"
           ],
           [
            0.7777777777777778,
            "#6ece58"
           ],
           [
            0.8888888888888888,
            "#b5de2b"
           ],
           [
            1,
            "#fde725"
           ]
          ],
          "showscale": false
         },
         "mode": "markers",
         "name": "social",
         "text": [
          "Information Technology",
          "Health Care",
          "Health Care",
          "Financials",
          "Health Care",
          "Information Technology",
          "Consumer Discretionary",
          "Consumer Staples",
          "Financials",
          "Communication Services",
          "Health Care",
          "Financials",
          "Consumer Staples",
          "Health Care",
          "Utilities",
          "Financials",
          "Financials",
          "Materials",
          "Information Technology",
          "Consumer Discretionary",
          "Real Estate",
          "Health Care",
          "Financials",
          "Consumer Staples",
          "Real Estate",
          "Consumer Discretionary",
          "Consumer Staples",
          "Materials",
          "Utilities",
          "Industrials",
          "Consumer Discretionary",
          "Energy",
          "Utilities",
          "Industrials",
          "Real Estate",
          "Industrials",
          "Materials",
          "Consumer Discretionary",
          "Consumer Discretionary",
          "Real Estate",
          "Consumer Discretionary",
          "Health Care",
          "Real Estate",
          "Consumer Discretionary",
          "Health Care",
          "Energy",
          "Real Estate",
          "Materials",
          "Consumer Staples",
          "Information Technology",
          "Utilities",
          "Information Technology",
          "Industrials",
          "Information Technology",
          "Utilities",
          "Information Technology",
          "Industrials",
          "Real Estate",
          "Utilities",
          "Industrials",
          "Information Technology",
          "Information Technology",
          "Health Care",
          "Consumer Discretionary",
          "Utilities",
          "Health Care",
          "Materials",
          "Information Technology",
          "Materials",
          "Materials",
          "Communication Services",
          "Real Estate",
          "Industrials",
          "Health Care",
          "Industrials",
          "Information Technology",
          "Health Care",
          "Energy",
          "Consumer Discretionary",
          "Materials",
          "Consumer Staples",
          "Consumer Staples",
          "Financials",
          "Information Technology",
          "Financials",
          "Consumer Staples",
          "Utilities",
          "Health Care",
          "Financials",
          "Utilities",
          "Financials",
          "Financials",
          "Materials",
          "Industrials",
          "Financials",
          "Financials",
          "Consumer Discretionary",
          "Industrials",
          "Industrials",
          "Real Estate",
          "Health Care",
          "Industrials",
          "Consumer Staples",
          "Consumer Staples",
          "Consumer Staples",
          "Financials",
          "Consumer Staples",
          "Health Care",
          "Communication Services",
          "Financials",
          "Industrials",
          "Financials",
          "Industrials",
          "Financials",
          "Health Care",
          "Communication Services",
          "Consumer Discretionary",
          "Industrials",
          "Real Estate",
          "Industrials",
          "Energy",
          "Health Care",
          "Industrials",
          "Information Technology",
          "Industrials",
          "Industrials",
          "Real Estate",
          "Financials",
          "Financials",
          "Materials",
          "Utilities",
          "Consumer Discretionary",
          "Financials",
          "Consumer Discretionary",
          "Information Technology",
          "Consumer Discretionary",
          "Communication Services",
          "Industrials",
          "Health Care",
          "Information Technology",
          "Industrials",
          "Financials",
          "Materials",
          "Materials",
          "Consumer Staples",
          "Consumer Discretionary",
          "Consumer Staples",
          "Financials",
          "Consumer Staples",
          "Energy",
          "Consumer Staples",
          "Utilities",
          "Consumer Discretionary",
          "Financials",
          "Financials",
          "Consumer Discretionary",
          "Energy",
          "Health Care",
          "Real Estate",
          "Energy",
          "Materials",
          "Consumer Discretionary",
          "Information Technology",
          "Real Estate",
          "Health Care",
          "Consumer Discretionary",
          "Industrials",
          "Materials",
          "Information Technology",
          "Industrials",
          "Financials",
          "Industrials",
          "Industrials",
          "Information Technology",
          "Health Care",
          "Consumer Discretionary"
         ],
         "type": "scatter",
         "x": {
          "bdata": "mpmZmZmZG0ApXI/C9SgjQK5H4XoUrixAcT0K16NwIECuR+F6FK4ZQFK4HoXrUSJArkfhehQuIkAUrkfhepQiQNejcD0K1yVA4XoUrkfhK0D2KFyPwrUwQM3MzMzMTCRAzczMzMxMJEDsUbgehWspQDMzMzMzMxpArkfhehQuLkBcj8L1KFwlQM3MzMzMzB5AuB6F61G4GkAAAAAAAAAdQEjhehSuRw1AexSuR+F6KkAUrkfhehQnQEjhehSuxyhArkfhehSuCUA9CtejcD0VQEjhehSuxyJA16NwPQrXIUCF61G4HoUiQBSuR+F6lCBAmpmZmZmZHkDNzMzMzEwgQK5H4XoUriFAPQrXo3C9LEAUrkfhehQSQFyPwvUoXBdAMzMzMzMzGECamZmZmZkeQD0K16NwPS1AzczMzMzMBkBI4XoUrscuQM3MzMzMTCtAw/UoXI/CDUD2KFyPwvUmQI/C9ShcjxNAZmZmZmZmI0C4HoXrUbj6P5qZmZmZGSZAzczMzMzMJEDNzMzMzMwcQB+F61G4HiFA4XoUrkdhIEB7FK5H4folQEjhehSuRw9AmpmZmZmZIEAfhetRuB4eQNejcD0KVyJASOF6FK5HD0DsUbgeheshQIXrUbgeBSFAcT0K16NwEkAK16NwPYolQClcj8L1KCBArkfhehQuI0BSuB6F61EeQJqZmZmZmSFAZmZmZmZmIkDD9Shcj8IHQBSuR+F6FBNAZmZmZmZm7j/Xo3A9CtcgQOxRuB6F6w9AhetRuB6FGEDsUbgehessQBSuR+F6lCJA16NwPQpXI0BmZmZmZmYcQM3MzMzMzBxAPQrXo3A9FkBmZmZmZmYTQB+F61G4HiFA16NwPQrXLkBmZmZmZuYhQI/C9ShcjxBAPQrXo3C9J0Bcj8L1KFwlQAAAAAAAACZACtejcD0KLUBSuB6F61EfQPYoXI/CdSRAAAAAAACAIkDD9Shcj8IjQGZmZmZmZhdAj8L1KFyPGkDXo3A9ClcgQK5H4XoUrhpAUrgehetRIkBSuB6F61EhQPYoXI/C9R5AAAAAAAAABEAzMzMzM7MnQI/C9ShcjydAzczMzMzMJECamZmZmRkmQBSuR+F6FCtAXI/C9ShcGECuR+F6FC4hQKRwPQrXIypAPQrXo3A9HUDNzMzMzEwgQDMzMzMzMxZAKVyPwvWoJ0A9CtejcL0nQDMzMzMzczBAexSuR+F6LEApXI/C9agiQOF6FK5HYSBAj8L1KFyPK0BSuB6F61ESQDMzMzMzMxpApHA9CtcjIECPwvUoXI8qQBSuR+F6FDBAXI/C9ShcHECkcD0K16McQM3MzMzMTCdAmpmZmZmZB0AfhetRuJ4mQHE9Ctej8CVAPQrXo3A9G0BmZmZmZmYfQM3MzMzMTCBACtejcD0KJkC4HoXrUbgeQLgehetRuBtAZmZmZmbmJkCuR+F6FC4jQDMzMzMzMxJA9ihcj8L1KkDD9Shcj8IRQClcj8L1KBZAZmZmZmbmKUBI4XoUrkcWQM3MzMzMzABAcT0K16NwIUA9CtejcD0dQM3MzMzMTCBASOF6FK7HI0A9CtejcD0ZQMP1KFyPwiFAMzMzMzOzKkDXo3A9ClciQM3MzMzMzCVA4XoUrkdhJkCF61G4HgUkQLgehetRuBRAw/UoXI9CJEApXI/C9SgsQEjhehSuRxVAKVyPwvUoGUAAAAAAAAD4PwrXo3A9CgdA9ihcj8L1HkCkcD0K16MEQDMzMzMzMytAAAAAAACAJ0DNzMzMzEwwQPYoXI/C9fA/j8L1KFyPHkCF61G4HgUpQJqZmZmZmSJA9ihcj8L1FED2KFyPwvUoQOxRuB6F6x1A4XoUrkdhIEDXo3A9CtcQQA==",
          "dtype": "f8"
         },
         "xaxis": "x2",
         "y": {
          "bdata": "JHsGotI+6j+4U99OGDfpPzCsuwLFAvQ/brYuMdn+7z+dQmcB6tLvP9pW/5vcE+w/Q6R+x/Q46T+yySabTFHqP4rDVyWkJvI/R3YQo6PN8T9W6QWMMGjyP4LnLFrbCOs/oqgmF1499z9nnw7tOVXpPyQeJtl2Ue4/gA5Fn1pm5z81PB4XtjLpP+PdRrDTouk/DqOQEJN/7T8bhFodDqLyP1yeFXrja+Y/Q0u3op+E7j/oN5qPkRHyPzcjff6iKeg/Rcz0kGGJ7D/y/K1g3MboP1ZkL79qPvE/Lt/BR+eV8j+pa5wQufXwPwmNjSRuhuk/pJhrDmrG8D87rAP9X037P67mR3U9qOg/yIlXA2TG9j++OqzPoZriP/B8cx9nguo/5pbL2Y6u5D/f9E4Pg7/kP5HX3H3e8+s/iqXY+Joj6T9NAvhQHnLgP24Ahe+wv/A/brWSD2oZ6D9EN5OYfozjP8tPYrwmNew/DYaF67O2AEDEo3b11i/nP9ues72mf/Q/Evsnrr5I9D+Jh4eHQ4vuP/twfK79w+4/Uw06DxCS5z/eAY/M4zLyPwBi2p8Xy+M/UKRQTHxp7j84T3zbzGznP4Eu5KMF0O8/J0TrHtXX5T+bVoRYtYjwP8H9vqJve+8/J3MFyIOR6D8T3V8VqafpP8IdOK6d0uM/+7iHebug7D/KHF20pHfsP2UupyGZNuk/B6WsZTIT5z8t6TknW4vmP/Bmed4QuOk/1OB5ue+M6j9MJTqMa4XvP+PrDYWSfug/1hiZM3Rk8D9jQsriNa7zP0vcYHwSWO0/Hfa8/IlD7T8XalgMiC3mP1SkoPGGBPs/l3Hgyfzw6D8OT248F7LvP2D86iFcqvE/ZRnXegsO8z/IhJMnerTvPxZVFslBCfE/pe9yJYew7D+96U1v5EHwP3nDz42FPfE/H823SpqS8D/px7NrlFPxPwy9H1C3zvI/u+dIBl2E6D/EzBq0ShvpP11QOOV7Wuc/hcVXG7Cn5z++VZriN6zlPxMJFuxyBvA/pJq7z3kg8D/zaxsbO/zsP/7+7yZWkfE/8YMHaWpz5z9VTRZ3Iy7yP3zVpgZ1Ju0/9gDZSbnp7z8w+zSsDGXlP7VShd3LHfI/UOlaDTtB5z+aznge3yDsP2JKk81xtO0/JFgAYqBQ4D9WYUyIDivoP7G2aSVGQvI/ao+EANXk5z8dNA1OaBnmP8gw7RfMtuo/rjPVzmTi6T+n3TvPsj3xP0C/XbjGSO0/gcCfhLYt7T9qJQalWUbxP/Mni62UR+0/nSCHOhRM+D9gGIxYqKzxP9HNkYKgaO4/yQ19TVNz6T+oax/z6BjvP0EdthuIsug/DOIMPFTH5z8nf6VXrufvP0eMKmfnHO0/57O/FoI77D8nE1jnJYb0P+VYYeMXW/M/O5OcttKo6T+8F94LbyXoP/7wTJtXdu0//PuHL2Cs7j+wPcYLg/vnP9EPeQ6DN+o/rmVwCQrl9D9sVW5EKFzoPy3f0tT+p/E/QX4BgtEo6z/jf1fuo0nnP5rXRr6UDe0/o5u5EZ9m9T/Hya/YcCvpP4DJ7lyD2/Q/HqBaSvJ65z8AZzGp6tbqP281WKEWPPo/IRLc6ruy8j8l3eQHbgXxPx/YtEG6MOc/YWh8d6Rt7j/ug/lA29/tP5CCKEseTPU//N9euNKm8z/DJCnKaLvmP/bSQnuqzu4/4CXVrCvQ+D/uJcrZkhXxP5utroqo2eI/+h5nYfo45z/N95i+pzzuP9+Td9TBweQ/ee5JSbpk7z8sc1zqjYvlP2RXOPI71/A/Md0rXazN5j+N7QldKO/ZPzgcXNL9RPM/ZTdWeJAi8D8+HHplj9jpP9gQ12pmE+A/EEvGGVPf7z8jTgOTPVTsPw==",
          "dtype": "f8"
         },
         "yaxis": "y2"
        },
        {
         "marker": {
          "color": {
           "bdata": "BwUFBAUHAQIEAAUEAgUKBAQIBwEJBQQCCQECCAoGAQMKBgkGCAEBCQEFCQEFAwkIAgcKBwYHCgcGCQoGBwcFAQoFCAcICAAJBgUGBwUDAQgCAgQHBAIKBQQKBAQIBgQEAQYGCQUGAgICBAIFAAQGBAYEBQABBgkGAwUGBwYGCQQECAoBBAEHAQAGBQcGBAgIAgECBAIDAgoBBAQBAwUJAwgBBwkFAQYIBwYEBgYHBQE=",
           "dtype": "i1"
          },
          "colorscale": [
           [
            0,
            "#440154"
           ],
           [
            0.1111111111111111,
            "#482878"
           ],
           [
            0.2222222222222222,
            "#3e4989"
           ],
           [
            0.3333333333333333,
            "#31688e"
           ],
           [
            0.4444444444444444,
            "#26828e"
           ],
           [
            0.5555555555555556,
            "#1f9e89"
           ],
           [
            0.6666666666666666,
            "#35b779"
           ],
           [
            0.7777777777777778,
            "#6ece58"
           ],
           [
            0.8888888888888888,
            "#b5de2b"
           ],
           [
            1,
            "#fde725"
           ]
          ],
          "showscale": true
         },
         "mode": "markers",
         "name": "governance",
         "text": [
          "Information Technology",
          "Health Care",
          "Health Care",
          "Financials",
          "Health Care",
          "Information Technology",
          "Consumer Discretionary",
          "Consumer Staples",
          "Financials",
          "Communication Services",
          "Health Care",
          "Financials",
          "Consumer Staples",
          "Health Care",
          "Utilities",
          "Financials",
          "Financials",
          "Materials",
          "Information Technology",
          "Consumer Discretionary",
          "Real Estate",
          "Health Care",
          "Financials",
          "Consumer Staples",
          "Real Estate",
          "Consumer Discretionary",
          "Consumer Staples",
          "Materials",
          "Utilities",
          "Industrials",
          "Consumer Discretionary",
          "Energy",
          "Utilities",
          "Industrials",
          "Real Estate",
          "Industrials",
          "Materials",
          "Consumer Discretionary",
          "Consumer Discretionary",
          "Real Estate",
          "Consumer Discretionary",
          "Health Care",
          "Real Estate",
          "Consumer Discretionary",
          "Health Care",
          "Energy",
          "Real Estate",
          "Materials",
          "Consumer Staples",
          "Information Technology",
          "Utilities",
          "Information Technology",
          "Industrials",
          "Information Technology",
          "Utilities",
          "Information Technology",
          "Industrials",
          "Real Estate",
          "Utilities",
          "Industrials",
          "Information Technology",
          "Information Technology",
          "Health Care",
          "Consumer Discretionary",
          "Utilities",
          "Health Care",
          "Materials",
          "Information Technology",
          "Materials",
          "Materials",
          "Communication Services",
          "Real Estate",
          "Industrials",
          "Health Care",
          "Industrials",
          "Information Technology",
          "Health Care",
          "Energy",
          "Consumer Discretionary",
          "Materials",
          "Consumer Staples",
          "Consumer Staples",
          "Financials",
          "Information Technology",
          "Financials",
          "Consumer Staples",
          "Utilities",
          "Health Care",
          "Financials",
          "Utilities",
          "Financials",
          "Financials",
          "Materials",
          "Industrials",
          "Financials",
          "Financials",
          "Consumer Discretionary",
          "Industrials",
          "Industrials",
          "Real Estate",
          "Health Care",
          "Industrials",
          "Consumer Staples",
          "Consumer Staples",
          "Consumer Staples",
          "Financials",
          "Consumer Staples",
          "Health Care",
          "Communication Services",
          "Financials",
          "Industrials",
          "Financials",
          "Industrials",
          "Financials",
          "Health Care",
          "Communication Services",
          "Consumer Discretionary",
          "Industrials",
          "Real Estate",
          "Industrials",
          "Energy",
          "Health Care",
          "Industrials",
          "Information Technology",
          "Industrials",
          "Industrials",
          "Real Estate",
          "Financials",
          "Financials",
          "Materials",
          "Utilities",
          "Consumer Discretionary",
          "Financials",
          "Consumer Discretionary",
          "Information Technology",
          "Consumer Discretionary",
          "Communication Services",
          "Industrials",
          "Health Care",
          "Information Technology",
          "Industrials",
          "Financials",
          "Materials",
          "Materials",
          "Consumer Staples",
          "Consumer Discretionary",
          "Consumer Staples",
          "Financials",
          "Consumer Staples",
          "Energy",
          "Consumer Staples",
          "Utilities",
          "Consumer Discretionary",
          "Financials",
          "Financials",
          "Consumer Discretionary",
          "Energy",
          "Health Care",
          "Real Estate",
          "Energy",
          "Materials",
          "Consumer Discretionary",
          "Information Technology",
          "Real Estate",
          "Health Care",
          "Consumer Discretionary",
          "Industrials",
          "Materials",
          "Information Technology",
          "Industrials",
          "Financials",
          "Industrials",
          "Industrials",
          "Information Technology",
          "Health Care",
          "Consumer Discretionary"
         ],
         "type": "scatter",
         "x": {
          "bdata": "CtejcD0KGkBcj8L1KFwfQHsUrkfheh5AmpmZmZmZGkBmZmZmZmYYQJqZmZmZmR1AmpmZmZmZEUC4HoXrUbgUQM3MzMzMTCRA4XoUrkfhGkD2KFyPwvUWQFyPwvUo3CZACtejcD0KFEBmZmZmZmYaQB+F61G4HhlA9ihcj8L1JkApXI/C9SgaQClcj8L1KBpA7FG4HoXrG0AfhetRuB4RQEjhehSuRxlAj8L1KFwPJkC4HoXrUTglQIXrUbgeBSNAFK5H4XoUE0Bcj8L1KFwJQKRwPQrXoxVA16NwPQrXHUD2KFyPwvURQGZmZmZmZhxAXI/C9ShcE0AAAAAAAAAVQHsUrkfhehZAexSuR+F6FUDNzMzMzMwVQClcj8L1KBRAFK5H4XoUFUDXo3A9CtccQBSuR+F6FBFApHA9CtejFEBxPQrXo3AiQIXrUbgehRxACtejcD0KHUDD9Shcj8IcQOF6FK5H4RlA4XoUrkfhG0BmZmZmZmYRQDMzMzMzMyFAj8L1KFyPFEAzMzMzMzMXQI/C9ShcjxVAj8L1KFyPE0CamZmZmZkgQDMzMzMzMxhAZmZmZmZmFkBI4XoUrkcYQIXrUbgehRdAKVyPwvUoGUCF61G4HoUUQOxRuB6F6xpApHA9CtejEUApXI/C9SgXQIXrUbgehR5AFK5H4XoUEUAAAAAAAAAUQNejcD0K1xdAZmZmZmZmF0AfhetRuB4VQNejcD0KVyFArkfhehSuDUDsUbgehesSQJqZmZmZmRhArkfhehSuFUB7FK5H4XodQDMzMzMzMxVAXI/C9ShcGEDhehSuR+EhQOxRuB6F6xtAFK5H4XoUDkBSuB6F61EZQB+F61G4HhZAzczMzMzMEkDhehSuR+EnQGZmZmZmZhZAhetRuB4FJUAAAAAAAAAYQDMzMzMzMx1Aj8L1KFyPH0CuR+F6FK4kQFyPwvUoXBdApHA9CtejIUAzMzMzMzMdQFyPwvUoXBpAmpmZmZmZFkDXo3A9CtcUQLgehetRuCBAw/UoXI/CDUDD9Shcj8IUQMP1KFyPwhdAH4XrUbgeFEBI4XoUrschQBSuR+F6FBpAj8L1KFyPHkDsUbgehesdQHsUrkfh+iZAPQrXo3A9IEA9CtejcD0VQAAAAAAAACBAhetRuB4FIkAAAAAAAAAeQKRwPQrXoxdA16NwPQpXJECuR+F6FK4ZQGZmZmZmZidAKVyPwvWoIEBxPQrXo3AbQOF6FK5H4RFA9ihcj8L1GEAUrkfhehQWQAAAAAAAABRAj8L1KFyPIEAK16NwPQoaQHE9CtejcBpAuB6F61G4G0BxPQrXo3AZQArXo3A9ChNAAAAAAAAAGUDXo3A9ClcjQMP1KFyPwilAmpmZmZkZIkCF61G4HoUTQBSuR+F6FA5AFK5H4XoUJkCF61G4HoUTQKRwPQrXoxBAexSuR+F6EECPwvUoXI8VQI/C9ShcjxVAAAAAAAAAH0AzMzMzMzMSQPYoXI/C9RVACtejcD0KI0CF61G4HoUaQFyPwvUoXBRAXI/C9ShcEECuR+F6FK4TQOF6FK5H4RFAAAAAAAAAHUCkcD0K16MaQNejcD0K1x9AhetRuB6FEUB7FK5H4XoTQFK4HoXrURhAXI/C9ShcIUAAAAAAAIAiQGZmZmZmZg5ArkfhehSuB0DXo3A9CtcgQPYoXI/C9RZApHA9CtejF0DNzMzMzMwKQKRwPQrXoxBAAAAAAAAAFkDhehSuR+EXQI/C9ShcjxxAKVyPwvUoJUAfhetRuB4bQPYoXI/C9QxApHA9CtejF0AzMzMzMzMfQArXo3A9CiRAj8L1KFyPCkCuR+F6FK4VQI/C9ShcjxVAXI/C9ShcFEDXo3A9CtcWQA==",
          "dtype": "f8"
         },
         "xaxis": "x3",
         "y": {
          "bdata": "JHsGotI+6j+4U99OGDfpPzCsuwLFAvQ/brYuMdn+7z+dQmcB6tLvP9pW/5vcE+w/Q6R+x/Q46T+yySabTFHqP4rDVyWkJvI/R3YQo6PN8T9W6QWMMGjyP4LnLFrbCOs/oqgmF1499z9nnw7tOVXpPyQeJtl2Ue4/gA5Fn1pm5z81PB4XtjLpP+PdRrDTouk/DqOQEJN/7T8bhFodDqLyP1yeFXrja+Y/Q0u3op+E7j/oN5qPkRHyPzcjff6iKeg/Rcz0kGGJ7D/y/K1g3MboP1ZkL79qPvE/Lt/BR+eV8j+pa5wQufXwPwmNjSRuhuk/pJhrDmrG8D87rAP9X037P67mR3U9qOg/yIlXA2TG9j++OqzPoZriP/B8cx9nguo/5pbL2Y6u5D/f9E4Pg7/kP5HX3H3e8+s/iqXY+Joj6T9NAvhQHnLgP24Ahe+wv/A/brWSD2oZ6D9EN5OYfozjP8tPYrwmNew/DYaF67O2AEDEo3b11i/nP9ues72mf/Q/Evsnrr5I9D+Jh4eHQ4vuP/twfK79w+4/Uw06DxCS5z/eAY/M4zLyPwBi2p8Xy+M/UKRQTHxp7j84T3zbzGznP4Eu5KMF0O8/J0TrHtXX5T+bVoRYtYjwP8H9vqJve+8/J3MFyIOR6D8T3V8VqafpP8IdOK6d0uM/+7iHebug7D/KHF20pHfsP2UupyGZNuk/B6WsZTIT5z8t6TknW4vmP/Bmed4QuOk/1OB5ue+M6j9MJTqMa4XvP+PrDYWSfug/1hiZM3Rk8D9jQsriNa7zP0vcYHwSWO0/Hfa8/IlD7T8XalgMiC3mP1SkoPGGBPs/l3Hgyfzw6D8OT248F7LvP2D86iFcqvE/ZRnXegsO8z/IhJMnerTvPxZVFslBCfE/pe9yJYew7D+96U1v5EHwP3nDz42FPfE/H823SpqS8D/px7NrlFPxPwy9H1C3zvI/u+dIBl2E6D/EzBq0ShvpP11QOOV7Wuc/hcVXG7Cn5z++VZriN6zlPxMJFuxyBvA/pJq7z3kg8D/zaxsbO/zsP/7+7yZWkfE/8YMHaWpz5z9VTRZ3Iy7yP3zVpgZ1Ju0/9gDZSbnp7z8w+zSsDGXlP7VShd3LHfI/UOlaDTtB5z+aznge3yDsP2JKk81xtO0/JFgAYqBQ4D9WYUyIDivoP7G2aSVGQvI/ao+EANXk5z8dNA1OaBnmP8gw7RfMtuo/rjPVzmTi6T+n3TvPsj3xP0C/XbjGSO0/gcCfhLYt7T9qJQalWUbxP/Mni62UR+0/nSCHOhRM+D9gGIxYqKzxP9HNkYKgaO4/yQ19TVNz6T+oax/z6BjvP0EdthuIsug/DOIMPFTH5z8nf6VXrufvP0eMKmfnHO0/57O/FoI77D8nE1jnJYb0P+VYYeMXW/M/O5OcttKo6T+8F94LbyXoP/7wTJtXdu0//PuHL2Cs7j+wPcYLg/vnP9EPeQ6DN+o/rmVwCQrl9D9sVW5EKFzoPy3f0tT+p/E/QX4BgtEo6z/jf1fuo0nnP5rXRr6UDe0/o5u5EZ9m9T/Hya/YcCvpP4DJ7lyD2/Q/HqBaSvJ65z8AZzGp6tbqP281WKEWPPo/IRLc6ruy8j8l3eQHbgXxPx/YtEG6MOc/YWh8d6Rt7j/ug/lA29/tP5CCKEseTPU//N9euNKm8z/DJCnKaLvmP/bSQnuqzu4/4CXVrCvQ+D/uJcrZkhXxP5utroqo2eI/+h5nYfo45z/N95i+pzzuP9+Td9TBweQ/ee5JSbpk7z8sc1zqjYvlP2RXOPI71/A/Md0rXazN5j+N7QldKO/ZPzgcXNL9RPM/ZTdWeJAi8D8+HHplj9jpP9gQ12pmE+A/EEvGGVPf7z8jTgOTPVTsPw==",
          "dtype": "f8"
         },
         "yaxis": "y3"
        }
       ],
       "layout": {
        "annotations": [
         {
          "font": {
           "size": 16
          },
          "showarrow": false,
          "text": "Environmental Score vs Returns",
          "x": 0.14444444444444446,
          "xanchor": "center",
          "xref": "paper",
          "y": 1,
          "yanchor": "bottom",
          "yref": "paper"
         },
         {
          "font": {
           "size": 16
          },
          "showarrow": false,
          "text": "Social Score vs Returns",
          "x": 0.5,
          "xanchor": "center",
          "xref": "paper",
          "y": 1,
          "yanchor": "bottom",
          "yref": "paper"
         },
         {
          "font": {
           "size": 16
          },
          "showarrow": false,
          "text": "Governance Score vs Returns",
          "x": 0.8555555555555556,
          "xanchor": "center",
          "xref": "paper",
          "y": 1,
          "yanchor": "bottom",
          "yref": "paper"
         }
        ],
        "height": 400,
        "template": {
         "data": {
          "bar": [
           {
            "error_x": {
             "color": "#2a3f5f"
            },
            "error_y": {
             "color": "#2a3f5f"
            },
            "marker": {
             "line": {
              "color": "#E5ECF6",
              "width": 0.5
             },
             "pattern": {
              "fillmode": "overlay",
              "size": 10,
              "solidity": 0.2
             }
            },
            "type": "bar"
           }
          ],
          "barpolar": [
           {
            "marker": {
             "line": {
              "color": "#E5ECF6",
              "width": 0.5
             },
             "pattern": {
              "fillmode": "overlay",
              "size": 10,
              "solidity": 0.2
             }
            },
            "type": "barpolar"
           }
          ],
          "carpet": [
           {
            "aaxis": {
             "endlinecolor": "#2a3f5f",
             "gridcolor": "white",
             "linecolor": "white",
             "minorgridcolor": "white",
             "startlinecolor": "#2a3f5f"
            },
            "baxis": {
             "endlinecolor": "#2a3f5f",
             "gridcolor": "white",
             "linecolor": "white",
             "minorgridcolor": "white",
             "startlinecolor": "#2a3f5f"
            },
            "type": "carpet"
           }
          ],
          "choropleth": [
           {
            "colorbar": {
             "outlinewidth": 0,
             "ticks": ""
            },
            "type": "choropleth"
           }
          ],
          "contour": [
           {
            "colorbar": {
             "outlinewidth": 0,
             "ticks": ""
            },
            "colorscale": [
             [
              0,
              "#0d0887"
             ],
             [
              0.1111111111111111,
              "#46039f"
             ],
             [
              0.2222222222222222,
              "#7201a8"
             ],
             [
              0.3333333333333333,
              "#9c179e"
             ],
             [
              0.4444444444444444,
              "#bd3786"
             ],
             [
              0.5555555555555556,
              "#d8576b"
             ],
             [
              0.6666666666666666,
              "#ed7953"
             ],
             [
              0.7777777777777778,
              "#fb9f3a"
             ],
             [
              0.8888888888888888,
              "#fdca26"
             ],
             [
              1,
              "#f0f921"
             ]
            ],
            "type": "contour"
           }
          ],
          "contourcarpet": [
           {
            "colorbar": {
             "outlinewidth": 0,
             "ticks": ""
            },
            "type": "contourcarpet"
           }
          ],
          "heatmap": [
           {
            "colorbar": {
             "outlinewidth": 0,
             "ticks": ""
            },
            "colorscale": [
             [
              0,
              "#0d0887"
             ],
             [
              0.1111111111111111,
              "#46039f"
             ],
             [
              0.2222222222222222,
              "#7201a8"
             ],
             [
              0.3333333333333333,
              "#9c179e"
             ],
             [
              0.4444444444444444,
              "#bd3786"
             ],
             [
              0.5555555555555556,
              "#d8576b"
             ],
             [
              0.6666666666666666,
              "#ed7953"
             ],
             [
              0.7777777777777778,
              "#fb9f3a"
             ],
             [
              0.8888888888888888,
              "#fdca26"
             ],
             [
              1,
              "#f0f921"
             ]
            ],
            "type": "heatmap"
           }
          ],
          "histogram": [
           {
            "marker": {
             "pattern": {
              "fillmode": "overlay",
              "size": 10,
              "solidity": 0.2
             }
            },
            "type": "histogram"
           }
          ],
          "histogram2d": [
           {
            "colorbar": {
             "outlinewidth": 0,
             "ticks": ""
            },
            "colorscale": [
             [
              0,
              "#0d0887"
             ],
             [
              0.1111111111111111,
              "#46039f"
             ],
             [
              0.2222222222222222,
              "#7201a8"
             ],
             [
              0.3333333333333333,
              "#9c179e"
             ],
             [
              0.4444444444444444,
              "#bd3786"
             ],
             [
              0.5555555555555556,
              "#d8576b"
             ],
             [
              0.6666666666666666,
              "#ed7953"
             ],
             [
              0.7777777777777778,
              "#fb9f3a"
             ],
             [
              0.8888888888888888,
              "#fdca26"
             ],
             [
              1,
              "#f0f921"
             ]
            ],
            "type": "histogram2d"
           }
          ],
          "histogram2dcontour": [
           {
            "colorbar": {
             "outlinewidth": 0,
             "ticks": ""
            },
            "colorscale": [
             [
              0,
              "#0d0887"
             ],
             [
              0.1111111111111111,
              "#46039f"
             ],
             [
              0.2222222222222222,
              "#7201a8"
             ],
             [
              0.3333333333333333,
              "#9c179e"
             ],
             [
              0.4444444444444444,
              "#bd3786"
             ],
             [
              0.5555555555555556,
              "#d8576b"
             ],
             [
              0.6666666666666666,
              "#ed7953"
             ],
             [
              0.7777777777777778,
              "#fb9f3a"
             ],
             [
              0.8888888888888888,
              "#fdca26"
             ],
             [
              1,
              "#f0f921"
             ]
            ],
            "type": "histogram2dcontour"
           }
          ],
          "mesh3d": [
           {
            "colorbar": {
             "outlinewidth": 0,
             "ticks": ""
            },
            "type": "mesh3d"
           }
          ],
          "parcoords": [
           {
            "line": {
             "colorbar": {
              "outlinewidth": 0,
              "ticks": ""
             }
            },
            "type": "parcoords"
           }
          ],
          "pie": [
           {
            "automargin": true,
            "type": "pie"
           }
          ],
          "scatter": [
           {
            "fillpattern": {
             "fillmode": "overlay",
             "size": 10,
             "solidity": 0.2
            },
            "type": "scatter"
           }
          ],
          "scatter3d": [
           {
            "line": {
             "colorbar": {
              "outlinewidth": 0,
              "ticks": ""
             }
            },
            "marker": {
             "colorbar": {
              "outlinewidth": 0,
              "ticks": ""
             }
            },
            "type": "scatter3d"
           }
          ],
          "scattercarpet": [
           {
            "marker": {
             "colorbar": {
              "outlinewidth": 0,
              "ticks": ""
             }
            },
            "type": "scattercarpet"
           }
          ],
          "scattergeo": [
           {
            "marker": {
             "colorbar": {
              "outlinewidth": 0,
              "ticks": ""
             }
            },
            "type": "scattergeo"
           }
          ],
          "scattergl": [
           {
            "marker": {
             "colorbar": {
              "outlinewidth": 0,
              "ticks": ""
             }
            },
            "type": "scattergl"
           }
          ],
          "scattermap": [
           {
            "marker": {
             "colorbar": {
              "outlinewidth": 0,
              "ticks": ""
             }
            },
            "type": "scattermap"
           }
          ],
          "scattermapbox": [
           {
            "marker": {
             "colorbar": {
              "outlinewidth": 0,
              "ticks": ""
             }
            },
            "type": "scattermapbox"
           }
          ],
          "scatterpolar": [
           {
            "marker": {
             "colorbar": {
              "outlinewidth": 0,
              "ticks": ""
             }
            },
            "type": "scatterpolar"
           }
          ],
          "scatterpolargl": [
           {
            "marker": {
             "colorbar": {
              "outlinewidth": 0,
              "ticks": ""
             }
            },
            "type": "scatterpolargl"
           }
          ],
          "scatterternary": [
           {
            "marker": {
             "colorbar": {
              "outlinewidth": 0,
              "ticks": ""
             }
            },
            "type": "scatterternary"
           }
          ],
          "surface": [
           {
            "colorbar": {
             "outlinewidth": 0,
             "ticks": ""
            },
            "colorscale": [
             [
              0,
              "#0d0887"
             ],
             [
              0.1111111111111111,
              "#46039f"
             ],
             [
              0.2222222222222222,
              "#7201a8"
             ],
             [
              0.3333333333333333,
              "#9c179e"
             ],
             [
              0.4444444444444444,
              "#bd3786"
             ],
             [
              0.5555555555555556,
              "#d8576b"
             ],
             [
              0.6666666666666666,
              "#ed7953"
             ],
             [
              0.7777777777777778,
              "#fb9f3a"
             ],
             [
              0.8888888888888888,
              "#fdca26"
             ],
             [
              1,
              "#f0f921"
             ]
            ],
            "type": "surface"
           }
          ],
          "table": [
           {
            "cells": {
             "fill": {
              "color": "#EBF0F8"
             },
             "line": {
              "color": "white"
             }
            },
            "header": {
             "fill": {
              "color": "#C8D4E3"
             },
             "line": {
              "color": "white"
             }
            },
            "type": "table"
           }
          ]
         },
         "layout": {
          "annotationdefaults": {
           "arrowcolor": "#2a3f5f",
           "arrowhead": 0,
           "arrowwidth": 1
          },
          "autotypenumbers": "strict",
          "coloraxis": {
           "colorbar": {
            "outlinewidth": 0,
            "ticks": ""
           }
          },
          "colorscale": {
           "diverging": [
            [
             0,
             "#8e0152"
            ],
            [
             0.1,
             "#c51b7d"
            ],
            [
             0.2,
             "#de77ae"
            ],
            [
             0.3,
             "#f1b6da"
            ],
            [
             0.4,
             "#fde0ef"
            ],
            [
             0.5,
             "#f7f7f7"
            ],
            [
             0.6,
             "#e6f5d0"
            ],
            [
             0.7,
             "#b8e186"
            ],
            [
             0.8,
             "#7fbc41"
            ],
            [
             0.9,
             "#4d9221"
            ],
            [
             1,
             "#276419"
            ]
           ],
           "sequential": [
            [
             0,
             "#0d0887"
            ],
            [
             0.1111111111111111,
             "#46039f"
            ],
            [
             0.2222222222222222,
             "#7201a8"
            ],
            [
             0.3333333333333333,
             "#9c179e"
            ],
            [
             0.4444444444444444,
             "#bd3786"
            ],
            [
             0.5555555555555556,
             "#d8576b"
            ],
            [
             0.6666666666666666,
             "#ed7953"
            ],
            [
             0.7777777777777778,
             "#fb9f3a"
            ],
            [
             0.8888888888888888,
             "#fdca26"
            ],
            [
             1,
             "#f0f921"
            ]
           ],
           "sequentialminus": [
            [
             0,
             "#0d0887"
            ],
            [
             0.1111111111111111,
             "#46039f"
            ],
            [
             0.2222222222222222,
             "#7201a8"
            ],
            [
             0.3333333333333333,
             "#9c179e"
            ],
            [
             0.4444444444444444,
             "#bd3786"
            ],
            [
             0.5555555555555556,
             "#d8576b"
            ],
            [
             0.6666666666666666,
             "#ed7953"
            ],
            [
             0.7777777777777778,
             "#fb9f3a"
            ],
            [
             0.8888888888888888,
             "#fdca26"
            ],
            [
             1,
             "#f0f921"
            ]
           ]
          },
          "colorway": [
           "#636efa",
           "#EF553B",
           "#00cc96",
           "#ab63fa",
           "#FFA15A",
           "#19d3f3",
           "#FF6692",
           "#B6E880",
           "#FF97FF",
           "#FECB52"
          ],
          "font": {
           "color": "#2a3f5f"
          },
          "geo": {
           "bgcolor": "white",
           "lakecolor": "white",
           "landcolor": "#E5ECF6",
           "showlakes": true,
           "showland": true,
           "subunitcolor": "white"
          },
          "hoverlabel": {
           "align": "left"
          },
          "hovermode": "closest",
          "mapbox": {
           "style": "light"
          },
          "paper_bgcolor": "white",
          "plot_bgcolor": "#E5ECF6",
          "polar": {
           "angularaxis": {
            "gridcolor": "white",
            "linecolor": "white",
            "ticks": ""
           },
           "bgcolor": "#E5ECF6",
           "radialaxis": {
            "gridcolor": "white",
            "linecolor": "white",
            "ticks": ""
           }
          },
          "scene": {
           "xaxis": {
            "backgroundcolor": "#E5ECF6",
            "gridcolor": "white",
            "gridwidth": 2,
            "linecolor": "white",
            "showbackground": true,
            "ticks": "",
            "zerolinecolor": "white"
           },
           "yaxis": {
            "backgroundcolor": "#E5ECF6",
            "gridcolor": "white",
            "gridwidth": 2,
            "linecolor": "white",
            "showbackground": true,
            "ticks": "",
            "zerolinecolor": "white"
           },
           "zaxis": {
            "backgroundcolor": "#E5ECF6",
            "gridcolor": "white",
            "gridwidth": 2,
            "linecolor": "white",
            "showbackground": true,
            "ticks": "",
            "zerolinecolor": "white"
           }
          },
          "shapedefaults": {
           "line": {
            "color": "#2a3f5f"
           }
          },
          "ternary": {
           "aaxis": {
            "gridcolor": "white",
            "linecolor": "white",
            "ticks": ""
           },
           "baxis": {
            "gridcolor": "white",
            "linecolor": "white",
            "ticks": ""
           },
           "bgcolor": "#E5ECF6",
           "caxis": {
            "gridcolor": "white",
            "linecolor": "white",
            "ticks": ""
           }
          },
          "title": {
           "x": 0.05
          },
          "xaxis": {
           "automargin": true,
           "gridcolor": "white",
           "linecolor": "white",
           "ticks": "",
           "title": {
            "standoff": 15
           },
           "zerolinecolor": "white",
           "zerolinewidth": 2
          },
          "yaxis": {
           "automargin": true,
           "gridcolor": "white",
           "linecolor": "white",
           "ticks": "",
           "title": {
            "standoff": 15
           },
           "zerolinecolor": "white",
           "zerolinewidth": 2
          }
         }
        },
        "title": {
         "text": "ESG Components vs 12-Month Returns"
        },
        "width": 1200,
        "xaxis": {
         "anchor": "y",
         "domain": [
          0,
          0.2888888888888889
         ]
        },
        "xaxis2": {
         "anchor": "y2",
         "domain": [
          0.35555555555555557,
          0.6444444444444445
         ]
        },
        "xaxis3": {
         "anchor": "y3",
         "domain": [
          0.7111111111111111,
          1
         ]
        },
        "yaxis": {
         "anchor": "x",
         "domain": [
          0,
          1
         ]
        },
        "yaxis2": {
         "anchor": "x2",
         "domain": [
          0,
          1
         ]
        },
        "yaxis3": {
         "anchor": "x3",
         "domain": [
          0,
          1
         ]
        }
       }
      }
     },
     "metadata": {},
     "output_type": "display_data"
    }
   ],
   "source": [
    "# Create correlation matrix\n",
    "esg_cols = ['environmentScore', 'socialScore', 'governanceScore', '12M_Return']\n",
    "corr_matrix = df[esg_cols].corr()\n",
    "\n",
    "plt.figure(figsize=(10, 8))\n",
    "sns.heatmap(corr_matrix, annot=True, cmap='coolwarm', center=0)\n",
    "plt.title('Correlation between ESG Components and Returns')\n",
    "plt.tight_layout()\n",
    "plt.show()\n",
    "\n",
    "# Create scatter plots\n",
    "fig = make_subplots(rows=1, cols=3,\n",
    "                    subplot_titles=('Environmental Score vs Returns',\n",
    "                                   'Social Score vs Returns',\n",
    "                                   'Governance Score vs Returns'))\n",
    "\n",
    "for i, score in enumerate(['environmentScore', 'socialScore', 'governanceScore']):\n",
    "    fig.add_trace(\n",
    "        go.Scatter(x=df[score], y=df['12M_Return'],\n",
    "                   mode='markers',\n",
    "                   name=score.replace('Score', ''),\n",
    "                   marker=dict(color=df['GIS Sector'].astype('category').cat.codes,\n",
    "                              colorscale='Viridis',\n",
    "                              showscale=True if i == 2 else False),\n",
    "                   text=df['GIS Sector']),\n",
    "        row=1, col=i+1\n",
    "    )\n",
    "\n",
    "fig.update_layout(height=400, width=1200, title_text='ESG Components vs 12-Month Returns')\n",
    "fig.show()"
   ]
  },
  {
   "cell_type": "markdown",
   "metadata": {},
   "source": [
    "## 3. Energy Sector Deep Dive"
   ]
  },
  {
   "cell_type": "code",
   "execution_count": null,
   "metadata": {},
   "outputs": [
    {
     "data": {
      "text/html": [
       "<div>\n",
       "<style scoped>\n",
       "    .dataframe tbody tr th:only-of-type {\n",
       "        vertical-align: middle;\n",
       "    }\n",
       "\n",
       "    .dataframe tbody tr th {\n",
       "        vertical-align: top;\n",
       "    }\n",
       "\n",
       "    .dataframe thead th {\n",
       "        text-align: right;\n",
       "    }\n",
       "</style>\n",
       "<table border=\"1\" class=\"dataframe\">\n",
       "  <thead>\n",
       "    <tr style=\"text-align: right;\">\n",
       "      <th></th>\n",
       "      <th>Mean R2</th>\n",
       "      <th>Std R2</th>\n",
       "    </tr>\n",
       "  </thead>\n",
       "  <tbody>\n",
       "    <tr>\n",
       "      <th>Linear Regression</th>\n",
       "      <td>-20.505845</td>\n",
       "      <td>26.483816</td>\n",
       "    </tr>\n",
       "    <tr>\n",
       "      <th>Random Forest</th>\n",
       "      <td>-7.805489</td>\n",
       "      <td>4.583880</td>\n",
       "    </tr>\n",
       "    <tr>\n",
       "      <th>XGBoost</th>\n",
       "      <td>-3.115783</td>\n",
       "      <td>1.212827</td>\n",
       "    </tr>\n",
       "  </tbody>\n",
       "</table>\n",
       "</div>"
      ],
      "text/plain": [
       "                     Mean R2     Std R2\n",
       "Linear Regression -20.505845  26.483816\n",
       "Random Forest      -7.805489   4.583880\n",
       "XGBoost            -3.115783   1.212827"
      ]
     },
     "execution_count": 23,
     "metadata": {},
     "output_type": "execute_result"
    }
   ],
   "source": [
    "# Filter Energy sector data\n",
    "energy_df = df[df['GIS Sector'] == 'Energy'].copy()\n",
    "\n",
    "# Create prediction model for Energy sector\n",
    "X_energy = energy_df[['environmentScore', 'socialScore', 'governanceScore']]\n",
    "y_energy = energy_df['12M_Return']\n",
    "\n",
    "# Scale features\n",
    "scaler = StandardScaler()\n",
    "X_energy_scaled = scaler.fit_transform(X_energy)\n",
    "\n",
    "# Train models\n",
    "models = {\n",
    "    'Linear Regression': LinearRegression(),\n",
    "    'Random Forest': RandomForestRegressor(n_estimators=100, random_state=42),\n",
    "    'XGBoost': xgb.XGBRegressor(objective='reg:squarederror', random_state=42)\n",
    "}\n",
    "\n",
    "# Cross-validation results\n",
    "cv_results = {}\n",
    "for name, model in models.items():\n",
    "    scores = cross_val_score(model, X_energy_scaled, y_energy, cv=3, scoring='r2')\n",
    "    cv_results[name] = {\n",
    "        'Mean R2': scores.mean(),\n",
    "        'Std R2': scores.std()\n",
    "    }\n",
    "\n",
    "# Display results\n",
    "pd.DataFrame(cv_results).T"
   ]
  },
  {
   "cell_type": "markdown",
   "metadata": {},
   "source": [
    "## 4. ESG Score Distribution by Sector"
   ]
  },
  {
   "cell_type": "code",
   "execution_count": null,
   "metadata": {},
   "outputs": [
    {
     "data": {
      "application/vnd.plotly.v1+json": {
       "config": {
        "plotlyServerURL": "https://plot.ly"
       },
       "data": [
        {
         "box": {
          "visible": true
         },
         "meanline": {
          "visible": true
         },
         "name": "environment",
         "type": "violin",
         "x": [
          "Information Technology",
          "Health Care",
          "Health Care",
          "Financials",
          "Health Care",
          "Information Technology",
          "Consumer Discretionary",
          "Consumer Staples",
          "Financials",
          "Communication Services",
          "Health Care",
          "Financials",
          "Consumer Staples",
          "Health Care",
          "Utilities",
          "Financials",
          "Financials",
          "Materials",
          "Information Technology",
          "Consumer Discretionary",
          "Real Estate",
          "Health Care",
          "Financials",
          "Consumer Staples",
          "Real Estate",
          "Consumer Discretionary",
          "Consumer Staples",
          "Materials",
          "Utilities",
          "Industrials",
          "Consumer Discretionary",
          "Energy",
          "Utilities",
          "Industrials",
          "Real Estate",
          "Industrials",
          "Materials",
          "Consumer Discretionary",
          "Consumer Discretionary",
          "Real Estate",
          "Consumer Discretionary",
          "Health Care",
          "Real Estate",
          "Consumer Discretionary",
          "Health Care",
          "Energy",
          "Real Estate",
          "Materials",
          "Consumer Staples",
          "Information Technology",
          "Utilities",
          "Information Technology",
          "Industrials",
          "Information Technology",
          "Utilities",
          "Information Technology",
          "Industrials",
          "Real Estate",
          "Utilities",
          "Industrials",
          "Information Technology",
          "Information Technology",
          "Health Care",
          "Consumer Discretionary",
          "Utilities",
          "Health Care",
          "Materials",
          "Information Technology",
          "Materials",
          "Materials",
          "Communication Services",
          "Real Estate",
          "Industrials",
          "Health Care",
          "Industrials",
          "Information Technology",
          "Health Care",
          "Energy",
          "Consumer Discretionary",
          "Materials",
          "Consumer Staples",
          "Consumer Staples",
          "Financials",
          "Information Technology",
          "Financials",
          "Consumer Staples",
          "Utilities",
          "Health Care",
          "Financials",
          "Utilities",
          "Financials",
          "Financials",
          "Materials",
          "Industrials",
          "Financials",
          "Financials",
          "Consumer Discretionary",
          "Industrials",
          "Industrials",
          "Real Estate",
          "Health Care",
          "Industrials",
          "Consumer Staples",
          "Consumer Staples",
          "Consumer Staples",
          "Financials",
          "Consumer Staples",
          "Health Care",
          "Communication Services",
          "Financials",
          "Industrials",
          "Financials",
          "Industrials",
          "Financials",
          "Health Care",
          "Communication Services",
          "Consumer Discretionary",
          "Industrials",
          "Real Estate",
          "Industrials",
          "Energy",
          "Health Care",
          "Industrials",
          "Information Technology",
          "Industrials",
          "Industrials",
          "Real Estate",
          "Financials",
          "Financials",
          "Materials",
          "Utilities",
          "Consumer Discretionary",
          "Financials",
          "Consumer Discretionary",
          "Information Technology",
          "Consumer Discretionary",
          "Communication Services",
          "Industrials",
          "Health Care",
          "Information Technology",
          "Industrials",
          "Financials",
          "Materials",
          "Materials",
          "Consumer Staples",
          "Consumer Discretionary",
          "Consumer Staples",
          "Financials",
          "Consumer Staples",
          "Energy",
          "Consumer Staples",
          "Utilities",
          "Consumer Discretionary",
          "Financials",
          "Financials",
          "Consumer Discretionary",
          "Energy",
          "Health Care",
          "Real Estate",
          "Energy",
          "Materials",
          "Consumer Discretionary",
          "Information Technology",
          "Real Estate",
          "Health Care",
          "Consumer Discretionary",
          "Industrials",
          "Materials",
          "Information Technology",
          "Industrials",
          "Financials",
          "Industrials",
          "Industrials",
          "Information Technology",
          "Health Care",
          "Consumer Discretionary"
         ],
         "xaxis": "x",
         "y": {
          "bdata": "zczMzMzM3D8zMzMzMzMNQAAAAAAAAPA/9ihcj8L1/D/sUbgehevxPwAAAAAAgC5AMzMzMzMzA0CkcD0K16P8PwrXo3A9Crc/FK5H4XoUCkB7FK5H4XqEP1yPwvUoXP8/pHA9CtejMECF61G4HoXbPxSuR+F6FCFArkfhehSu+z8zMzMzMzMNQPYoXI/C9SVACtejcD2KIkBSuB6F61EQQEjhehSuRw9A7FG4HoXrD0Bcj8L1KFz3PwrXo3A9CixAw/UoXI/CDUB7FK5H4XoKQOxRuB6F6xxAMzMzMzOzLEBmZmZmZmYpQI/C9ShcjyJAPQrXo3A9/j/Xo3A9ChcxQOF6FK5H4SdAKVyPwvUoH0BSuB6F61EEQM3MzMzMzCVAFK5H4XoUIUDsUbgehesFQClcj8L1KBdAMzMzMzMzB0AAAAAAAAAYQFK4HoXrUQhA7FG4HoXrEEApXI/C9agjQArXo3A9Cvc/exSuR+H6OEBSuB6F61EQQD0K16NwvStACtejcD0KJUAfhetRuB79P65H4XoUrhJAcT0K16NwDUC4HoXrUbggQK5H4XoUrvc/w/UoXI/CIkBcj8L1KFz3Pz0K16NwPQhAw/UoXI/CDUC4HoXrUbgqQM3MzMzMTCFAPQrXo3A96j/2KFyPwvUSQOF6FK5H4QZAKVyPwvUoG0AUrkfhehQiQJqZmZmZmQVAH4XrUbieLED2KFyPwvURQK5H4XoUrjBA16NwPQrXJkCkcD0K16PAP6RwPQrXow5ASOF6FK5HFUDhehSuR+HaP+xRuB6F6xJArkfhehSuEkD2KFyPwvUEQK5H4XoU7jJAj8L1KFyPCkBI4XoUrscuQAAAAAAAAAxA7FG4HoVrJUAfhetRuB4DQGZmZmZmZu4/pHA9CtejwD8fhetRuJ4qQFyPwvUoXC1AzczMzMzMDECkcD0K16MAQHE9CtejcC1AMzMzMzMz+z/sUbgehevxP65H4XoUrilAexSuR+F6FUBcj8L1KFwQQB+F61G4Hv0/mpmZmZkZIUAUrkfhehQRQHsUrkfhehZA7FG4HoXrBUDhehSuR+ECQAAAAAAAABxAXI/C9SjcJEDNzMzMzMwbQFyPwvUoXAtAw/UoXI/C+T/hehSuR+EeQKRwPQrXo8A/CtejcD0Ktz8K16NwPQrzPylcj8L1KBJA7FG4HoXr/T+amZmZmZkcQMP1KFyPwvE/KVyPwvUoAkAK16NwPQq3P3E9CtejcAtA7FG4HoXrIkAAAAAAAAAKQD0K16NwPQpAUrgeheuRMUAK16NwPQq3P9ejcD0K1yVAAAAAAAAACECuR+F6FK4JQOF6FK5H4SNAMzMzMzMzD0AK16NwPQq3Pylcj8L1KPw/16NwPQrXKkC4HoXrUbglQOxRuB6F68E/XI/C9Shc5z/NzMzMzEwgQLgehetRuApAH4XrUbgeEkDsUbgehesNQPYoXI/C9RFAXI/C9Shc5z89CtejcD0XQGZmZmZmZgZAw/UoXI/C+T97FK5H4fokQAAAAAAAACtApHA9CtejIEDhehSuR2EiQD0K16NwvSVApHA9CtejwD+PwvUoXI8bQHsUrkfh+jVASOF6FK5HJUD2KFyPwvUnQHE9Ctej8CFAhetRuB6F/z97FK5H4XrkP65H4XoUrhJAcT0K16NwIUDsUbgeheuxP6RwPQrXoxFAKVyPwvUoIECuR+F6FK4dQHsUrkfheqQ/hetRuB6FAUDNzMzMzMwCQKRwPQrXowZA9ihcj8L1CkB7FK5H4Xq0P+xRuB6F6ytAw/UoXI/C8T8AAAAAAAAUQClcj8L1KPA/rkfhehQuIEDsUbgehesfQBSuR+F6FABAmpmZmZmZ9T9cj8L1KFwFQA==",
          "dtype": "f8"
         },
         "yaxis": "y"
        },
        {
         "box": {
          "visible": true
         },
         "meanline": {
          "visible": true
         },
         "name": "social",
         "type": "violin",
         "x": [
          "Information Technology",
          "Health Care",
          "Health Care",
          "Financials",
          "Health Care",
          "Information Technology",
          "Consumer Discretionary",
          "Consumer Staples",
          "Financials",
          "Communication Services",
          "Health Care",
          "Financials",
          "Consumer Staples",
          "Health Care",
          "Utilities",
          "Financials",
          "Financials",
          "Materials",
          "Information Technology",
          "Consumer Discretionary",
          "Real Estate",
          "Health Care",
          "Financials",
          "Consumer Staples",
          "Real Estate",
          "Consumer Discretionary",
          "Consumer Staples",
          "Materials",
          "Utilities",
          "Industrials",
          "Consumer Discretionary",
          "Energy",
          "Utilities",
          "Industrials",
          "Real Estate",
          "Industrials",
          "Materials",
          "Consumer Discretionary",
          "Consumer Discretionary",
          "Real Estate",
          "Consumer Discretionary",
          "Health Care",
          "Real Estate",
          "Consumer Discretionary",
          "Health Care",
          "Energy",
          "Real Estate",
          "Materials",
          "Consumer Staples",
          "Information Technology",
          "Utilities",
          "Information Technology",
          "Industrials",
          "Information Technology",
          "Utilities",
          "Information Technology",
          "Industrials",
          "Real Estate",
          "Utilities",
          "Industrials",
          "Information Technology",
          "Information Technology",
          "Health Care",
          "Consumer Discretionary",
          "Utilities",
          "Health Care",
          "Materials",
          "Information Technology",
          "Materials",
          "Materials",
          "Communication Services",
          "Real Estate",
          "Industrials",
          "Health Care",
          "Industrials",
          "Information Technology",
          "Health Care",
          "Energy",
          "Consumer Discretionary",
          "Materials",
          "Consumer Staples",
          "Consumer Staples",
          "Financials",
          "Information Technology",
          "Financials",
          "Consumer Staples",
          "Utilities",
          "Health Care",
          "Financials",
          "Utilities",
          "Financials",
          "Financials",
          "Materials",
          "Industrials",
          "Financials",
          "Financials",
          "Consumer Discretionary",
          "Industrials",
          "Industrials",
          "Real Estate",
          "Health Care",
          "Industrials",
          "Consumer Staples",
          "Consumer Staples",
          "Consumer Staples",
          "Financials",
          "Consumer Staples",
          "Health Care",
          "Communication Services",
          "Financials",
          "Industrials",
          "Financials",
          "Industrials",
          "Financials",
          "Health Care",
          "Communication Services",
          "Consumer Discretionary",
          "Industrials",
          "Real Estate",
          "Industrials",
          "Energy",
          "Health Care",
          "Industrials",
          "Information Technology",
          "Industrials",
          "Industrials",
          "Real Estate",
          "Financials",
          "Financials",
          "Materials",
          "Utilities",
          "Consumer Discretionary",
          "Financials",
          "Consumer Discretionary",
          "Information Technology",
          "Consumer Discretionary",
          "Communication Services",
          "Industrials",
          "Health Care",
          "Information Technology",
          "Industrials",
          "Financials",
          "Materials",
          "Materials",
          "Consumer Staples",
          "Consumer Discretionary",
          "Consumer Staples",
          "Financials",
          "Consumer Staples",
          "Energy",
          "Consumer Staples",
          "Utilities",
          "Consumer Discretionary",
          "Financials",
          "Financials",
          "Consumer Discretionary",
          "Energy",
          "Health Care",
          "Real Estate",
          "Energy",
          "Materials",
          "Consumer Discretionary",
          "Information Technology",
          "Real Estate",
          "Health Care",
          "Consumer Discretionary",
          "Industrials",
          "Materials",
          "Information Technology",
          "Industrials",
          "Financials",
          "Industrials",
          "Industrials",
          "Information Technology",
          "Health Care",
          "Consumer Discretionary"
         ],
         "xaxis": "x2",
         "y": {
          "bdata": "mpmZmZmZG0ApXI/C9SgjQK5H4XoUrixAcT0K16NwIECuR+F6FK4ZQFK4HoXrUSJArkfhehQuIkAUrkfhepQiQNejcD0K1yVA4XoUrkfhK0D2KFyPwrUwQM3MzMzMTCRAzczMzMxMJEDsUbgehWspQDMzMzMzMxpArkfhehQuLkBcj8L1KFwlQM3MzMzMzB5AuB6F61G4GkAAAAAAAAAdQEjhehSuRw1AexSuR+F6KkAUrkfhehQnQEjhehSuxyhArkfhehSuCUA9CtejcD0VQEjhehSuxyJA16NwPQrXIUCF61G4HoUiQBSuR+F6lCBAmpmZmZmZHkDNzMzMzEwgQK5H4XoUriFAPQrXo3C9LEAUrkfhehQSQFyPwvUoXBdAMzMzMzMzGECamZmZmZkeQD0K16NwPS1AzczMzMzMBkBI4XoUrscuQM3MzMzMTCtAw/UoXI/CDUD2KFyPwvUmQI/C9ShcjxNAZmZmZmZmI0C4HoXrUbj6P5qZmZmZGSZAzczMzMzMJEDNzMzMzMwcQB+F61G4HiFA4XoUrkdhIEB7FK5H4folQEjhehSuRw9AmpmZmZmZIEAfhetRuB4eQNejcD0KVyJASOF6FK5HD0DsUbgeheshQIXrUbgeBSFAcT0K16NwEkAK16NwPYolQClcj8L1KCBArkfhehQuI0BSuB6F61EeQJqZmZmZmSFAZmZmZmZmIkDD9Shcj8IHQBSuR+F6FBNAZmZmZmZm7j/Xo3A9CtcgQOxRuB6F6w9AhetRuB6FGEDsUbgehessQBSuR+F6lCJA16NwPQpXI0BmZmZmZmYcQM3MzMzMzBxAPQrXo3A9FkBmZmZmZmYTQB+F61G4HiFA16NwPQrXLkBmZmZmZuYhQI/C9ShcjxBAPQrXo3C9J0Bcj8L1KFwlQAAAAAAAACZACtejcD0KLUBSuB6F61EfQPYoXI/CdSRAAAAAAACAIkDD9Shcj8IjQGZmZmZmZhdAj8L1KFyPGkDXo3A9ClcgQK5H4XoUrhpAUrgehetRIkBSuB6F61EhQPYoXI/C9R5AAAAAAAAABEAzMzMzM7MnQI/C9ShcjydAzczMzMzMJECamZmZmRkmQBSuR+F6FCtAXI/C9ShcGECuR+F6FC4hQKRwPQrXIypAPQrXo3A9HUDNzMzMzEwgQDMzMzMzMxZAKVyPwvWoJ0A9CtejcL0nQDMzMzMzczBAexSuR+F6LEApXI/C9agiQOF6FK5HYSBAj8L1KFyPK0BSuB6F61ESQDMzMzMzMxpApHA9CtcjIECPwvUoXI8qQBSuR+F6FDBAXI/C9ShcHECkcD0K16McQM3MzMzMTCdAmpmZmZmZB0AfhetRuJ4mQHE9Ctej8CVAPQrXo3A9G0BmZmZmZmYfQM3MzMzMTCBACtejcD0KJkC4HoXrUbgeQLgehetRuBtAZmZmZmbmJkCuR+F6FC4jQDMzMzMzMxJA9ihcj8L1KkDD9Shcj8IRQClcj8L1KBZAZmZmZmbmKUBI4XoUrkcWQM3MzMzMzABAcT0K16NwIUA9CtejcD0dQM3MzMzMTCBASOF6FK7HI0A9CtejcD0ZQMP1KFyPwiFAMzMzMzOzKkDXo3A9ClciQM3MzMzMzCVA4XoUrkdhJkCF61G4HgUkQLgehetRuBRAw/UoXI9CJEApXI/C9SgsQEjhehSuRxVAKVyPwvUoGUAAAAAAAAD4PwrXo3A9CgdA9ihcj8L1HkCkcD0K16MEQDMzMzMzMytAAAAAAACAJ0DNzMzMzEwwQPYoXI/C9fA/j8L1KFyPHkCF61G4HgUpQJqZmZmZmSJA9ihcj8L1FED2KFyPwvUoQOxRuB6F6x1A4XoUrkdhIEDXo3A9CtcQQA==",
          "dtype": "f8"
         },
         "yaxis": "y2"
        },
        {
         "box": {
          "visible": true
         },
         "meanline": {
          "visible": true
         },
         "name": "governance",
         "type": "violin",
         "x": [
          "Information Technology",
          "Health Care",
          "Health Care",
          "Financials",
          "Health Care",
          "Information Technology",
          "Consumer Discretionary",
          "Consumer Staples",
          "Financials",
          "Communication Services",
          "Health Care",
          "Financials",
          "Consumer Staples",
          "Health Care",
          "Utilities",
          "Financials",
          "Financials",
          "Materials",
          "Information Technology",
          "Consumer Discretionary",
          "Real Estate",
          "Health Care",
          "Financials",
          "Consumer Staples",
          "Real Estate",
          "Consumer Discretionary",
          "Consumer Staples",
          "Materials",
          "Utilities",
          "Industrials",
          "Consumer Discretionary",
          "Energy",
          "Utilities",
          "Industrials",
          "Real Estate",
          "Industrials",
          "Materials",
          "Consumer Discretionary",
          "Consumer Discretionary",
          "Real Estate",
          "Consumer Discretionary",
          "Health Care",
          "Real Estate",
          "Consumer Discretionary",
          "Health Care",
          "Energy",
          "Real Estate",
          "Materials",
          "Consumer Staples",
          "Information Technology",
          "Utilities",
          "Information Technology",
          "Industrials",
          "Information Technology",
          "Utilities",
          "Information Technology",
          "Industrials",
          "Real Estate",
          "Utilities",
          "Industrials",
          "Information Technology",
          "Information Technology",
          "Health Care",
          "Consumer Discretionary",
          "Utilities",
          "Health Care",
          "Materials",
          "Information Technology",
          "Materials",
          "Materials",
          "Communication Services",
          "Real Estate",
          "Industrials",
          "Health Care",
          "Industrials",
          "Information Technology",
          "Health Care",
          "Energy",
          "Consumer Discretionary",
          "Materials",
          "Consumer Staples",
          "Consumer Staples",
          "Financials",
          "Information Technology",
          "Financials",
          "Consumer Staples",
          "Utilities",
          "Health Care",
          "Financials",
          "Utilities",
          "Financials",
          "Financials",
          "Materials",
          "Industrials",
          "Financials",
          "Financials",
          "Consumer Discretionary",
          "Industrials",
          "Industrials",
          "Real Estate",
          "Health Care",
          "Industrials",
          "Consumer Staples",
          "Consumer Staples",
          "Consumer Staples",
          "Financials",
          "Consumer Staples",
          "Health Care",
          "Communication Services",
          "Financials",
          "Industrials",
          "Financials",
          "Industrials",
          "Financials",
          "Health Care",
          "Communication Services",
          "Consumer Discretionary",
          "Industrials",
          "Real Estate",
          "Industrials",
          "Energy",
          "Health Care",
          "Industrials",
          "Information Technology",
          "Industrials",
          "Industrials",
          "Real Estate",
          "Financials",
          "Financials",
          "Materials",
          "Utilities",
          "Consumer Discretionary",
          "Financials",
          "Consumer Discretionary",
          "Information Technology",
          "Consumer Discretionary",
          "Communication Services",
          "Industrials",
          "Health Care",
          "Information Technology",
          "Industrials",
          "Financials",
          "Materials",
          "Materials",
          "Consumer Staples",
          "Consumer Discretionary",
          "Consumer Staples",
          "Financials",
          "Consumer Staples",
          "Energy",
          "Consumer Staples",
          "Utilities",
          "Consumer Discretionary",
          "Financials",
          "Financials",
          "Consumer Discretionary",
          "Energy",
          "Health Care",
          "Real Estate",
          "Energy",
          "Materials",
          "Consumer Discretionary",
          "Information Technology",
          "Real Estate",
          "Health Care",
          "Consumer Discretionary",
          "Industrials",
          "Materials",
          "Information Technology",
          "Industrials",
          "Financials",
          "Industrials",
          "Industrials",
          "Information Technology",
          "Health Care",
          "Consumer Discretionary"
         ],
         "xaxis": "x3",
         "y": {
          "bdata": "CtejcD0KGkBcj8L1KFwfQHsUrkfheh5AmpmZmZmZGkBmZmZmZmYYQJqZmZmZmR1AmpmZmZmZEUC4HoXrUbgUQM3MzMzMTCRA4XoUrkfhGkD2KFyPwvUWQFyPwvUo3CZACtejcD0KFEBmZmZmZmYaQB+F61G4HhlA9ihcj8L1JkApXI/C9SgaQClcj8L1KBpA7FG4HoXrG0AfhetRuB4RQEjhehSuRxlAj8L1KFwPJkC4HoXrUTglQIXrUbgeBSNAFK5H4XoUE0Bcj8L1KFwJQKRwPQrXoxVA16NwPQrXHUD2KFyPwvURQGZmZmZmZhxAXI/C9ShcE0AAAAAAAAAVQHsUrkfhehZAexSuR+F6FUDNzMzMzMwVQClcj8L1KBRAFK5H4XoUFUDXo3A9CtccQBSuR+F6FBFApHA9CtejFEBxPQrXo3AiQIXrUbgehRxACtejcD0KHUDD9Shcj8IcQOF6FK5H4RlA4XoUrkfhG0BmZmZmZmYRQDMzMzMzMyFAj8L1KFyPFEAzMzMzMzMXQI/C9ShcjxVAj8L1KFyPE0CamZmZmZkgQDMzMzMzMxhAZmZmZmZmFkBI4XoUrkcYQIXrUbgehRdAKVyPwvUoGUCF61G4HoUUQOxRuB6F6xpApHA9CtejEUApXI/C9SgXQIXrUbgehR5AFK5H4XoUEUAAAAAAAAAUQNejcD0K1xdAZmZmZmZmF0AfhetRuB4VQNejcD0KVyFArkfhehSuDUDsUbgehesSQJqZmZmZmRhArkfhehSuFUB7FK5H4XodQDMzMzMzMxVAXI/C9ShcGEDhehSuR+EhQOxRuB6F6xtAFK5H4XoUDkBSuB6F61EZQB+F61G4HhZAzczMzMzMEkDhehSuR+EnQGZmZmZmZhZAhetRuB4FJUAAAAAAAAAYQDMzMzMzMx1Aj8L1KFyPH0CuR+F6FK4kQFyPwvUoXBdApHA9CtejIUAzMzMzMzMdQFyPwvUoXBpAmpmZmZmZFkDXo3A9CtcUQLgehetRuCBAw/UoXI/CDUDD9Shcj8IUQMP1KFyPwhdAH4XrUbgeFEBI4XoUrschQBSuR+F6FBpAj8L1KFyPHkDsUbgehesdQHsUrkfh+iZAPQrXo3A9IEA9CtejcD0VQAAAAAAAACBAhetRuB4FIkAAAAAAAAAeQKRwPQrXoxdA16NwPQpXJECuR+F6FK4ZQGZmZmZmZidAKVyPwvWoIEBxPQrXo3AbQOF6FK5H4RFA9ihcj8L1GEAUrkfhehQWQAAAAAAAABRAj8L1KFyPIEAK16NwPQoaQHE9CtejcBpAuB6F61G4G0BxPQrXo3AZQArXo3A9ChNAAAAAAAAAGUDXo3A9ClcjQMP1KFyPwilAmpmZmZkZIkCF61G4HoUTQBSuR+F6FA5AFK5H4XoUJkCF61G4HoUTQKRwPQrXoxBAexSuR+F6EECPwvUoXI8VQI/C9ShcjxVAAAAAAAAAH0AzMzMzMzMSQPYoXI/C9RVACtejcD0KI0CF61G4HoUaQFyPwvUoXBRAXI/C9ShcEECuR+F6FK4TQOF6FK5H4RFAAAAAAAAAHUCkcD0K16MaQNejcD0K1x9AhetRuB6FEUB7FK5H4XoTQFK4HoXrURhAXI/C9ShcIUAAAAAAAIAiQGZmZmZmZg5ArkfhehSuB0DXo3A9CtcgQPYoXI/C9RZApHA9CtejF0DNzMzMzMwKQKRwPQrXoxBAAAAAAAAAFkDhehSuR+EXQI/C9ShcjxxAKVyPwvUoJUAfhetRuB4bQPYoXI/C9QxApHA9CtejF0AzMzMzMzMfQArXo3A9CiRAj8L1KFyPCkCuR+F6FK4VQI/C9ShcjxVAXI/C9ShcFEDXo3A9CtcWQA==",
          "dtype": "f8"
         },
         "yaxis": "y3"
        }
       ],
       "layout": {
        "annotations": [
         {
          "font": {
           "size": 16
          },
          "showarrow": false,
          "text": "Environmental Scores by Sector",
          "x": 0.5,
          "xanchor": "center",
          "xref": "paper",
          "y": 1,
          "yanchor": "bottom",
          "yref": "paper"
         },
         {
          "font": {
           "size": 16
          },
          "showarrow": false,
          "text": "Social Scores by Sector",
          "x": 0.5,
          "xanchor": "center",
          "xref": "paper",
          "y": 0.6333333333333333,
          "yanchor": "bottom",
          "yref": "paper"
         },
         {
          "font": {
           "size": 16
          },
          "showarrow": false,
          "text": "Governance Scores by Sector",
          "x": 0.5,
          "xanchor": "center",
          "xref": "paper",
          "y": 0.26666666666666666,
          "yanchor": "bottom",
          "yref": "paper"
         }
        ],
        "height": 1200,
        "showlegend": false,
        "template": {
         "data": {
          "bar": [
           {
            "error_x": {
             "color": "#2a3f5f"
            },
            "error_y": {
             "color": "#2a3f5f"
            },
            "marker": {
             "line": {
              "color": "#E5ECF6",
              "width": 0.5
             },
             "pattern": {
              "fillmode": "overlay",
              "size": 10,
              "solidity": 0.2
             }
            },
            "type": "bar"
           }
          ],
          "barpolar": [
           {
            "marker": {
             "line": {
              "color": "#E5ECF6",
              "width": 0.5
             },
             "pattern": {
              "fillmode": "overlay",
              "size": 10,
              "solidity": 0.2
             }
            },
            "type": "barpolar"
           }
          ],
          "carpet": [
           {
            "aaxis": {
             "endlinecolor": "#2a3f5f",
             "gridcolor": "white",
             "linecolor": "white",
             "minorgridcolor": "white",
             "startlinecolor": "#2a3f5f"
            },
            "baxis": {
             "endlinecolor": "#2a3f5f",
             "gridcolor": "white",
             "linecolor": "white",
             "minorgridcolor": "white",
             "startlinecolor": "#2a3f5f"
            },
            "type": "carpet"
           }
          ],
          "choropleth": [
           {
            "colorbar": {
             "outlinewidth": 0,
             "ticks": ""
            },
            "type": "choropleth"
           }
          ],
          "contour": [
           {
            "colorbar": {
             "outlinewidth": 0,
             "ticks": ""
            },
            "colorscale": [
             [
              0,
              "#0d0887"
             ],
             [
              0.1111111111111111,
              "#46039f"
             ],
             [
              0.2222222222222222,
              "#7201a8"
             ],
             [
              0.3333333333333333,
              "#9c179e"
             ],
             [
              0.4444444444444444,
              "#bd3786"
             ],
             [
              0.5555555555555556,
              "#d8576b"
             ],
             [
              0.6666666666666666,
              "#ed7953"
             ],
             [
              0.7777777777777778,
              "#fb9f3a"
             ],
             [
              0.8888888888888888,
              "#fdca26"
             ],
             [
              1,
              "#f0f921"
             ]
            ],
            "type": "contour"
           }
          ],
          "contourcarpet": [
           {
            "colorbar": {
             "outlinewidth": 0,
             "ticks": ""
            },
            "type": "contourcarpet"
           }
          ],
          "heatmap": [
           {
            "colorbar": {
             "outlinewidth": 0,
             "ticks": ""
            },
            "colorscale": [
             [
              0,
              "#0d0887"
             ],
             [
              0.1111111111111111,
              "#46039f"
             ],
             [
              0.2222222222222222,
              "#7201a8"
             ],
             [
              0.3333333333333333,
              "#9c179e"
             ],
             [
              0.4444444444444444,
              "#bd3786"
             ],
             [
              0.5555555555555556,
              "#d8576b"
             ],
             [
              0.6666666666666666,
              "#ed7953"
             ],
             [
              0.7777777777777778,
              "#fb9f3a"
             ],
             [
              0.8888888888888888,
              "#fdca26"
             ],
             [
              1,
              "#f0f921"
             ]
            ],
            "type": "heatmap"
           }
          ],
          "histogram": [
           {
            "marker": {
             "pattern": {
              "fillmode": "overlay",
              "size": 10,
              "solidity": 0.2
             }
            },
            "type": "histogram"
           }
          ],
          "histogram2d": [
           {
            "colorbar": {
             "outlinewidth": 0,
             "ticks": ""
            },
            "colorscale": [
             [
              0,
              "#0d0887"
             ],
             [
              0.1111111111111111,
              "#46039f"
             ],
             [
              0.2222222222222222,
              "#7201a8"
             ],
             [
              0.3333333333333333,
              "#9c179e"
             ],
             [
              0.4444444444444444,
              "#bd3786"
             ],
             [
              0.5555555555555556,
              "#d8576b"
             ],
             [
              0.6666666666666666,
              "#ed7953"
             ],
             [
              0.7777777777777778,
              "#fb9f3a"
             ],
             [
              0.8888888888888888,
              "#fdca26"
             ],
             [
              1,
              "#f0f921"
             ]
            ],
            "type": "histogram2d"
           }
          ],
          "histogram2dcontour": [
           {
            "colorbar": {
             "outlinewidth": 0,
             "ticks": ""
            },
            "colorscale": [
             [
              0,
              "#0d0887"
             ],
             [
              0.1111111111111111,
              "#46039f"
             ],
             [
              0.2222222222222222,
              "#7201a8"
             ],
             [
              0.3333333333333333,
              "#9c179e"
             ],
             [
              0.4444444444444444,
              "#bd3786"
             ],
             [
              0.5555555555555556,
              "#d8576b"
             ],
             [
              0.6666666666666666,
              "#ed7953"
             ],
             [
              0.7777777777777778,
              "#fb9f3a"
             ],
             [
              0.8888888888888888,
              "#fdca26"
             ],
             [
              1,
              "#f0f921"
             ]
            ],
            "type": "histogram2dcontour"
           }
          ],
          "mesh3d": [
           {
            "colorbar": {
             "outlinewidth": 0,
             "ticks": ""
            },
            "type": "mesh3d"
           }
          ],
          "parcoords": [
           {
            "line": {
             "colorbar": {
              "outlinewidth": 0,
              "ticks": ""
             }
            },
            "type": "parcoords"
           }
          ],
          "pie": [
           {
            "automargin": true,
            "type": "pie"
           }
          ],
          "scatter": [
           {
            "fillpattern": {
             "fillmode": "overlay",
             "size": 10,
             "solidity": 0.2
            },
            "type": "scatter"
           }
          ],
          "scatter3d": [
           {
            "line": {
             "colorbar": {
              "outlinewidth": 0,
              "ticks": ""
             }
            },
            "marker": {
             "colorbar": {
              "outlinewidth": 0,
              "ticks": ""
             }
            },
            "type": "scatter3d"
           }
          ],
          "scattercarpet": [
           {
            "marker": {
             "colorbar": {
              "outlinewidth": 0,
              "ticks": ""
             }
            },
            "type": "scattercarpet"
           }
          ],
          "scattergeo": [
           {
            "marker": {
             "colorbar": {
              "outlinewidth": 0,
              "ticks": ""
             }
            },
            "type": "scattergeo"
           }
          ],
          "scattergl": [
           {
            "marker": {
             "colorbar": {
              "outlinewidth": 0,
              "ticks": ""
             }
            },
            "type": "scattergl"
           }
          ],
          "scattermap": [
           {
            "marker": {
             "colorbar": {
              "outlinewidth": 0,
              "ticks": ""
             }
            },
            "type": "scattermap"
           }
          ],
          "scattermapbox": [
           {
            "marker": {
             "colorbar": {
              "outlinewidth": 0,
              "ticks": ""
             }
            },
            "type": "scattermapbox"
           }
          ],
          "scatterpolar": [
           {
            "marker": {
             "colorbar": {
              "outlinewidth": 0,
              "ticks": ""
             }
            },
            "type": "scatterpolar"
           }
          ],
          "scatterpolargl": [
           {
            "marker": {
             "colorbar": {
              "outlinewidth": 0,
              "ticks": ""
             }
            },
            "type": "scatterpolargl"
           }
          ],
          "scatterternary": [
           {
            "marker": {
             "colorbar": {
              "outlinewidth": 0,
              "ticks": ""
             }
            },
            "type": "scatterternary"
           }
          ],
          "surface": [
           {
            "colorbar": {
             "outlinewidth": 0,
             "ticks": ""
            },
            "colorscale": [
             [
              0,
              "#0d0887"
             ],
             [
              0.1111111111111111,
              "#46039f"
             ],
             [
              0.2222222222222222,
              "#7201a8"
             ],
             [
              0.3333333333333333,
              "#9c179e"
             ],
             [
              0.4444444444444444,
              "#bd3786"
             ],
             [
              0.5555555555555556,
              "#d8576b"
             ],
             [
              0.6666666666666666,
              "#ed7953"
             ],
             [
              0.7777777777777778,
              "#fb9f3a"
             ],
             [
              0.8888888888888888,
              "#fdca26"
             ],
             [
              1,
              "#f0f921"
             ]
            ],
            "type": "surface"
           }
          ],
          "table": [
           {
            "cells": {
             "fill": {
              "color": "#EBF0F8"
             },
             "line": {
              "color": "white"
             }
            },
            "header": {
             "fill": {
              "color": "#C8D4E3"
             },
             "line": {
              "color": "white"
             }
            },
            "type": "table"
           }
          ]
         },
         "layout": {
          "annotationdefaults": {
           "arrowcolor": "#2a3f5f",
           "arrowhead": 0,
           "arrowwidth": 1
          },
          "autotypenumbers": "strict",
          "coloraxis": {
           "colorbar": {
            "outlinewidth": 0,
            "ticks": ""
           }
          },
          "colorscale": {
           "diverging": [
            [
             0,
             "#8e0152"
            ],
            [
             0.1,
             "#c51b7d"
            ],
            [
             0.2,
             "#de77ae"
            ],
            [
             0.3,
             "#f1b6da"
            ],
            [
             0.4,
             "#fde0ef"
            ],
            [
             0.5,
             "#f7f7f7"
            ],
            [
             0.6,
             "#e6f5d0"
            ],
            [
             0.7,
             "#b8e186"
            ],
            [
             0.8,
             "#7fbc41"
            ],
            [
             0.9,
             "#4d9221"
            ],
            [
             1,
             "#276419"
            ]
           ],
           "sequential": [
            [
             0,
             "#0d0887"
            ],
            [
             0.1111111111111111,
             "#46039f"
            ],
            [
             0.2222222222222222,
             "#7201a8"
            ],
            [
             0.3333333333333333,
             "#9c179e"
            ],
            [
             0.4444444444444444,
             "#bd3786"
            ],
            [
             0.5555555555555556,
             "#d8576b"
            ],
            [
             0.6666666666666666,
             "#ed7953"
            ],
            [
             0.7777777777777778,
             "#fb9f3a"
            ],
            [
             0.8888888888888888,
             "#fdca26"
            ],
            [
             1,
             "#f0f921"
            ]
           ],
           "sequentialminus": [
            [
             0,
             "#0d0887"
            ],
            [
             0.1111111111111111,
             "#46039f"
            ],
            [
             0.2222222222222222,
             "#7201a8"
            ],
            [
             0.3333333333333333,
             "#9c179e"
            ],
            [
             0.4444444444444444,
             "#bd3786"
            ],
            [
             0.5555555555555556,
             "#d8576b"
            ],
            [
             0.6666666666666666,
             "#ed7953"
            ],
            [
             0.7777777777777778,
             "#fb9f3a"
            ],
            [
             0.8888888888888888,
             "#fdca26"
            ],
            [
             1,
             "#f0f921"
            ]
           ]
          },
          "colorway": [
           "#636efa",
           "#EF553B",
           "#00cc96",
           "#ab63fa",
           "#FFA15A",
           "#19d3f3",
           "#FF6692",
           "#B6E880",
           "#FF97FF",
           "#FECB52"
          ],
          "font": {
           "color": "#2a3f5f"
          },
          "geo": {
           "bgcolor": "white",
           "lakecolor": "white",
           "landcolor": "#E5ECF6",
           "showlakes": true,
           "showland": true,
           "subunitcolor": "white"
          },
          "hoverlabel": {
           "align": "left"
          },
          "hovermode": "closest",
          "mapbox": {
           "style": "light"
          },
          "paper_bgcolor": "white",
          "plot_bgcolor": "#E5ECF6",
          "polar": {
           "angularaxis": {
            "gridcolor": "white",
            "linecolor": "white",
            "ticks": ""
           },
           "bgcolor": "#E5ECF6",
           "radialaxis": {
            "gridcolor": "white",
            "linecolor": "white",
            "ticks": ""
           }
          },
          "scene": {
           "xaxis": {
            "backgroundcolor": "#E5ECF6",
            "gridcolor": "white",
            "gridwidth": 2,
            "linecolor": "white",
            "showbackground": true,
            "ticks": "",
            "zerolinecolor": "white"
           },
           "yaxis": {
            "backgroundcolor": "#E5ECF6",
            "gridcolor": "white",
            "gridwidth": 2,
            "linecolor": "white",
            "showbackground": true,
            "ticks": "",
            "zerolinecolor": "white"
           },
           "zaxis": {
            "backgroundcolor": "#E5ECF6",
            "gridcolor": "white",
            "gridwidth": 2,
            "linecolor": "white",
            "showbackground": true,
            "ticks": "",
            "zerolinecolor": "white"
           }
          },
          "shapedefaults": {
           "line": {
            "color": "#2a3f5f"
           }
          },
          "ternary": {
           "aaxis": {
            "gridcolor": "white",
            "linecolor": "white",
            "ticks": ""
           },
           "baxis": {
            "gridcolor": "white",
            "linecolor": "white",
            "ticks": ""
           },
           "bgcolor": "#E5ECF6",
           "caxis": {
            "gridcolor": "white",
            "linecolor": "white",
            "ticks": ""
           }
          },
          "title": {
           "x": 0.05
          },
          "xaxis": {
           "automargin": true,
           "gridcolor": "white",
           "linecolor": "white",
           "ticks": "",
           "title": {
            "standoff": 15
           },
           "zerolinecolor": "white",
           "zerolinewidth": 2
          },
          "yaxis": {
           "automargin": true,
           "gridcolor": "white",
           "linecolor": "white",
           "ticks": "",
           "title": {
            "standoff": 15
           },
           "zerolinecolor": "white",
           "zerolinewidth": 2
          }
         }
        },
        "title": {
         "text": "Distribution of ESG Components by Sector"
        },
        "width": 1000,
        "xaxis": {
         "anchor": "y",
         "domain": [
          0,
          1
         ]
        },
        "xaxis2": {
         "anchor": "y2",
         "domain": [
          0,
          1
         ]
        },
        "xaxis3": {
         "anchor": "y3",
         "domain": [
          0,
          1
         ]
        },
        "yaxis": {
         "anchor": "x",
         "domain": [
          0.7333333333333334,
          1
         ]
        },
        "yaxis2": {
         "anchor": "x2",
         "domain": [
          0.3666666666666667,
          0.6333333333333333
         ]
        },
        "yaxis3": {
         "anchor": "x3",
         "domain": [
          0,
          0.26666666666666666
         ]
        }
       }
      }
     },
     "metadata": {},
     "output_type": "display_data"
    }
   ],
   "source": [
    "# Create violin plots for ESG components by sector\n",
    "fig = make_subplots(rows=3, cols=1,\n",
    "                    subplot_titles=('Environmental Scores by Sector',\n",
    "                                   'Social Scores by Sector',\n",
    "                                   'Governance Scores by Sector'),\n",
    "                    vertical_spacing=0.1)\n",
    "\n",
    "for i, score in enumerate(['environmentScore', 'socialScore', 'governanceScore']):\n",
    "    fig.add_trace(\n",
    "        go.Violin(x=df['GIS Sector'], y=df[score],\n",
    "                  name=score.replace('Score', ''),\n",
    "                  box_visible=True,\n",
    "                  meanline_visible=True),\n",
    "        row=i+1, col=1\n",
    "    )\n",
    "\n",
    "fig.update_layout(height=1200, width=1000,\n",
    "                  title_text='Distribution of ESG Components by Sector',\n",
    "                  showlegend=False)\n",
    "fig.show()"
   ]
  },
  {
   "cell_type": "markdown",
   "metadata": {},
   "source": [
    "## 5. Return Distribution Analysis"
   ]
  },
  {
   "cell_type": "code",
   "execution_count": null,
   "metadata": {},
   "outputs": [
    {
     "data": {
      "application/vnd.plotly.v1+json": {
       "config": {
        "plotlyServerURL": "https://plot.ly"
       },
       "data": [
        {
         "name": "environment",
         "type": "box",
         "x": [
          "Q1",
          "Q2",
          "Q1",
          "Q1",
          "Q1",
          "Q4",
          "Q2",
          "Q1",
          "Q1",
          "Q2",
          "Q1",
          "Q2",
          "Q4",
          "Q1",
          "Q3",
          "Q1",
          "Q2",
          "Q4",
          "Q4",
          "Q3",
          "Q3",
          "Q3",
          "Q1",
          "Q4",
          "Q2",
          "Q2",
          "Q3",
          "Q4",
          "Q4",
          "Q4",
          "Q2",
          "Q4",
          "Q4",
          "Q3",
          "Q2",
          "Q4",
          "Q3",
          "Q2",
          "Q3",
          "Q2",
          "Q3",
          "Q2",
          "Q3",
          "Q4",
          "Q1",
          "Q4",
          "Q3",
          "Q4",
          "Q4",
          "Q1",
          "Q3",
          "Q2",
          "Q3",
          "Q1",
          "Q4",
          "Q1",
          "Q2",
          "Q2",
          "Q4",
          "Q3",
          "Q1",
          "Q3",
          "Q2",
          "Q3",
          "Q4",
          "Q2",
          "Q4",
          "Q3",
          "Q4",
          "Q4",
          "Q1",
          "Q2",
          "Q3",
          "Q1",
          "Q3",
          "Q3",
          "Q2",
          "Q4",
          "Q2",
          "Q4",
          "Q2",
          "Q4",
          "Q2",
          "Q1",
          "Q1",
          "Q4",
          "Q4",
          "Q2",
          "Q2",
          "Q4",
          "Q1",
          "Q1",
          "Q4",
          "Q3",
          "Q3",
          "Q1",
          "Q3",
          "Q3",
          "Q3",
          "Q2",
          "Q2",
          "Q3",
          "Q4",
          "Q3",
          "Q2",
          "Q1",
          "Q3",
          "Q1",
          "Q1",
          "Q1",
          "Q3",
          "Q1",
          "Q3",
          "Q1",
          "Q2",
          "Q1",
          "Q2",
          "Q4",
          "Q2",
          "Q2",
          "Q4",
          "Q1",
          "Q4",
          "Q2",
          "Q2",
          "Q4",
          "Q2",
          "Q1",
          "Q1",
          "Q4",
          "Q4",
          "Q1",
          "Q1",
          "Q3",
          "Q2",
          "Q3",
          "Q2",
          "Q3",
          "Q1",
          "Q3",
          "Q2",
          "Q1",
          "Q4",
          "Q4",
          "Q3",
          "Q4",
          "Q4",
          "Q1",
          "Q3",
          "Q4",
          "Q4",
          "Q4",
          "Q4",
          "Q2",
          "Q1",
          "Q3",
          "Q3",
          "Q1",
          "Q3",
          "Q3",
          "Q3",
          "Q1",
          "Q2",
          "Q2",
          "Q2",
          "Q2",
          "Q1",
          "Q4",
          "Q1",
          "Q3",
          "Q1",
          "Q3",
          "Q3",
          "Q2",
          "Q1",
          "Q2"
         ],
         "xaxis": "x",
         "y": {
          "bdata": "JHsGotI+6j+4U99OGDfpPzCsuwLFAvQ/brYuMdn+7z+dQmcB6tLvP9pW/5vcE+w/Q6R+x/Q46T+yySabTFHqP4rDVyWkJvI/R3YQo6PN8T9W6QWMMGjyP4LnLFrbCOs/oqgmF1499z9nnw7tOVXpPyQeJtl2Ue4/gA5Fn1pm5z81PB4XtjLpP+PdRrDTouk/DqOQEJN/7T8bhFodDqLyP1yeFXrja+Y/Q0u3op+E7j/oN5qPkRHyPzcjff6iKeg/Rcz0kGGJ7D/y/K1g3MboP1ZkL79qPvE/Lt/BR+eV8j+pa5wQufXwPwmNjSRuhuk/pJhrDmrG8D87rAP9X037P67mR3U9qOg/yIlXA2TG9j++OqzPoZriP/B8cx9nguo/5pbL2Y6u5D/f9E4Pg7/kP5HX3H3e8+s/iqXY+Joj6T9NAvhQHnLgP24Ahe+wv/A/brWSD2oZ6D9EN5OYfozjP8tPYrwmNew/DYaF67O2AEDEo3b11i/nP9ues72mf/Q/Evsnrr5I9D+Jh4eHQ4vuP/twfK79w+4/Uw06DxCS5z/eAY/M4zLyPwBi2p8Xy+M/UKRQTHxp7j84T3zbzGznP4Eu5KMF0O8/J0TrHtXX5T+bVoRYtYjwP8H9vqJve+8/J3MFyIOR6D8T3V8VqafpP8IdOK6d0uM/+7iHebug7D/KHF20pHfsP2UupyGZNuk/B6WsZTIT5z8t6TknW4vmP/Bmed4QuOk/1OB5ue+M6j9MJTqMa4XvP+PrDYWSfug/1hiZM3Rk8D9jQsriNa7zP0vcYHwSWO0/Hfa8/IlD7T8XalgMiC3mP1SkoPGGBPs/l3Hgyfzw6D8OT248F7LvP2D86iFcqvE/ZRnXegsO8z/IhJMnerTvPxZVFslBCfE/pe9yJYew7D+96U1v5EHwP3nDz42FPfE/H823SpqS8D/px7NrlFPxPwy9H1C3zvI/u+dIBl2E6D/EzBq0ShvpP11QOOV7Wuc/hcVXG7Cn5z++VZriN6zlPxMJFuxyBvA/pJq7z3kg8D/zaxsbO/zsP/7+7yZWkfE/8YMHaWpz5z9VTRZ3Iy7yP3zVpgZ1Ju0/9gDZSbnp7z8w+zSsDGXlP7VShd3LHfI/UOlaDTtB5z+aznge3yDsP2JKk81xtO0/JFgAYqBQ4D9WYUyIDivoP7G2aSVGQvI/ao+EANXk5z8dNA1OaBnmP8gw7RfMtuo/rjPVzmTi6T+n3TvPsj3xP0C/XbjGSO0/gcCfhLYt7T9qJQalWUbxP/Mni62UR+0/nSCHOhRM+D9gGIxYqKzxP9HNkYKgaO4/yQ19TVNz6T+oax/z6BjvP0EdthuIsug/DOIMPFTH5z8nf6VXrufvP0eMKmfnHO0/57O/FoI77D8nE1jnJYb0P+VYYeMXW/M/O5OcttKo6T+8F94LbyXoP/7wTJtXdu0//PuHL2Cs7j+wPcYLg/vnP9EPeQ6DN+o/rmVwCQrl9D9sVW5EKFzoPy3f0tT+p/E/QX4BgtEo6z/jf1fuo0nnP5rXRr6UDe0/o5u5EZ9m9T/Hya/YcCvpP4DJ7lyD2/Q/HqBaSvJ65z8AZzGp6tbqP281WKEWPPo/IRLc6ruy8j8l3eQHbgXxPx/YtEG6MOc/YWh8d6Rt7j/ug/lA29/tP5CCKEseTPU//N9euNKm8z/DJCnKaLvmP/bSQnuqzu4/4CXVrCvQ+D/uJcrZkhXxP5utroqo2eI/+h5nYfo45z/N95i+pzzuP9+Td9TBweQ/ee5JSbpk7z8sc1zqjYvlP2RXOPI71/A/Md0rXazN5j+N7QldKO/ZPzgcXNL9RPM/ZTdWeJAi8D8+HHplj9jpP9gQ12pmE+A/EEvGGVPf7z8jTgOTPVTsPw==",
          "dtype": "f8"
         },
         "yaxis": "y"
        },
        {
         "name": "social",
         "type": "box",
         "x": [
          "Q2",
          "Q3",
          "Q4",
          "Q2",
          "Q1",
          "Q3",
          "Q3",
          "Q3",
          "Q3",
          "Q4",
          "Q4",
          "Q3",
          "Q3",
          "Q4",
          "Q1",
          "Q4",
          "Q3",
          "Q2",
          "Q2",
          "Q2",
          "Q1",
          "Q4",
          "Q4",
          "Q4",
          "Q1",
          "Q1",
          "Q3",
          "Q3",
          "Q3",
          "Q2",
          "Q2",
          "Q2",
          "Q3",
          "Q4",
          "Q1",
          "Q1",
          "Q1",
          "Q2",
          "Q4",
          "Q1",
          "Q4",
          "Q4",
          "Q1",
          "Q4",
          "Q1",
          "Q3",
          "Q1",
          "Q4",
          "Q3",
          "Q2",
          "Q2",
          "Q2",
          "Q3",
          "Q1",
          "Q2",
          "Q2",
          "Q3",
          "Q1",
          "Q3",
          "Q2",
          "Q1",
          "Q3",
          "Q2",
          "Q3",
          "Q2",
          "Q3",
          "Q3",
          "Q1",
          "Q1",
          "Q1",
          "Q2",
          "Q1",
          "Q1",
          "Q4",
          "Q3",
          "Q3",
          "Q2",
          "Q2",
          "Q1",
          "Q1",
          "Q2",
          "Q4",
          "Q3",
          "Q1",
          "Q4",
          "Q3",
          "Q3",
          "Q4",
          "Q2",
          "Q3",
          "Q3",
          "Q3",
          "Q1",
          "Q2",
          "Q2",
          "Q2",
          "Q3",
          "Q3",
          "Q2",
          "Q1",
          "Q4",
          "Q4",
          "Q3",
          "Q4",
          "Q4",
          "Q1",
          "Q3",
          "Q4",
          "Q2",
          "Q2",
          "Q1",
          "Q4",
          "Q4",
          "Q4",
          "Q4",
          "Q3",
          "Q2",
          "Q4",
          "Q1",
          "Q1",
          "Q2",
          "Q4",
          "Q4",
          "Q2",
          "Q2",
          "Q4",
          "Q1",
          "Q4",
          "Q3",
          "Q2",
          "Q2",
          "Q2",
          "Q4",
          "Q2",
          "Q2",
          "Q4",
          "Q3",
          "Q1",
          "Q4",
          "Q1",
          "Q1",
          "Q4",
          "Q1",
          "Q1",
          "Q3",
          "Q2",
          "Q2",
          "Q3",
          "Q1",
          "Q3",
          "Q4",
          "Q3",
          "Q3",
          "Q4",
          "Q3",
          "Q1",
          "Q3",
          "Q4",
          "Q1",
          "Q1",
          "Q1",
          "Q1",
          "Q2",
          "Q1",
          "Q4",
          "Q4",
          "Q4",
          "Q1",
          "Q2",
          "Q4",
          "Q3",
          "Q1",
          "Q4",
          "Q2",
          "Q2",
          "Q1"
         ],
         "xaxis": "x2",
         "y": {
          "bdata": "JHsGotI+6j+4U99OGDfpPzCsuwLFAvQ/brYuMdn+7z+dQmcB6tLvP9pW/5vcE+w/Q6R+x/Q46T+yySabTFHqP4rDVyWkJvI/R3YQo6PN8T9W6QWMMGjyP4LnLFrbCOs/oqgmF1499z9nnw7tOVXpPyQeJtl2Ue4/gA5Fn1pm5z81PB4XtjLpP+PdRrDTouk/DqOQEJN/7T8bhFodDqLyP1yeFXrja+Y/Q0u3op+E7j/oN5qPkRHyPzcjff6iKeg/Rcz0kGGJ7D/y/K1g3MboP1ZkL79qPvE/Lt/BR+eV8j+pa5wQufXwPwmNjSRuhuk/pJhrDmrG8D87rAP9X037P67mR3U9qOg/yIlXA2TG9j++OqzPoZriP/B8cx9nguo/5pbL2Y6u5D/f9E4Pg7/kP5HX3H3e8+s/iqXY+Joj6T9NAvhQHnLgP24Ahe+wv/A/brWSD2oZ6D9EN5OYfozjP8tPYrwmNew/DYaF67O2AEDEo3b11i/nP9ues72mf/Q/Evsnrr5I9D+Jh4eHQ4vuP/twfK79w+4/Uw06DxCS5z/eAY/M4zLyPwBi2p8Xy+M/UKRQTHxp7j84T3zbzGznP4Eu5KMF0O8/J0TrHtXX5T+bVoRYtYjwP8H9vqJve+8/J3MFyIOR6D8T3V8VqafpP8IdOK6d0uM/+7iHebug7D/KHF20pHfsP2UupyGZNuk/B6WsZTIT5z8t6TknW4vmP/Bmed4QuOk/1OB5ue+M6j9MJTqMa4XvP+PrDYWSfug/1hiZM3Rk8D9jQsriNa7zP0vcYHwSWO0/Hfa8/IlD7T8XalgMiC3mP1SkoPGGBPs/l3Hgyfzw6D8OT248F7LvP2D86iFcqvE/ZRnXegsO8z/IhJMnerTvPxZVFslBCfE/pe9yJYew7D+96U1v5EHwP3nDz42FPfE/H823SpqS8D/px7NrlFPxPwy9H1C3zvI/u+dIBl2E6D/EzBq0ShvpP11QOOV7Wuc/hcVXG7Cn5z++VZriN6zlPxMJFuxyBvA/pJq7z3kg8D/zaxsbO/zsP/7+7yZWkfE/8YMHaWpz5z9VTRZ3Iy7yP3zVpgZ1Ju0/9gDZSbnp7z8w+zSsDGXlP7VShd3LHfI/UOlaDTtB5z+aznge3yDsP2JKk81xtO0/JFgAYqBQ4D9WYUyIDivoP7G2aSVGQvI/ao+EANXk5z8dNA1OaBnmP8gw7RfMtuo/rjPVzmTi6T+n3TvPsj3xP0C/XbjGSO0/gcCfhLYt7T9qJQalWUbxP/Mni62UR+0/nSCHOhRM+D9gGIxYqKzxP9HNkYKgaO4/yQ19TVNz6T+oax/z6BjvP0EdthuIsug/DOIMPFTH5z8nf6VXrufvP0eMKmfnHO0/57O/FoI77D8nE1jnJYb0P+VYYeMXW/M/O5OcttKo6T+8F94LbyXoP/7wTJtXdu0//PuHL2Cs7j+wPcYLg/vnP9EPeQ6DN+o/rmVwCQrl9D9sVW5EKFzoPy3f0tT+p/E/QX4BgtEo6z/jf1fuo0nnP5rXRr6UDe0/o5u5EZ9m9T/Hya/YcCvpP4DJ7lyD2/Q/HqBaSvJ65z8AZzGp6tbqP281WKEWPPo/IRLc6ruy8j8l3eQHbgXxPx/YtEG6MOc/YWh8d6Rt7j/ug/lA29/tP5CCKEseTPU//N9euNKm8z/DJCnKaLvmP/bSQnuqzu4/4CXVrCvQ+D/uJcrZkhXxP5utroqo2eI/+h5nYfo45z/N95i+pzzuP9+Td9TBweQ/ee5JSbpk7z8sc1zqjYvlP2RXOPI71/A/Md0rXazN5j+N7QldKO/ZPzgcXNL9RPM/ZTdWeJAi8D8+HHplj9jpP9gQ12pmE+A/EEvGGVPf7z8jTgOTPVTsPw==",
          "dtype": "f8"
         },
         "yaxis": "y2"
        },
        {
         "name": "governance",
         "type": "box",
         "x": [
          "Q3",
          "Q4",
          "Q4",
          "Q3",
          "Q3",
          "Q3",
          "Q1",
          "Q2",
          "Q4",
          "Q3",
          "Q2",
          "Q4",
          "Q1",
          "Q3",
          "Q3",
          "Q4",
          "Q3",
          "Q3",
          "Q3",
          "Q1",
          "Q3",
          "Q4",
          "Q4",
          "Q4",
          "Q1",
          "Q1",
          "Q2",
          "Q3",
          "Q1",
          "Q3",
          "Q1",
          "Q2",
          "Q2",
          "Q2",
          "Q2",
          "Q1",
          "Q2",
          "Q3",
          "Q1",
          "Q2",
          "Q4",
          "Q3",
          "Q3",
          "Q3",
          "Q3",
          "Q3",
          "Q1",
          "Q4",
          "Q1",
          "Q2",
          "Q2",
          "Q1",
          "Q4",
          "Q2",
          "Q2",
          "Q2",
          "Q2",
          "Q3",
          "Q1",
          "Q3",
          "Q1",
          "Q2",
          "Q4",
          "Q1",
          "Q1",
          "Q2",
          "Q2",
          "Q2",
          "Q4",
          "Q1",
          "Q1",
          "Q3",
          "Q2",
          "Q3",
          "Q2",
          "Q3",
          "Q4",
          "Q3",
          "Q1",
          "Q3",
          "Q2",
          "Q1",
          "Q4",
          "Q2",
          "Q4",
          "Q2",
          "Q3",
          "Q4",
          "Q4",
          "Q2",
          "Q4",
          "Q3",
          "Q3",
          "Q2",
          "Q2",
          "Q4",
          "Q1",
          "Q2",
          "Q2",
          "Q1",
          "Q4",
          "Q3",
          "Q4",
          "Q3",
          "Q4",
          "Q4",
          "Q2",
          "Q4",
          "Q4",
          "Q4",
          "Q2",
          "Q4",
          "Q3",
          "Q4",
          "Q4",
          "Q3",
          "Q1",
          "Q3",
          "Q2",
          "Q1",
          "Q4",
          "Q3",
          "Q3",
          "Q3",
          "Q3",
          "Q1",
          "Q3",
          "Q4",
          "Q4",
          "Q4",
          "Q1",
          "Q1",
          "Q4",
          "Q1",
          "Q1",
          "Q1",
          "Q2",
          "Q2",
          "Q4",
          "Q1",
          "Q2",
          "Q4",
          "Q3",
          "Q1",
          "Q1",
          "Q1",
          "Q1",
          "Q3",
          "Q3",
          "Q4",
          "Q1",
          "Q1",
          "Q2",
          "Q4",
          "Q4",
          "Q1",
          "Q1",
          "Q4",
          "Q2",
          "Q2",
          "Q1",
          "Q1",
          "Q2",
          "Q2",
          "Q3",
          "Q4",
          "Q3",
          "Q1",
          "Q2",
          "Q4",
          "Q4",
          "Q1",
          "Q2",
          "Q2",
          "Q1",
          "Q2"
         ],
         "xaxis": "x3",
         "y": {
          "bdata": "JHsGotI+6j+4U99OGDfpPzCsuwLFAvQ/brYuMdn+7z+dQmcB6tLvP9pW/5vcE+w/Q6R+x/Q46T+yySabTFHqP4rDVyWkJvI/R3YQo6PN8T9W6QWMMGjyP4LnLFrbCOs/oqgmF1499z9nnw7tOVXpPyQeJtl2Ue4/gA5Fn1pm5z81PB4XtjLpP+PdRrDTouk/DqOQEJN/7T8bhFodDqLyP1yeFXrja+Y/Q0u3op+E7j/oN5qPkRHyPzcjff6iKeg/Rcz0kGGJ7D/y/K1g3MboP1ZkL79qPvE/Lt/BR+eV8j+pa5wQufXwPwmNjSRuhuk/pJhrDmrG8D87rAP9X037P67mR3U9qOg/yIlXA2TG9j++OqzPoZriP/B8cx9nguo/5pbL2Y6u5D/f9E4Pg7/kP5HX3H3e8+s/iqXY+Joj6T9NAvhQHnLgP24Ahe+wv/A/brWSD2oZ6D9EN5OYfozjP8tPYrwmNew/DYaF67O2AEDEo3b11i/nP9ues72mf/Q/Evsnrr5I9D+Jh4eHQ4vuP/twfK79w+4/Uw06DxCS5z/eAY/M4zLyPwBi2p8Xy+M/UKRQTHxp7j84T3zbzGznP4Eu5KMF0O8/J0TrHtXX5T+bVoRYtYjwP8H9vqJve+8/J3MFyIOR6D8T3V8VqafpP8IdOK6d0uM/+7iHebug7D/KHF20pHfsP2UupyGZNuk/B6WsZTIT5z8t6TknW4vmP/Bmed4QuOk/1OB5ue+M6j9MJTqMa4XvP+PrDYWSfug/1hiZM3Rk8D9jQsriNa7zP0vcYHwSWO0/Hfa8/IlD7T8XalgMiC3mP1SkoPGGBPs/l3Hgyfzw6D8OT248F7LvP2D86iFcqvE/ZRnXegsO8z/IhJMnerTvPxZVFslBCfE/pe9yJYew7D+96U1v5EHwP3nDz42FPfE/H823SpqS8D/px7NrlFPxPwy9H1C3zvI/u+dIBl2E6D/EzBq0ShvpP11QOOV7Wuc/hcVXG7Cn5z++VZriN6zlPxMJFuxyBvA/pJq7z3kg8D/zaxsbO/zsP/7+7yZWkfE/8YMHaWpz5z9VTRZ3Iy7yP3zVpgZ1Ju0/9gDZSbnp7z8w+zSsDGXlP7VShd3LHfI/UOlaDTtB5z+aznge3yDsP2JKk81xtO0/JFgAYqBQ4D9WYUyIDivoP7G2aSVGQvI/ao+EANXk5z8dNA1OaBnmP8gw7RfMtuo/rjPVzmTi6T+n3TvPsj3xP0C/XbjGSO0/gcCfhLYt7T9qJQalWUbxP/Mni62UR+0/nSCHOhRM+D9gGIxYqKzxP9HNkYKgaO4/yQ19TVNz6T+oax/z6BjvP0EdthuIsug/DOIMPFTH5z8nf6VXrufvP0eMKmfnHO0/57O/FoI77D8nE1jnJYb0P+VYYeMXW/M/O5OcttKo6T+8F94LbyXoP/7wTJtXdu0//PuHL2Cs7j+wPcYLg/vnP9EPeQ6DN+o/rmVwCQrl9D9sVW5EKFzoPy3f0tT+p/E/QX4BgtEo6z/jf1fuo0nnP5rXRr6UDe0/o5u5EZ9m9T/Hya/YcCvpP4DJ7lyD2/Q/HqBaSvJ65z8AZzGp6tbqP281WKEWPPo/IRLc6ruy8j8l3eQHbgXxPx/YtEG6MOc/YWh8d6Rt7j/ug/lA29/tP5CCKEseTPU//N9euNKm8z/DJCnKaLvmP/bSQnuqzu4/4CXVrCvQ+D/uJcrZkhXxP5utroqo2eI/+h5nYfo45z/N95i+pzzuP9+Td9TBweQ/ee5JSbpk7z8sc1zqjYvlP2RXOPI71/A/Md0rXazN5j+N7QldKO/ZPzgcXNL9RPM/ZTdWeJAi8D8+HHplj9jpP9gQ12pmE+A/EEvGGVPf7z8jTgOTPVTsPw==",
          "dtype": "f8"
         },
         "yaxis": "y3"
        }
       ],
       "layout": {
        "annotations": [
         {
          "font": {
           "size": 16
          },
          "showarrow": false,
          "text": "Returns by Environmental Quartile",
          "x": 0.14444444444444446,
          "xanchor": "center",
          "xref": "paper",
          "y": 1,
          "yanchor": "bottom",
          "yref": "paper"
         },
         {
          "font": {
           "size": 16
          },
          "showarrow": false,
          "text": "Returns by Social Quartile",
          "x": 0.5,
          "xanchor": "center",
          "xref": "paper",
          "y": 1,
          "yanchor": "bottom",
          "yref": "paper"
         },
         {
          "font": {
           "size": 16
          },
          "showarrow": false,
          "text": "Returns by Governance Quartile",
          "x": 0.8555555555555556,
          "xanchor": "center",
          "xref": "paper",
          "y": 1,
          "yanchor": "bottom",
          "yref": "paper"
         }
        ],
        "height": 400,
        "template": {
         "data": {
          "bar": [
           {
            "error_x": {
             "color": "#2a3f5f"
            },
            "error_y": {
             "color": "#2a3f5f"
            },
            "marker": {
             "line": {
              "color": "#E5ECF6",
              "width": 0.5
             },
             "pattern": {
              "fillmode": "overlay",
              "size": 10,
              "solidity": 0.2
             }
            },
            "type": "bar"
           }
          ],
          "barpolar": [
           {
            "marker": {
             "line": {
              "color": "#E5ECF6",
              "width": 0.5
             },
             "pattern": {
              "fillmode": "overlay",
              "size": 10,
              "solidity": 0.2
             }
            },
            "type": "barpolar"
           }
          ],
          "carpet": [
           {
            "aaxis": {
             "endlinecolor": "#2a3f5f",
             "gridcolor": "white",
             "linecolor": "white",
             "minorgridcolor": "white",
             "startlinecolor": "#2a3f5f"
            },
            "baxis": {
             "endlinecolor": "#2a3f5f",
             "gridcolor": "white",
             "linecolor": "white",
             "minorgridcolor": "white",
             "startlinecolor": "#2a3f5f"
            },
            "type": "carpet"
           }
          ],
          "choropleth": [
           {
            "colorbar": {
             "outlinewidth": 0,
             "ticks": ""
            },
            "type": "choropleth"
           }
          ],
          "contour": [
           {
            "colorbar": {
             "outlinewidth": 0,
             "ticks": ""
            },
            "colorscale": [
             [
              0,
              "#0d0887"
             ],
             [
              0.1111111111111111,
              "#46039f"
             ],
             [
              0.2222222222222222,
              "#7201a8"
             ],
             [
              0.3333333333333333,
              "#9c179e"
             ],
             [
              0.4444444444444444,
              "#bd3786"
             ],
             [
              0.5555555555555556,
              "#d8576b"
             ],
             [
              0.6666666666666666,
              "#ed7953"
             ],
             [
              0.7777777777777778,
              "#fb9f3a"
             ],
             [
              0.8888888888888888,
              "#fdca26"
             ],
             [
              1,
              "#f0f921"
             ]
            ],
            "type": "contour"
           }
          ],
          "contourcarpet": [
           {
            "colorbar": {
             "outlinewidth": 0,
             "ticks": ""
            },
            "type": "contourcarpet"
           }
          ],
          "heatmap": [
           {
            "colorbar": {
             "outlinewidth": 0,
             "ticks": ""
            },
            "colorscale": [
             [
              0,
              "#0d0887"
             ],
             [
              0.1111111111111111,
              "#46039f"
             ],
             [
              0.2222222222222222,
              "#7201a8"
             ],
             [
              0.3333333333333333,
              "#9c179e"
             ],
             [
              0.4444444444444444,
              "#bd3786"
             ],
             [
              0.5555555555555556,
              "#d8576b"
             ],
             [
              0.6666666666666666,
              "#ed7953"
             ],
             [
              0.7777777777777778,
              "#fb9f3a"
             ],
             [
              0.8888888888888888,
              "#fdca26"
             ],
             [
              1,
              "#f0f921"
             ]
            ],
            "type": "heatmap"
           }
          ],
          "histogram": [
           {
            "marker": {
             "pattern": {
              "fillmode": "overlay",
              "size": 10,
              "solidity": 0.2
             }
            },
            "type": "histogram"
           }
          ],
          "histogram2d": [
           {
            "colorbar": {
             "outlinewidth": 0,
             "ticks": ""
            },
            "colorscale": [
             [
              0,
              "#0d0887"
             ],
             [
              0.1111111111111111,
              "#46039f"
             ],
             [
              0.2222222222222222,
              "#7201a8"
             ],
             [
              0.3333333333333333,
              "#9c179e"
             ],
             [
              0.4444444444444444,
              "#bd3786"
             ],
             [
              0.5555555555555556,
              "#d8576b"
             ],
             [
              0.6666666666666666,
              "#ed7953"
             ],
             [
              0.7777777777777778,
              "#fb9f3a"
             ],
             [
              0.8888888888888888,
              "#fdca26"
             ],
             [
              1,
              "#f0f921"
             ]
            ],
            "type": "histogram2d"
           }
          ],
          "histogram2dcontour": [
           {
            "colorbar": {
             "outlinewidth": 0,
             "ticks": ""
            },
            "colorscale": [
             [
              0,
              "#0d0887"
             ],
             [
              0.1111111111111111,
              "#46039f"
             ],
             [
              0.2222222222222222,
              "#7201a8"
             ],
             [
              0.3333333333333333,
              "#9c179e"
             ],
             [
              0.4444444444444444,
              "#bd3786"
             ],
             [
              0.5555555555555556,
              "#d8576b"
             ],
             [
              0.6666666666666666,
              "#ed7953"
             ],
             [
              0.7777777777777778,
              "#fb9f3a"
             ],
             [
              0.8888888888888888,
              "#fdca26"
             ],
             [
              1,
              "#f0f921"
             ]
            ],
            "type": "histogram2dcontour"
           }
          ],
          "mesh3d": [
           {
            "colorbar": {
             "outlinewidth": 0,
             "ticks": ""
            },
            "type": "mesh3d"
           }
          ],
          "parcoords": [
           {
            "line": {
             "colorbar": {
              "outlinewidth": 0,
              "ticks": ""
             }
            },
            "type": "parcoords"
           }
          ],
          "pie": [
           {
            "automargin": true,
            "type": "pie"
           }
          ],
          "scatter": [
           {
            "fillpattern": {
             "fillmode": "overlay",
             "size": 10,
             "solidity": 0.2
            },
            "type": "scatter"
           }
          ],
          "scatter3d": [
           {
            "line": {
             "colorbar": {
              "outlinewidth": 0,
              "ticks": ""
             }
            },
            "marker": {
             "colorbar": {
              "outlinewidth": 0,
              "ticks": ""
             }
            },
            "type": "scatter3d"
           }
          ],
          "scattercarpet": [
           {
            "marker": {
             "colorbar": {
              "outlinewidth": 0,
              "ticks": ""
             }
            },
            "type": "scattercarpet"
           }
          ],
          "scattergeo": [
           {
            "marker": {
             "colorbar": {
              "outlinewidth": 0,
              "ticks": ""
             }
            },
            "type": "scattergeo"
           }
          ],
          "scattergl": [
           {
            "marker": {
             "colorbar": {
              "outlinewidth": 0,
              "ticks": ""
             }
            },
            "type": "scattergl"
           }
          ],
          "scattermap": [
           {
            "marker": {
             "colorbar": {
              "outlinewidth": 0,
              "ticks": ""
             }
            },
            "type": "scattermap"
           }
          ],
          "scattermapbox": [
           {
            "marker": {
             "colorbar": {
              "outlinewidth": 0,
              "ticks": ""
             }
            },
            "type": "scattermapbox"
           }
          ],
          "scatterpolar": [
           {
            "marker": {
             "colorbar": {
              "outlinewidth": 0,
              "ticks": ""
             }
            },
            "type": "scatterpolar"
           }
          ],
          "scatterpolargl": [
           {
            "marker": {
             "colorbar": {
              "outlinewidth": 0,
              "ticks": ""
             }
            },
            "type": "scatterpolargl"
           }
          ],
          "scatterternary": [
           {
            "marker": {
             "colorbar": {
              "outlinewidth": 0,
              "ticks": ""
             }
            },
            "type": "scatterternary"
           }
          ],
          "surface": [
           {
            "colorbar": {
             "outlinewidth": 0,
             "ticks": ""
            },
            "colorscale": [
             [
              0,
              "#0d0887"
             ],
             [
              0.1111111111111111,
              "#46039f"
             ],
             [
              0.2222222222222222,
              "#7201a8"
             ],
             [
              0.3333333333333333,
              "#9c179e"
             ],
             [
              0.4444444444444444,
              "#bd3786"
             ],
             [
              0.5555555555555556,
              "#d8576b"
             ],
             [
              0.6666666666666666,
              "#ed7953"
             ],
             [
              0.7777777777777778,
              "#fb9f3a"
             ],
             [
              0.8888888888888888,
              "#fdca26"
             ],
             [
              1,
              "#f0f921"
             ]
            ],
            "type": "surface"
           }
          ],
          "table": [
           {
            "cells": {
             "fill": {
              "color": "#EBF0F8"
             },
             "line": {
              "color": "white"
             }
            },
            "header": {
             "fill": {
              "color": "#C8D4E3"
             },
             "line": {
              "color": "white"
             }
            },
            "type": "table"
           }
          ]
         },
         "layout": {
          "annotationdefaults": {
           "arrowcolor": "#2a3f5f",
           "arrowhead": 0,
           "arrowwidth": 1
          },
          "autotypenumbers": "strict",
          "coloraxis": {
           "colorbar": {
            "outlinewidth": 0,
            "ticks": ""
           }
          },
          "colorscale": {
           "diverging": [
            [
             0,
             "#8e0152"
            ],
            [
             0.1,
             "#c51b7d"
            ],
            [
             0.2,
             "#de77ae"
            ],
            [
             0.3,
             "#f1b6da"
            ],
            [
             0.4,
             "#fde0ef"
            ],
            [
             0.5,
             "#f7f7f7"
            ],
            [
             0.6,
             "#e6f5d0"
            ],
            [
             0.7,
             "#b8e186"
            ],
            [
             0.8,
             "#7fbc41"
            ],
            [
             0.9,
             "#4d9221"
            ],
            [
             1,
             "#276419"
            ]
           ],
           "sequential": [
            [
             0,
             "#0d0887"
            ],
            [
             0.1111111111111111,
             "#46039f"
            ],
            [
             0.2222222222222222,
             "#7201a8"
            ],
            [
             0.3333333333333333,
             "#9c179e"
            ],
            [
             0.4444444444444444,
             "#bd3786"
            ],
            [
             0.5555555555555556,
             "#d8576b"
            ],
            [
             0.6666666666666666,
             "#ed7953"
            ],
            [
             0.7777777777777778,
             "#fb9f3a"
            ],
            [
             0.8888888888888888,
             "#fdca26"
            ],
            [
             1,
             "#f0f921"
            ]
           ],
           "sequentialminus": [
            [
             0,
             "#0d0887"
            ],
            [
             0.1111111111111111,
             "#46039f"
            ],
            [
             0.2222222222222222,
             "#7201a8"
            ],
            [
             0.3333333333333333,
             "#9c179e"
            ],
            [
             0.4444444444444444,
             "#bd3786"
            ],
            [
             0.5555555555555556,
             "#d8576b"
            ],
            [
             0.6666666666666666,
             "#ed7953"
            ],
            [
             0.7777777777777778,
             "#fb9f3a"
            ],
            [
             0.8888888888888888,
             "#fdca26"
            ],
            [
             1,
             "#f0f921"
            ]
           ]
          },
          "colorway": [
           "#636efa",
           "#EF553B",
           "#00cc96",
           "#ab63fa",
           "#FFA15A",
           "#19d3f3",
           "#FF6692",
           "#B6E880",
           "#FF97FF",
           "#FECB52"
          ],
          "font": {
           "color": "#2a3f5f"
          },
          "geo": {
           "bgcolor": "white",
           "lakecolor": "white",
           "landcolor": "#E5ECF6",
           "showlakes": true,
           "showland": true,
           "subunitcolor": "white"
          },
          "hoverlabel": {
           "align": "left"
          },
          "hovermode": "closest",
          "mapbox": {
           "style": "light"
          },
          "paper_bgcolor": "white",
          "plot_bgcolor": "#E5ECF6",
          "polar": {
           "angularaxis": {
            "gridcolor": "white",
            "linecolor": "white",
            "ticks": ""
           },
           "bgcolor": "#E5ECF6",
           "radialaxis": {
            "gridcolor": "white",
            "linecolor": "white",
            "ticks": ""
           }
          },
          "scene": {
           "xaxis": {
            "backgroundcolor": "#E5ECF6",
            "gridcolor": "white",
            "gridwidth": 2,
            "linecolor": "white",
            "showbackground": true,
            "ticks": "",
            "zerolinecolor": "white"
           },
           "yaxis": {
            "backgroundcolor": "#E5ECF6",
            "gridcolor": "white",
            "gridwidth": 2,
            "linecolor": "white",
            "showbackground": true,
            "ticks": "",
            "zerolinecolor": "white"
           },
           "zaxis": {
            "backgroundcolor": "#E5ECF6",
            "gridcolor": "white",
            "gridwidth": 2,
            "linecolor": "white",
            "showbackground": true,
            "ticks": "",
            "zerolinecolor": "white"
           }
          },
          "shapedefaults": {
           "line": {
            "color": "#2a3f5f"
           }
          },
          "ternary": {
           "aaxis": {
            "gridcolor": "white",
            "linecolor": "white",
            "ticks": ""
           },
           "baxis": {
            "gridcolor": "white",
            "linecolor": "white",
            "ticks": ""
           },
           "bgcolor": "#E5ECF6",
           "caxis": {
            "gridcolor": "white",
            "linecolor": "white",
            "ticks": ""
           }
          },
          "title": {
           "x": 0.05
          },
          "xaxis": {
           "automargin": true,
           "gridcolor": "white",
           "linecolor": "white",
           "ticks": "",
           "title": {
            "standoff": 15
           },
           "zerolinecolor": "white",
           "zerolinewidth": 2
          },
          "yaxis": {
           "automargin": true,
           "gridcolor": "white",
           "linecolor": "white",
           "ticks": "",
           "title": {
            "standoff": 15
           },
           "zerolinecolor": "white",
           "zerolinewidth": 2
          }
         }
        },
        "title": {
         "text": "Return Distributions by ESG Component Quartiles"
        },
        "width": 1200,
        "xaxis": {
         "anchor": "y",
         "domain": [
          0,
          0.2888888888888889
         ]
        },
        "xaxis2": {
         "anchor": "y2",
         "domain": [
          0.35555555555555557,
          0.6444444444444445
         ]
        },
        "xaxis3": {
         "anchor": "y3",
         "domain": [
          0.7111111111111111,
          1
         ]
        },
        "yaxis": {
         "anchor": "x",
         "domain": [
          0,
          1
         ]
        },
        "yaxis2": {
         "anchor": "x2",
         "domain": [
          0,
          1
         ]
        },
        "yaxis3": {
         "anchor": "x3",
         "domain": [
          0,
          1
         ]
        }
       }
      }
     },
     "metadata": {},
     "output_type": "display_data"
    }
   ],
   "source": [
    "# Create quartiles for each ESG component\n",
    "for score in ['environmentScore', 'socialScore', 'governanceScore']:\n",
    "    df[f'{score}_quartile'] = pd.qcut(df[score], q=4, labels=['Q1', 'Q2', 'Q3', 'Q4'])\n",
    "\n",
    "# Plot return distributions by ESG quartiles\n",
    "fig = make_subplots(rows=1, cols=3,\n",
    "                    subplot_titles=('Returns by Environmental Quartile',\n",
    "                                   'Returns by Social Quartile',\n",
    "                                   'Returns by Governance Quartile'))\n",
    "\n",
    "for i, score in enumerate(['environmentScore', 'socialScore', 'governanceScore']):\n",
    "    fig.add_trace(\n",
    "        go.Box(x=df[f'{score}_quartile'], y=df['12M_Return'],\n",
    "               name=score.replace('Score', '')),\n",
    "        row=1, col=i+1\n",
    "    )\n",
    "\n",
    "fig.update_layout(height=400, width=1200,\n",
    "                  title_text='Return Distributions by ESG Component Quartiles')\n",
    "fig.show()"
   ]
  },
  {
   "cell_type": "markdown",
   "metadata": {},
   "source": [
    "## Summary of Findings\n",
    "\n",
    "1. **Feature Importance**\n",
    "   - Ranking of most influential factors\n",
    "   - Sector-specific impacts\n",
    "   - Individual ESG component weights\n",
    "\n",
    "2. **ESG Components**\n",
    "   - Correlation patterns\n",
    "   - Component-specific return relationships\n",
    "   - Sector variations\n",
    "\n",
    "3. **Energy Sector Analysis**\n",
    "   - Model performance\n",
    "   - Predictive power\n",
    "   - Key drivers\n",
    "\n",
    "4. **Sector Patterns**\n",
    "   - ESG score distributions\n",
    "   - Sector-specific characteristics\n",
    "   - Return patterns\n",
    "\n",
    "5. **Return Distribution**\n",
    "   - Quartile analysis\n",
    "   - Risk-return patterns\n",
    "   - Component-specific effects"
   ]
  }
 ],
 "metadata": {
  "kernelspec": {
   "display_name": "Python 3",
   "language": "python",
   "name": "python3"
  }
 },
 "nbformat": 4,
 "nbformat_minor": 4
}
