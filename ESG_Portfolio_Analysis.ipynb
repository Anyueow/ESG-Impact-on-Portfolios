{
 "cells": [
  {
   "cell_type": "markdown",
   "metadata": {},
   "source": [
    "# ESG Portfolio Analysis Visualizations\n",
    "This notebook contains visualizations analyzing the relationship between ESG scores and stock performance."
   ]
  },
  {
   "cell_type": "code",
   "execution_count": 1,
   "metadata": {},
   "outputs": [],
   "source": [
    "import pandas as pd\n",
    "import numpy as np\n",
    "import matplotlib.pyplot as plt\n",
    "import seaborn as sns\n",
    "import plotly.express as px\n",
    "import plotly.graph_objects as go\n",
    "from scipy import stats\n",
    "from plotly.subplots import make_subplots\n",
    "\n",
    "# Set style\n",
    "\n",
    "pd.set_option('display.max_columns', None)"
   ]
  },
  {
   "cell_type": "code",
   "execution_count": 2,
   "metadata": {},
   "outputs": [
    {
     "name": "stdout",
     "output_type": "stream",
     "text": [
      "Dataset shape: (176, 31)\n"
     ]
    },
    {
     "data": {
      "text/html": [
       "<div>\n",
       "<style scoped>\n",
       "    .dataframe tbody tr th:only-of-type {\n",
       "        vertical-align: middle;\n",
       "    }\n",
       "\n",
       "    .dataframe tbody tr th {\n",
       "        vertical-align: top;\n",
       "    }\n",
       "\n",
       "    .dataframe thead th {\n",
       "        text-align: right;\n",
       "    }\n",
       "</style>\n",
       "<table border=\"1\" class=\"dataframe\">\n",
       "  <thead>\n",
       "    <tr style=\"text-align: right;\">\n",
       "      <th></th>\n",
       "      <th>Ticker</th>\n",
       "      <th>YTD_Change</th>\n",
       "      <th>YTD_Return</th>\n",
       "      <th>1M_Change</th>\n",
       "      <th>1M_Return</th>\n",
       "      <th>3M_Change</th>\n",
       "      <th>3M_Return</th>\n",
       "      <th>6M_Change</th>\n",
       "      <th>6M_Return</th>\n",
       "      <th>12M_Change</th>\n",
       "      <th>12M_Return</th>\n",
       "      <th>Name</th>\n",
       "      <th>Sector</th>\n",
       "      <th>Price</th>\n",
       "      <th>Price/Earnings</th>\n",
       "      <th>Dividend Yield</th>\n",
       "      <th>Earnings/Share</th>\n",
       "      <th>Market Cap</th>\n",
       "      <th>EBITDA</th>\n",
       "      <th>GIS Sector</th>\n",
       "      <th>Sub Industry</th>\n",
       "      <th>environmentScore</th>\n",
       "      <th>socialScore</th>\n",
       "      <th>governanceScore</th>\n",
       "      <th>totalEsg</th>\n",
       "      <th>highestControversy</th>\n",
       "      <th>percentile</th>\n",
       "      <th>ratingYear</th>\n",
       "      <th>ratingMonth</th>\n",
       "      <th>beta</th>\n",
       "      <th>overallRisk</th>\n",
       "    </tr>\n",
       "  </thead>\n",
       "  <tbody>\n",
       "    <tr>\n",
       "      <th>0</th>\n",
       "      <td>CSCO</td>\n",
       "      <td>-23.060479</td>\n",
       "      <td>0.769395</td>\n",
       "      <td>8.495200</td>\n",
       "      <td>1.084952</td>\n",
       "      <td>10.167764</td>\n",
       "      <td>1.101678</td>\n",
       "      <td>10.947493</td>\n",
       "      <td>1.109475</td>\n",
       "      <td>-17.983120</td>\n",
       "      <td>0.820169</td>\n",
       "      <td>Cisco Systems</td>\n",
       "      <td>Information Technology</td>\n",
       "      <td>38.77</td>\n",
       "      <td>17.87</td>\n",
       "      <td>2.875558</td>\n",
       "      <td>1.91</td>\n",
       "      <td>1.994257e+11</td>\n",
       "      <td>1.544700e+10</td>\n",
       "      <td>Information Technology</td>\n",
       "      <td>Communications Equipment</td>\n",
       "      <td>0.45</td>\n",
       "      <td>6.90</td>\n",
       "      <td>6.51</td>\n",
       "      <td>13.87</td>\n",
       "      <td>2.0</td>\n",
       "      <td>8.46</td>\n",
       "      <td>2023.0</td>\n",
       "      <td>9.0</td>\n",
       "      <td>0.819</td>\n",
       "      <td>1</td>\n",
       "    </tr>\n",
       "    <tr>\n",
       "      <th>1</th>\n",
       "      <td>ISRG</td>\n",
       "      <td>-24.494442</td>\n",
       "      <td>0.755056</td>\n",
       "      <td>2.542637</td>\n",
       "      <td>1.025426</td>\n",
       "      <td>28.580896</td>\n",
       "      <td>1.285809</td>\n",
       "      <td>38.591751</td>\n",
       "      <td>1.385918</td>\n",
       "      <td>-21.202454</td>\n",
       "      <td>0.787975</td>\n",
       "      <td>Intuitive Surgical Inc.</td>\n",
       "      <td>Health Care</td>\n",
       "      <td>381.87</td>\n",
       "      <td>48.58</td>\n",
       "      <td>0.000000</td>\n",
       "      <td>5.67</td>\n",
       "      <td>4.486662e+10</td>\n",
       "      <td>1.153700e+09</td>\n",
       "      <td>Health Care</td>\n",
       "      <td>Health Care Equipment</td>\n",
       "      <td>3.65</td>\n",
       "      <td>9.58</td>\n",
       "      <td>7.84</td>\n",
       "      <td>21.07</td>\n",
       "      <td>1.0</td>\n",
       "      <td>32.14</td>\n",
       "      <td>2023.0</td>\n",
       "      <td>9.0</td>\n",
       "      <td>1.395</td>\n",
       "      <td>3</td>\n",
       "    </tr>\n",
       "    <tr>\n",
       "      <th>2</th>\n",
       "      <td>GILD</td>\n",
       "      <td>21.052629</td>\n",
       "      <td>1.210526</td>\n",
       "      <td>7.382059</td>\n",
       "      <td>1.073821</td>\n",
       "      <td>34.961602</td>\n",
       "      <td>1.349616</td>\n",
       "      <td>50.470974</td>\n",
       "      <td>1.504710</td>\n",
       "      <td>25.067617</td>\n",
       "      <td>1.250676</td>\n",
       "      <td>Gilead Sciences</td>\n",
       "      <td>Health Care</td>\n",
       "      <td>78.22</td>\n",
       "      <td>8.16</td>\n",
       "      <td>2.754954</td>\n",
       "      <td>9.95</td>\n",
       "      <td>1.081068e+11</td>\n",
       "      <td>1.759000e+10</td>\n",
       "      <td>Health Care</td>\n",
       "      <td>Biotechnology</td>\n",
       "      <td>1.00</td>\n",
       "      <td>14.34</td>\n",
       "      <td>7.62</td>\n",
       "      <td>22.97</td>\n",
       "      <td>2.0</td>\n",
       "      <td>39.94</td>\n",
       "      <td>2023.0</td>\n",
       "      <td>9.0</td>\n",
       "      <td>0.196</td>\n",
       "      <td>2</td>\n",
       "    </tr>\n",
       "    <tr>\n",
       "      <th>3</th>\n",
       "      <td>V</td>\n",
       "      <td>-3.639976</td>\n",
       "      <td>0.963600</td>\n",
       "      <td>4.082924</td>\n",
       "      <td>1.040829</td>\n",
       "      <td>6.861320</td>\n",
       "      <td>1.068613</td>\n",
       "      <td>8.773446</td>\n",
       "      <td>1.087734</td>\n",
       "      <td>-0.014058</td>\n",
       "      <td>0.999859</td>\n",
       "      <td>Visa Inc.</td>\n",
       "      <td>Information Technology</td>\n",
       "      <td>113.86</td>\n",
       "      <td>32.72</td>\n",
       "      <td>0.702048</td>\n",
       "      <td>2.80</td>\n",
       "      <td>2.700387e+11</td>\n",
       "      <td>1.308600e+10</td>\n",
       "      <td>Financials</td>\n",
       "      <td>Transaction &amp; Payment Processing Services</td>\n",
       "      <td>1.81</td>\n",
       "      <td>8.22</td>\n",
       "      <td>6.65</td>\n",
       "      <td>16.68</td>\n",
       "      <td>3.0</td>\n",
       "      <td>16.22</td>\n",
       "      <td>2023.0</td>\n",
       "      <td>9.0</td>\n",
       "      <td>0.963</td>\n",
       "      <td>3</td>\n",
       "    </tr>\n",
       "    <tr>\n",
       "      <th>4</th>\n",
       "      <td>A</td>\n",
       "      <td>-0.690185</td>\n",
       "      <td>0.993098</td>\n",
       "      <td>4.780525</td>\n",
       "      <td>1.047805</td>\n",
       "      <td>16.369628</td>\n",
       "      <td>1.163696</td>\n",
       "      <td>33.424910</td>\n",
       "      <td>1.334249</td>\n",
       "      <td>-0.550365</td>\n",
       "      <td>0.994496</td>\n",
       "      <td>Agilent Technologies Inc</td>\n",
       "      <td>Health Care</td>\n",
       "      <td>65.05</td>\n",
       "      <td>27.45</td>\n",
       "      <td>0.875698</td>\n",
       "      <td>2.10</td>\n",
       "      <td>2.198461e+10</td>\n",
       "      <td>1.094000e+09</td>\n",
       "      <td>Health Care</td>\n",
       "      <td>Life Sciences Tools &amp; Services</td>\n",
       "      <td>1.12</td>\n",
       "      <td>6.42</td>\n",
       "      <td>6.10</td>\n",
       "      <td>13.64</td>\n",
       "      <td>2.0</td>\n",
       "      <td>7.98</td>\n",
       "      <td>2023.0</td>\n",
       "      <td>9.0</td>\n",
       "      <td>1.054</td>\n",
       "      <td>8</td>\n",
       "    </tr>\n",
       "  </tbody>\n",
       "</table>\n",
       "</div>"
      ],
      "text/plain": [
       "  Ticker  YTD_Change  YTD_Return  1M_Change  1M_Return  3M_Change  3M_Return  \\\n",
       "0   CSCO  -23.060479    0.769395   8.495200   1.084952  10.167764   1.101678   \n",
       "1   ISRG  -24.494442    0.755056   2.542637   1.025426  28.580896   1.285809   \n",
       "2   GILD   21.052629    1.210526   7.382059   1.073821  34.961602   1.349616   \n",
       "3      V   -3.639976    0.963600   4.082924   1.040829   6.861320   1.068613   \n",
       "4      A   -0.690185    0.993098   4.780525   1.047805  16.369628   1.163696   \n",
       "\n",
       "   6M_Change  6M_Return  12M_Change  12M_Return                      Name  \\\n",
       "0  10.947493   1.109475  -17.983120    0.820169             Cisco Systems   \n",
       "1  38.591751   1.385918  -21.202454    0.787975   Intuitive Surgical Inc.   \n",
       "2  50.470974   1.504710   25.067617    1.250676           Gilead Sciences   \n",
       "3   8.773446   1.087734   -0.014058    0.999859                 Visa Inc.   \n",
       "4  33.424910   1.334249   -0.550365    0.994496  Agilent Technologies Inc   \n",
       "\n",
       "                   Sector   Price  Price/Earnings  Dividend Yield  \\\n",
       "0  Information Technology   38.77           17.87        2.875558   \n",
       "1             Health Care  381.87           48.58        0.000000   \n",
       "2             Health Care   78.22            8.16        2.754954   \n",
       "3  Information Technology  113.86           32.72        0.702048   \n",
       "4             Health Care   65.05           27.45        0.875698   \n",
       "\n",
       "   Earnings/Share    Market Cap        EBITDA              GIS Sector  \\\n",
       "0            1.91  1.994257e+11  1.544700e+10  Information Technology   \n",
       "1            5.67  4.486662e+10  1.153700e+09             Health Care   \n",
       "2            9.95  1.081068e+11  1.759000e+10             Health Care   \n",
       "3            2.80  2.700387e+11  1.308600e+10              Financials   \n",
       "4            2.10  2.198461e+10  1.094000e+09             Health Care   \n",
       "\n",
       "                                Sub Industry  environmentScore  socialScore  \\\n",
       "0                   Communications Equipment              0.45         6.90   \n",
       "1                      Health Care Equipment              3.65         9.58   \n",
       "2                              Biotechnology              1.00        14.34   \n",
       "3  Transaction & Payment Processing Services              1.81         8.22   \n",
       "4             Life Sciences Tools & Services              1.12         6.42   \n",
       "\n",
       "   governanceScore  totalEsg  highestControversy  percentile  ratingYear  \\\n",
       "0             6.51     13.87                 2.0        8.46      2023.0   \n",
       "1             7.84     21.07                 1.0       32.14      2023.0   \n",
       "2             7.62     22.97                 2.0       39.94      2023.0   \n",
       "3             6.65     16.68                 3.0       16.22      2023.0   \n",
       "4             6.10     13.64                 2.0        7.98      2023.0   \n",
       "\n",
       "   ratingMonth   beta  overallRisk  \n",
       "0          9.0  0.819            1  \n",
       "1          9.0  1.395            3  \n",
       "2          9.0  0.196            2  \n",
       "3          9.0  0.963            3  \n",
       "4          9.0  1.054            8  "
      ]
     },
     "execution_count": 2,
     "metadata": {},
     "output_type": "execute_result"
    }
   ],
   "source": [
    "# Read the data\n",
    "df = pd.read_csv('merged_data.csv')\n",
    "print(f\"Dataset shape: {df.shape}\")\n",
    "df.head()"
   ]
  },
  {
   "cell_type": "markdown",
   "metadata": {},
   "source": [
    "## 1. Portfolio Group Creation and Analysis"
   ]
  },
  {
   "cell_type": "code",
   "execution_count": 3,
   "metadata": {},
   "outputs": [
    {
     "name": "stderr",
     "output_type": "stream",
     "text": [
      "/var/folders/wr/t_bxfzcj2833m59mtbb50m_w0000gn/T/ipykernel_75723/2926741080.py:6: FutureWarning: The default of observed=False is deprecated and will be changed to True in a future version of pandas. Pass observed=False to retain current behavior or observed=True to adopt the future default and silence this warning.\n",
      "  group_stats = df.groupby('ESG_Group').agg({\n"
     ]
    },
    {
     "data": {
      "text/html": [
       "<div>\n",
       "<style scoped>\n",
       "    .dataframe tbody tr th:only-of-type {\n",
       "        vertical-align: middle;\n",
       "    }\n",
       "\n",
       "    .dataframe tbody tr th {\n",
       "        vertical-align: top;\n",
       "    }\n",
       "\n",
       "    .dataframe thead tr th {\n",
       "        text-align: left;\n",
       "    }\n",
       "\n",
       "    .dataframe thead tr:last-of-type th {\n",
       "        text-align: right;\n",
       "    }\n",
       "</style>\n",
       "<table border=\"1\" class=\"dataframe\">\n",
       "  <thead>\n",
       "    <tr>\n",
       "      <th></th>\n",
       "      <th colspan=\"3\" halign=\"left\">totalEsg</th>\n",
       "      <th colspan=\"2\" halign=\"left\">1M_Return</th>\n",
       "      <th colspan=\"2\" halign=\"left\">3M_Return</th>\n",
       "      <th colspan=\"2\" halign=\"left\">6M_Return</th>\n",
       "      <th colspan=\"2\" halign=\"left\">12M_Return</th>\n",
       "    </tr>\n",
       "    <tr>\n",
       "      <th></th>\n",
       "      <th>mean</th>\n",
       "      <th>std</th>\n",
       "      <th>count</th>\n",
       "      <th>mean</th>\n",
       "      <th>std</th>\n",
       "      <th>mean</th>\n",
       "      <th>std</th>\n",
       "      <th>mean</th>\n",
       "      <th>std</th>\n",
       "      <th>mean</th>\n",
       "      <th>std</th>\n",
       "    </tr>\n",
       "    <tr>\n",
       "      <th>ESG_Group</th>\n",
       "      <th></th>\n",
       "      <th></th>\n",
       "      <th></th>\n",
       "      <th></th>\n",
       "      <th></th>\n",
       "      <th></th>\n",
       "      <th></th>\n",
       "      <th></th>\n",
       "      <th></th>\n",
       "      <th></th>\n",
       "      <th></th>\n",
       "    </tr>\n",
       "  </thead>\n",
       "  <tbody>\n",
       "    <tr>\n",
       "      <th>Low ESG</th>\n",
       "      <td>14.1586</td>\n",
       "      <td>2.2451</td>\n",
       "      <td>59</td>\n",
       "      <td>0.9907</td>\n",
       "      <td>0.0581</td>\n",
       "      <td>1.0383</td>\n",
       "      <td>0.1284</td>\n",
       "      <td>1.0900</td>\n",
       "      <td>0.1747</td>\n",
       "      <td>0.8611</td>\n",
       "      <td>0.1745</td>\n",
       "    </tr>\n",
       "    <tr>\n",
       "      <th>Medium ESG</th>\n",
       "      <td>20.7131</td>\n",
       "      <td>1.6941</td>\n",
       "      <td>58</td>\n",
       "      <td>1.0055</td>\n",
       "      <td>0.0541</td>\n",
       "      <td>1.0618</td>\n",
       "      <td>0.1310</td>\n",
       "      <td>1.1274</td>\n",
       "      <td>0.1673</td>\n",
       "      <td>0.9433</td>\n",
       "      <td>0.2009</td>\n",
       "    </tr>\n",
       "    <tr>\n",
       "      <th>High ESG</th>\n",
       "      <td>28.1032</td>\n",
       "      <td>3.8814</td>\n",
       "      <td>59</td>\n",
       "      <td>0.9909</td>\n",
       "      <td>0.0747</td>\n",
       "      <td>1.0376</td>\n",
       "      <td>0.1127</td>\n",
       "      <td>1.0810</td>\n",
       "      <td>0.1421</td>\n",
       "      <td>1.0025</td>\n",
       "      <td>0.3106</td>\n",
       "    </tr>\n",
       "  </tbody>\n",
       "</table>\n",
       "</div>"
      ],
      "text/plain": [
       "           totalEsg               1M_Return         3M_Return          \\\n",
       "               mean     std count      mean     std      mean     std   \n",
       "ESG_Group                                                               \n",
       "Low ESG     14.1586  2.2451    59    0.9907  0.0581    1.0383  0.1284   \n",
       "Medium ESG  20.7131  1.6941    58    1.0055  0.0541    1.0618  0.1310   \n",
       "High ESG    28.1032  3.8814    59    0.9909  0.0747    1.0376  0.1127   \n",
       "\n",
       "           6M_Return         12M_Return          \n",
       "                mean     std       mean     std  \n",
       "ESG_Group                                        \n",
       "Low ESG       1.0900  0.1747     0.8611  0.1745  \n",
       "Medium ESG    1.1274  0.1673     0.9433  0.2009  \n",
       "High ESG      1.0810  0.1421     1.0025  0.3106  "
      ]
     },
     "execution_count": 3,
     "metadata": {},
     "output_type": "execute_result"
    }
   ],
   "source": [
    "# Create ESG portfolio groups\n",
    "n_groups = 3\n",
    "df['ESG_Group'] = pd.qcut(df['totalEsg'], q=n_groups, labels=['Low ESG', 'Medium ESG', 'High ESG'])\n",
    "\n",
    "# Calculate group statistics\n",
    "group_stats = df.groupby('ESG_Group').agg({\n",
    "    'totalEsg': ['mean', 'std', 'count'],\n",
    "    '1M_Return': ['mean', 'std'],\n",
    "    '3M_Return': ['mean', 'std'],\n",
    "    '6M_Return': ['mean', 'std'],\n",
    "    '12M_Return': ['mean', 'std']\n",
    "}).round(4)\n",
    "\n",
    "group_stats"
   ]
  },
  {
   "cell_type": "markdown",
   "metadata": {},
   "source": [
    "## 2. Portfolio Performance Comparison"
   ]
  },
  {
   "cell_type": "code",
   "execution_count": 4,
   "metadata": {},
   "outputs": [
    {
     "data": {
      "application/vnd.plotly.v1+json": {
       "config": {
        "plotlyServerURL": "https://plot.ly"
       },
       "data": [
        {
         "boxpoints": "all",
         "jitter": 0.3,
         "name": "1M_Return",
         "pointpos": -1.8,
         "type": "box",
         "x": [
          "Low ESG",
          "Medium ESG",
          "Medium ESG",
          "Low ESG",
          "Low ESG",
          "High ESG",
          "Low ESG",
          "Low ESG",
          "Medium ESG",
          "High ESG",
          "Medium ESG",
          "High ESG",
          "High ESG",
          "Medium ESG",
          "Medium ESG",
          "High ESG",
          "Medium ESG",
          "High ESG",
          "Medium ESG",
          "Low ESG",
          "Low ESG",
          "High ESG",
          "High ESG",
          "High ESG",
          "Low ESG",
          "Low ESG",
          "Medium ESG",
          "High ESG",
          "High ESG",
          "High ESG",
          "Low ESG",
          "High ESG",
          "High ESG",
          "High ESG",
          "Low ESG",
          "Medium ESG",
          "Medium ESG",
          "Medium ESG",
          "High ESG",
          "Low ESG",
          "High ESG",
          "High ESG",
          "Low ESG",
          "High ESG",
          "Low ESG",
          "High ESG",
          "Low ESG",
          "High ESG",
          "High ESG",
          "Low ESG",
          "Medium ESG",
          "Low ESG",
          "High ESG",
          "Low ESG",
          "Medium ESG",
          "Low ESG",
          "Medium ESG",
          "Low ESG",
          "High ESG",
          "High ESG",
          "Low ESG",
          "Medium ESG",
          "Medium ESG",
          "Medium ESG",
          "Medium ESG",
          "Low ESG",
          "High ESG",
          "Low ESG",
          "High ESG",
          "Low ESG",
          "Low ESG",
          "Low ESG",
          "Low ESG",
          "Medium ESG",
          "Medium ESG",
          "Medium ESG",
          "Medium ESG",
          "High ESG",
          "Low ESG",
          "High ESG",
          "Medium ESG",
          "High ESG",
          "Medium ESG",
          "Low ESG",
          "Medium ESG",
          "High ESG",
          "High ESG",
          "High ESG",
          "Medium ESG",
          "High ESG",
          "Medium ESG",
          "Medium ESG",
          "High ESG",
          "Medium ESG",
          "Medium ESG",
          "Low ESG",
          "Medium ESG",
          "Medium ESG",
          "Medium ESG",
          "Low ESG",
          "Medium ESG",
          "High ESG",
          "High ESG",
          "High ESG",
          "High ESG",
          "Low ESG",
          "Medium ESG",
          "Medium ESG",
          "Low ESG",
          "Low ESG",
          "Low ESG",
          "High ESG",
          "High ESG",
          "High ESG",
          "High ESG",
          "Low ESG",
          "Low ESG",
          "High ESG",
          "Low ESG",
          "Low ESG",
          "High ESG",
          "Medium ESG",
          "High ESG",
          "Low ESG",
          "Low ESG",
          "High ESG",
          "Low ESG",
          "Medium ESG",
          "High ESG",
          "High ESG",
          "High ESG",
          "Low ESG",
          "Medium ESG",
          "Medium ESG",
          "Low ESG",
          "Medium ESG",
          "Medium ESG",
          "Low ESG",
          "Medium ESG",
          "Low ESG",
          "Low ESG",
          "High ESG",
          "Medium ESG",
          "Medium ESG",
          "Medium ESG",
          "Medium ESG",
          "Medium ESG",
          "Low ESG",
          "Medium ESG",
          "High ESG",
          "High ESG",
          "High ESG",
          "High ESG",
          "Medium ESG",
          "Medium ESG",
          "Low ESG",
          "Medium ESG",
          "Medium ESG",
          "Low ESG",
          "Medium ESG",
          "Low ESG",
          "Low ESG",
          "Low ESG",
          "Low ESG",
          "High ESG",
          "High ESG",
          "Medium ESG",
          "Medium ESG",
          "Low ESG",
          "High ESG",
          "Medium ESG",
          "Low ESG",
          "High ESG",
          "Low ESG",
          "Low ESG",
          "Low ESG"
         ],
         "xaxis": "x",
         "y": {
          "bdata": "i9O9ofZb8T9NSSV6JWjwP18Wm4BeLvE/DsnbkDyn8D8lH8Vvz8PwP+YAOkh9IfA/l0z6+gyQ8T/DrrrJzJLvPwAAAADwjPA/mzIKUC0f8D+bGMA1zw/wP0G4EB9G1+4/iwzyAOev7z8A6nkvDFjtP6wIHqyljfA/L23cNEIf6z/c9h4peV7uPwHXvcbfGPA/WOD20pR98D/RSRW+KnnxP6irYTRwee8/5lQPqbuz8T+Ha1+248XwP+PVvUgNJu4/fIsTK0LE7z/pukcpw/vuP0ZwROZhkfA/ofpXLEMD8D/b2m6vrbbwPwSPpr8Klu8/jQqUiqX28D9OK70Z8q/sP0/AGNInYO4/gBs6FvUm8T/KC38isubrPzxL6pmFl+4/qSV0tnvS7j9A3eBV8NbtP3jGdWjkwPA/gCX3G/+w7j/N4dsqgBnsP15wMur5lPE/MUi0nH/E7z+wtPUv8wzuP2zBs6qC0vA/sC+bs+2s6z8vu8lBeeTvP1B/snNdiOw/Z9m0H8tI8T9DsI42RwbxP7FF396xT/E/DdD8RD626z9VTzqJz53vP116zN/r0Ow//NXTS2x68D8fJU/RVTzwP8jd/HjcbfA/p+zHyOXK7z9h+fcctJfwP2x9lG7nLvA/PF+KEV4R8D+zPVN1sFDwP5xhRl9ELfA/qJtB6X9b8D9BR71+2i3xP1TKN/9qEO8/xohnd17Z8D9r3IZY1ybvP7vx4dAUM+8/1QwQ5sm17j/jAPH/ry3uP6qbLnJrD+8/Ay9b/25S8D+4YIyNCaLvPxnuzYFqRO8/rjWCVbaa7z9Uflpmc43uP+fjN4DOYe0/2sOT+NZy8D+ll9ztQpvpPxdrd/n0ie8/4zhuAgCw8T+n9peEH1nwP+V55Chw8vA/+f9In/3L7j+79jQo743vP8fvlRDYPPE/nPQlYVVV8T+bzsBmxinvP3vxHWt8ZvE/z+fWErPa7z/7L6RXqEfvP6hrsSddnO4/z6C7H9RS7j9uL/7VolDxP6dLc71Sb+4/XxQ5Jzir7z8yl8VfJAHwP+G56PnQ4O4/mmZUPd8P8D9xT/nXXprxP9BI/aT5QO8/KXSipyMJ8T8Yx0hmf/DwP+fhhrRQRPE/bElt80XN7T+BNsOR0bPwP7uVoCkce+8/dbhOiqMy8T+PZnEgPLPsPwVo9v5j++8/Q0tUDeUS7j+amZmZe83uP3/RreUrju8/dgPySAO18D/dxp/avYvvP4CZJ4RQafA/o8IVoYAo7j+7MOA49/TuPxm28TShW+8/1aFHuKCo6j88/V2rFOXwP5SwTCoTLfA/HwnFxnzP7j8+CDp0D+7vP5K2qAx55O0/+uCOt7EO8D8jf4WnTnPwP5IQpee5xu4/se2N6d408D8RWl7FntPwP5h8lBirMfA/IAnG1YsI7j8+mGHueSzvPx45kNlAG/A/IErJArql8D++9LBSfG3vP8nuN2CiUu8/FIZ1v6Xr7j8I3XaVnHnvP/QzViRMxfA/cfFuT6Jb7z9SUjEe1AnxP/fzUReRVO0/xQqHidLw8T+MbztYTuTvP6Xw5tfrYPI/j4YfLnnw6z9G8NhTiTzxP5oJtVrtsuw/L4BM0mT58D/rokNwsBnxP1xuUQT59+s/wLr1Yr8J7z9AhdYU4QPtP4+8pjDBIvA/cWh4zRa57j+eD+whALrwP58EUmWNvO8/dKEKrNIN7D9xdBPnCX7xP7LswPam+O0/nYKXU5A47D/0xah43kzvP/GgtmZFle4/LkQX9g6h8T+Oawn2cmPwP+qUB/vxq/A/PCbetfUF8D8cwU6Rg/btP9O02LYOW/A/1c5hO+PN8D+XEH/Hp2zvP9AIY+0ZHes/f+JhXahf8D/8fJxBQcTuPw==",
          "dtype": "f8"
         },
         "yaxis": "y"
        },
        {
         "boxpoints": "all",
         "jitter": 0.3,
         "name": "3M_Return",
         "pointpos": -1.8,
         "type": "box",
         "x": [
          "Low ESG",
          "Medium ESG",
          "Medium ESG",
          "Low ESG",
          "Low ESG",
          "High ESG",
          "Low ESG",
          "Low ESG",
          "Medium ESG",
          "High ESG",
          "Medium ESG",
          "High ESG",
          "High ESG",
          "Medium ESG",
          "Medium ESG",
          "High ESG",
          "Medium ESG",
          "High ESG",
          "Medium ESG",
          "Low ESG",
          "Low ESG",
          "High ESG",
          "High ESG",
          "High ESG",
          "Low ESG",
          "Low ESG",
          "Medium ESG",
          "High ESG",
          "High ESG",
          "High ESG",
          "Low ESG",
          "High ESG",
          "High ESG",
          "High ESG",
          "Low ESG",
          "Medium ESG",
          "Medium ESG",
          "Medium ESG",
          "High ESG",
          "Low ESG",
          "High ESG",
          "High ESG",
          "Low ESG",
          "High ESG",
          "Low ESG",
          "High ESG",
          "Low ESG",
          "High ESG",
          "High ESG",
          "Low ESG",
          "Medium ESG",
          "Low ESG",
          "High ESG",
          "Low ESG",
          "Medium ESG",
          "Low ESG",
          "Medium ESG",
          "Low ESG",
          "High ESG",
          "High ESG",
          "Low ESG",
          "Medium ESG",
          "Medium ESG",
          "Medium ESG",
          "Medium ESG",
          "Low ESG",
          "High ESG",
          "Low ESG",
          "High ESG",
          "Low ESG",
          "Low ESG",
          "Low ESG",
          "Low ESG",
          "Medium ESG",
          "Medium ESG",
          "Medium ESG",
          "Medium ESG",
          "High ESG",
          "Low ESG",
          "High ESG",
          "Medium ESG",
          "High ESG",
          "Medium ESG",
          "Low ESG",
          "Medium ESG",
          "High ESG",
          "High ESG",
          "High ESG",
          "Medium ESG",
          "High ESG",
          "Medium ESG",
          "Medium ESG",
          "High ESG",
          "Medium ESG",
          "Medium ESG",
          "Low ESG",
          "Medium ESG",
          "Medium ESG",
          "Medium ESG",
          "Low ESG",
          "Medium ESG",
          "High ESG",
          "High ESG",
          "High ESG",
          "High ESG",
          "Low ESG",
          "Medium ESG",
          "Medium ESG",
          "Low ESG",
          "Low ESG",
          "Low ESG",
          "High ESG",
          "High ESG",
          "High ESG",
          "High ESG",
          "Low ESG",
          "Low ESG",
          "High ESG",
          "Low ESG",
          "Low ESG",
          "High ESG",
          "Medium ESG",
          "High ESG",
          "Low ESG",
          "Low ESG",
          "High ESG",
          "Low ESG",
          "Medium ESG",
          "High ESG",
          "High ESG",
          "High ESG",
          "Low ESG",
          "Medium ESG",
          "Medium ESG",
          "Low ESG",
          "Medium ESG",
          "Medium ESG",
          "Low ESG",
          "Medium ESG",
          "Low ESG",
          "Low ESG",
          "High ESG",
          "Medium ESG",
          "Medium ESG",
          "Medium ESG",
          "Medium ESG",
          "Medium ESG",
          "Low ESG",
          "Medium ESG",
          "High ESG",
          "High ESG",
          "High ESG",
          "High ESG",
          "Medium ESG",
          "Medium ESG",
          "Low ESG",
          "Medium ESG",
          "Medium ESG",
          "Low ESG",
          "Medium ESG",
          "Low ESG",
          "Low ESG",
          "Low ESG",
          "Low ESG",
          "High ESG",
          "High ESG",
          "Medium ESG",
          "Medium ESG",
          "Low ESG",
          "High ESG",
          "Medium ESG",
          "Low ESG",
          "High ESG",
          "Low ESG",
          "Low ESG",
          "Low ESG"
         ],
         "xaxis": "x2",
         "y": {
          "bdata": "0JS7unig8T8j489rrJL0P6q1y/YGmPU/RPfcJgoZ8T/KTYf+f57yP9by2jPfXfM/5PmlnoXE8T/+2a2d47/yPwpo7Ck4qPA/M8zE5pQ/8j+s6BvZviDyP2xhEPyENPE//RRcxpgT8T8SrO5ohPvvP/z8UnnBEe0/EA8PD9ej7j/GqIL00PvnPzb7uNw+0vA/Rk090sk/8j9NRkLkWXvxPzIQ5oFN6e4/fUrPV26U8T/mQ5E2JujxP6jtK6unwOs/yAtbBTV/8T9JuUdkGLnwP3iC7nXf7fE/LtYJEFU48j/my/5TRgzuP6aeBrRGCfE/Lo7ZmOdq8z/8SdlJqc7xP72KLsg5xuY/xBMU3IgF8j/VwHXWcB3pP11lWqm9HfI/lrfYtZfa7D+BZlfyhDfwP9bAqbCxkvI/aLL37gbp6j+yxOYNBlXmP7YXSfxwLe8/6CD2giXc6T8KYQPq73zuP8E76SPjL/A/jNio9rp77z/qKY9/9XzqP+3lFjRboew/uH6lF/748D/hcH6ABYjyP3lxuVJaKe4/SmemwO5u7j9f7TJ7oNnyPy0WYUSYIe0/FDwzIebl7j+H78I5sNfvP11Z8Ghb2PE/D9WDdqKe6z9sEJa4xMftP9U+w6hHO/I/nLRsE5aO8D/vrLcdZ4/xP0kCbwYInuk/6lO+GF347D+q9UDtoXrwP6nkMiwxfPA/QnOijpJQ8T/EfTHk3QvzP3Dx/0wwo/A/qps+PAeS7j+QR626FwrvP1z8aTRKl/I/KDROHjtZ8z/NnETHk3P2P/MPgpo66us/9ra/732H8T/PkNcRezzzP7Jdhl8hSvE/e+YmbJGj8j/q64+LZPPrPyrFnDf3WPA/01wFfXMq8j9/hplhfo/xP30cOaz7qPM/d1kVJ/YA8T+j5oJ2kTLwP1m57v9Er+w/UF3WtU818T+CM3kAcpTyP3P35hv1mvA/57iBV3Sj8D8QiElp71jxP8vSocjNSPA/SVylP7m/8D+SnButUl3pPzR8dRiGbvA/7+3E8Rdt8D+1Z93tT/3yP0YLC8LyA/I/W0Yy4EzT7T+J7jXpsb7xP8BE2mxvp/E/RQfYeSuL8T+tyxBZa4bvP+bDdNh4WfE/fiF55zjR7z+O4ziOwnXwP399ixQZ4fI/uC7V0Nrf9j8m8lboAjzuP0scWEN+1fA/e1xJQ0zI7T+DRM7/RA7xP76bGfdRV/I/mHq7hktu8D9v+8ZKdb7xP/5Vx1tcuPE/Qk+EAiA38T90cihvLhHwP8F9BPfR//A/+lAZKMPK7z8rpYSWW83uP0zhc4WwHfI/IXWh1AwK8D8mS/C1aqbvP3HZ5QLfQfA/toB+7cVi7j8NCAazohPxP23dgqfmC/E/L7E39bu48T8P9jF5QXfuPwP7cmtK/PI/7hMEy4/48T+ERsWTvqDzP+Mf0leCfvA/hJM7b5AT8j8qfLkhptTsP/8gXSYibPI/nEYjNH1s8z8G+wfWA+zuPyMLLqcbyPE/3GoDb9ma8T8QyMsMJ1HvP+NqE2fNHPA/WakK1vaj8j9ZUKjviQzyP0D6+bgYCfM/xCFpTenI8T8k75q/iknwPw8AQ4fa4/E/Alb1q36I8D8vwfjS87DtP60wJ4QtWPE/4BMcuBOS8D83SNj3BrHwP1gqg1dbLvI/DxSDBoPu7z9oCoGm0BLqP/nuduTpSe8/n1HObRL98z9nSdGGQ7TzP/IALtzoyec/dFYFm6Iw7T+lK0on4U/wP2LrSgaL3+w/0P2JxK7u9T/xGnvyxp3wP7q055EPVe8/JATpSBfM7T8WSYZGhN7sP0HGriyhUvI/xX2sAfoL7z9MDeAa0XXxP6bG6EvbDOs/OVlgHMEd8j8NJ+9qJTPxPw==",
          "dtype": "f8"
         },
         "yaxis": "y2"
        },
        {
         "boxpoints": "all",
         "jitter": 0.3,
         "name": "6M_Return",
         "pointpos": -1.8,
         "type": "box",
         "x": [
          "Low ESG",
          "Medium ESG",
          "Medium ESG",
          "Low ESG",
          "Low ESG",
          "High ESG",
          "Low ESG",
          "Low ESG",
          "Medium ESG",
          "High ESG",
          "Medium ESG",
          "High ESG",
          "High ESG",
          "Medium ESG",
          "Medium ESG",
          "High ESG",
          "Medium ESG",
          "High ESG",
          "Medium ESG",
          "Low ESG",
          "Low ESG",
          "High ESG",
          "High ESG",
          "High ESG",
          "Low ESG",
          "Low ESG",
          "Medium ESG",
          "High ESG",
          "High ESG",
          "High ESG",
          "Low ESG",
          "High ESG",
          "High ESG",
          "High ESG",
          "Low ESG",
          "Medium ESG",
          "Medium ESG",
          "Medium ESG",
          "High ESG",
          "Low ESG",
          "High ESG",
          "High ESG",
          "Low ESG",
          "High ESG",
          "Low ESG",
          "High ESG",
          "Low ESG",
          "High ESG",
          "High ESG",
          "Low ESG",
          "Medium ESG",
          "Low ESG",
          "High ESG",
          "Low ESG",
          "Medium ESG",
          "Low ESG",
          "Medium ESG",
          "Low ESG",
          "High ESG",
          "High ESG",
          "Low ESG",
          "Medium ESG",
          "Medium ESG",
          "Medium ESG",
          "Medium ESG",
          "Low ESG",
          "High ESG",
          "Low ESG",
          "High ESG",
          "Low ESG",
          "Low ESG",
          "Low ESG",
          "Low ESG",
          "Medium ESG",
          "Medium ESG",
          "Medium ESG",
          "Medium ESG",
          "High ESG",
          "Low ESG",
          "High ESG",
          "Medium ESG",
          "High ESG",
          "Medium ESG",
          "Low ESG",
          "Medium ESG",
          "High ESG",
          "High ESG",
          "High ESG",
          "Medium ESG",
          "High ESG",
          "Medium ESG",
          "Medium ESG",
          "High ESG",
          "Medium ESG",
          "Medium ESG",
          "Low ESG",
          "Medium ESG",
          "Medium ESG",
          "Medium ESG",
          "Low ESG",
          "Medium ESG",
          "High ESG",
          "High ESG",
          "High ESG",
          "High ESG",
          "Low ESG",
          "Medium ESG",
          "Medium ESG",
          "Low ESG",
          "Low ESG",
          "Low ESG",
          "High ESG",
          "High ESG",
          "High ESG",
          "High ESG",
          "Low ESG",
          "Low ESG",
          "High ESG",
          "Low ESG",
          "Low ESG",
          "High ESG",
          "Medium ESG",
          "High ESG",
          "Low ESG",
          "Low ESG",
          "High ESG",
          "Low ESG",
          "Medium ESG",
          "High ESG",
          "High ESG",
          "High ESG",
          "Low ESG",
          "Medium ESG",
          "Medium ESG",
          "Low ESG",
          "Medium ESG",
          "Medium ESG",
          "Low ESG",
          "Medium ESG",
          "Low ESG",
          "Low ESG",
          "High ESG",
          "Medium ESG",
          "Medium ESG",
          "Medium ESG",
          "Medium ESG",
          "Medium ESG",
          "Low ESG",
          "Medium ESG",
          "High ESG",
          "High ESG",
          "High ESG",
          "High ESG",
          "Medium ESG",
          "Medium ESG",
          "Low ESG",
          "Medium ESG",
          "Medium ESG",
          "Low ESG",
          "Medium ESG",
          "Low ESG",
          "Low ESG",
          "Low ESG",
          "Low ESG",
          "High ESG",
          "High ESG",
          "Medium ESG",
          "Medium ESG",
          "Low ESG",
          "High ESG",
          "Medium ESG",
          "Low ESG",
          "High ESG",
          "Low ESG",
          "Low ESG",
          "Low ESG"
         ],
         "xaxis": "x3",
         "y": {
          "bdata": "BD2SyWjA8T/MdtjVtyz2P2zuVIRKE/g/PM4JP1xn8T9lBaKUFVn1P6x1V9WO3/M/4De9+9o+8j9tnqYx+vvvP+H4+oM3J/Q/X9v5wMGY7z/K6HZFbJjzP0NQxTTSp/E/9DTkvtbr8T96MNEi0K7wP5po0ZYKBPA/qedGD4pA8D9VFc4F9RbsP4Q5ohA5bvI/b160p9IG8j/ceQGiH4nyP4SnhRhegfE/an9yPR+b8z/3m1SfSVzxPzcjff6iKeg/+PlWVMPx8T8WkQ4YvRbyP3YBnQwtL/I/Ac21R7/C8j8Nk45BPSHxPz6ZCVB/ffA/g71ArqfA9T9aMa5SC5XxP2Q3JztIA+k/OoBnhf9u8j+IJzLJIRDnP5As9penQPE/iiVrGBb77z+AEi0gpOXvP852evF+/fU/zYCNJpVi7D9S8eb7103qP06F3N6e5/A/ZoBKtt4k7z/n5ag5eRPyP4YcbVWgmvE/VTaNayMQ8T/JiScdt/TrPxFSWtqjGOw/mQcoQh5Z8j8Rzq4PESvyPxlfnjfAxvA/ND0NArvw8T9c9RNRbuXyPzvf9d6F7uY/dhhNwvuA8j/amufHIt/vP2IDlDMAjfQ/nVrsF3+y7T8df8zIatLwP4+QoIpIA/Q/yMM4dI+T8D/1/5R1TSfzPxUet6ZONOs/5h6Yxd118z+QDmnIiZHyP0wE333h8u8/em+hJMV08T9IhOX/A6zxP34VAYQQvvE/W01BjYOF8T+n92eDbqPuPyl2YidWJfM/eXcG7+xv9T9HhjPJVjX3PyLz7VKxye0/5P3vN00G8j+r3BDvpi/0Pwf1x5kzQfI/PNgnIN2E8j+Bw3GPgV7zP4X9aKOP6vA/mEkZckwd8z83NqKyl9P0PzIMhQafavI/akGjPgyx8T8TjOfPzajwP1Ve5IO82vA/FDCf/6m58j/Km7GMTO/0P1EJ8sQ3PPI/jeKO7Nxf8T/hJkRqivnxP5gTPKL40ew/RUbRilIq9D9rI2al/rjnP1oTzxXAYfI/bqjgxMLA8D8i1Li+ekf3P971kdkHPfM/iqz3Ugc18D80be+9F8b0P1wvNR9Y+/I/2WoaYLO88T+N1bMBdc3vP88Afn77m/A/uv4vXrih8T/tA6xe+T/zP9c5cjLDdfI/tfaTcvyz+z+B4QsaunPuPzJH2d2J0/M/yM551ctQ7j9xN5q4WX3wP5QFpK0wf/I/LzB3XwmY8D8Yp+ipXK/yP+Nfch8TfvE/6qSzmQ5D8j8LTVPCPlDwP00E2Ck9//E/1hjnXgtV8D/qSgh2fObxPzpEjTEfsfI/uc4hvJ6X7z/RnjGdD2HwPz3lzsOQtfA/xMVOpZCx7z90TiZsG3jyP614w3Ob1Ow/XbxALH0m8z8IqA1gjfrxP9Vcq5moDPY/RVcXcJQU8j8ldvv3Svf2P3+SCXMnmvE/TuEDKgpZ8j/2/rP+a33oP8P5rt+E2vQ/3hcKp2608j+t1KnrDzLwPw/TyrdtLfQ/+jbfVyDc8z+N/Bt3FG3tPxrneL+dK+s/zqL2niPk9D9/7P8xlvHxP5ZlRVX43PM/5KPUW8Jx8j/Iiy3B13/vP8fOagzkqu4/Kgq/igVF8T9S+W+UGtjvPwJquZPbSvU/OMRtrLyG8j8SqaPqX9vwPzf75WBYr/U/NBqNRiN98D/L6tAsTa7qP3qCX90e0+8/y+Ll5C2F8j96AP3wMhb1P/5UdUGfPuc/HtJrW6Cz7z+alLXT5vnxPzPJDMGEvug/N+avrLUq9z9kOUSXndPxP0/9JhQ6Uu0/6EDfG7VV6z9gKGgL+aznP2X85niO9PE/kM0YKRdH8j+M4PZdntnxP0ri2A6FX+k/JCzpuMXB8D8acxqX9TzyPw==",
          "dtype": "f8"
         },
         "yaxis": "y3"
        },
        {
         "boxpoints": "all",
         "jitter": 0.3,
         "name": "12M_Return",
         "pointpos": -1.8,
         "type": "box",
         "x": [
          "Low ESG",
          "Medium ESG",
          "Medium ESG",
          "Low ESG",
          "Low ESG",
          "High ESG",
          "Low ESG",
          "Low ESG",
          "Medium ESG",
          "High ESG",
          "Medium ESG",
          "High ESG",
          "High ESG",
          "Medium ESG",
          "Medium ESG",
          "High ESG",
          "Medium ESG",
          "High ESG",
          "Medium ESG",
          "Low ESG",
          "Low ESG",
          "High ESG",
          "High ESG",
          "High ESG",
          "Low ESG",
          "Low ESG",
          "Medium ESG",
          "High ESG",
          "High ESG",
          "High ESG",
          "Low ESG",
          "High ESG",
          "High ESG",
          "High ESG",
          "Low ESG",
          "Medium ESG",
          "Medium ESG",
          "Medium ESG",
          "High ESG",
          "Low ESG",
          "High ESG",
          "High ESG",
          "Low ESG",
          "High ESG",
          "Low ESG",
          "High ESG",
          "Low ESG",
          "High ESG",
          "High ESG",
          "Low ESG",
          "Medium ESG",
          "Low ESG",
          "High ESG",
          "Low ESG",
          "Medium ESG",
          "Low ESG",
          "Medium ESG",
          "Low ESG",
          "High ESG",
          "High ESG",
          "Low ESG",
          "Medium ESG",
          "Medium ESG",
          "Medium ESG",
          "Medium ESG",
          "Low ESG",
          "High ESG",
          "Low ESG",
          "High ESG",
          "Low ESG",
          "Low ESG",
          "Low ESG",
          "Low ESG",
          "Medium ESG",
          "Medium ESG",
          "Medium ESG",
          "Medium ESG",
          "High ESG",
          "Low ESG",
          "High ESG",
          "Medium ESG",
          "High ESG",
          "Medium ESG",
          "Low ESG",
          "Medium ESG",
          "High ESG",
          "High ESG",
          "High ESG",
          "Medium ESG",
          "High ESG",
          "Medium ESG",
          "Medium ESG",
          "High ESG",
          "Medium ESG",
          "Medium ESG",
          "Low ESG",
          "Medium ESG",
          "Medium ESG",
          "Medium ESG",
          "Low ESG",
          "Medium ESG",
          "High ESG",
          "High ESG",
          "High ESG",
          "High ESG",
          "Low ESG",
          "Medium ESG",
          "Medium ESG",
          "Low ESG",
          "Low ESG",
          "Low ESG",
          "High ESG",
          "High ESG",
          "High ESG",
          "High ESG",
          "Low ESG",
          "Low ESG",
          "High ESG",
          "Low ESG",
          "Low ESG",
          "High ESG",
          "Medium ESG",
          "High ESG",
          "Low ESG",
          "Low ESG",
          "High ESG",
          "Low ESG",
          "Medium ESG",
          "High ESG",
          "High ESG",
          "High ESG",
          "Low ESG",
          "Medium ESG",
          "Medium ESG",
          "Low ESG",
          "Medium ESG",
          "Medium ESG",
          "Low ESG",
          "Medium ESG",
          "Low ESG",
          "Low ESG",
          "High ESG",
          "Medium ESG",
          "Medium ESG",
          "Medium ESG",
          "Medium ESG",
          "Medium ESG",
          "Low ESG",
          "Medium ESG",
          "High ESG",
          "High ESG",
          "High ESG",
          "High ESG",
          "Medium ESG",
          "Medium ESG",
          "Low ESG",
          "Medium ESG",
          "Medium ESG",
          "Low ESG",
          "Medium ESG",
          "Low ESG",
          "Low ESG",
          "Low ESG",
          "Low ESG",
          "High ESG",
          "High ESG",
          "Medium ESG",
          "Medium ESG",
          "Low ESG",
          "High ESG",
          "Medium ESG",
          "Low ESG",
          "High ESG",
          "Low ESG",
          "Low ESG",
          "Low ESG"
         ],
         "xaxis": "x4",
         "y": {
          "bdata": "JHsGotI+6j+4U99OGDfpPzCsuwLFAvQ/brYuMdn+7z+dQmcB6tLvP9pW/5vcE+w/Q6R+x/Q46T+yySabTFHqP4rDVyWkJvI/R3YQo6PN8T9W6QWMMGjyP4LnLFrbCOs/oqgmF1499z9nnw7tOVXpPyQeJtl2Ue4/gA5Fn1pm5z81PB4XtjLpP+PdRrDTouk/DqOQEJN/7T8bhFodDqLyP1yeFXrja+Y/Q0u3op+E7j/oN5qPkRHyPzcjff6iKeg/Rcz0kGGJ7D/y/K1g3MboP1ZkL79qPvE/Lt/BR+eV8j+pa5wQufXwPwmNjSRuhuk/pJhrDmrG8D87rAP9X037P67mR3U9qOg/yIlXA2TG9j++OqzPoZriP/B8cx9nguo/5pbL2Y6u5D/f9E4Pg7/kP5HX3H3e8+s/iqXY+Joj6T9NAvhQHnLgP24Ahe+wv/A/brWSD2oZ6D9EN5OYfozjP8tPYrwmNew/DYaF67O2AEDEo3b11i/nP9ues72mf/Q/Evsnrr5I9D+Jh4eHQ4vuP/twfK79w+4/Uw06DxCS5z/eAY/M4zLyPwBi2p8Xy+M/UKRQTHxp7j84T3zbzGznP4Eu5KMF0O8/J0TrHtXX5T+bVoRYtYjwP8H9vqJve+8/J3MFyIOR6D8T3V8VqafpP8IdOK6d0uM/+7iHebug7D/KHF20pHfsP2UupyGZNuk/B6WsZTIT5z8t6TknW4vmP/Bmed4QuOk/1OB5ue+M6j9MJTqMa4XvP+PrDYWSfug/1hiZM3Rk8D9jQsriNa7zP0vcYHwSWO0/Hfa8/IlD7T8XalgMiC3mP1SkoPGGBPs/l3Hgyfzw6D8OT248F7LvP2D86iFcqvE/ZRnXegsO8z/IhJMnerTvPxZVFslBCfE/pe9yJYew7D+96U1v5EHwP3nDz42FPfE/H823SpqS8D/px7NrlFPxPwy9H1C3zvI/u+dIBl2E6D/EzBq0ShvpP11QOOV7Wuc/hcVXG7Cn5z++VZriN6zlPxMJFuxyBvA/pJq7z3kg8D/zaxsbO/zsP/7+7yZWkfE/8YMHaWpz5z9VTRZ3Iy7yP3zVpgZ1Ju0/9gDZSbnp7z8w+zSsDGXlP7VShd3LHfI/UOlaDTtB5z+aznge3yDsP2JKk81xtO0/JFgAYqBQ4D9WYUyIDivoP7G2aSVGQvI/ao+EANXk5z8dNA1OaBnmP8gw7RfMtuo/rjPVzmTi6T+n3TvPsj3xP0C/XbjGSO0/gcCfhLYt7T9qJQalWUbxP/Mni62UR+0/nSCHOhRM+D9gGIxYqKzxP9HNkYKgaO4/yQ19TVNz6T+oax/z6BjvP0EdthuIsug/DOIMPFTH5z8nf6VXrufvP0eMKmfnHO0/57O/FoI77D8nE1jnJYb0P+VYYeMXW/M/O5OcttKo6T+8F94LbyXoP/7wTJtXdu0//PuHL2Cs7j+wPcYLg/vnP9EPeQ6DN+o/rmVwCQrl9D9sVW5EKFzoPy3f0tT+p/E/QX4BgtEo6z/jf1fuo0nnP5rXRr6UDe0/o5u5EZ9m9T/Hya/YcCvpP4DJ7lyD2/Q/HqBaSvJ65z8AZzGp6tbqP281WKEWPPo/IRLc6ruy8j8l3eQHbgXxPx/YtEG6MOc/YWh8d6Rt7j/ug/lA29/tP5CCKEseTPU//N9euNKm8z/DJCnKaLvmP/bSQnuqzu4/4CXVrCvQ+D/uJcrZkhXxP5utroqo2eI/+h5nYfo45z/N95i+pzzuP9+Td9TBweQ/ee5JSbpk7z8sc1zqjYvlP2RXOPI71/A/Md0rXazN5j+N7QldKO/ZPzgcXNL9RPM/ZTdWeJAi8D8+HHplj9jpP9gQ12pmE+A/EEvGGVPf7z8jTgOTPVTsPw==",
          "dtype": "f8"
         },
         "yaxis": "y4"
        }
       ],
       "layout": {
        "annotations": [
         {
          "font": {
           "size": 16
          },
          "showarrow": false,
          "text": "1-Month Returns",
          "x": 0.225,
          "xanchor": "center",
          "xref": "paper",
          "y": 1,
          "yanchor": "bottom",
          "yref": "paper"
         },
         {
          "font": {
           "size": 16
          },
          "showarrow": false,
          "text": "3-Month Returns",
          "x": 0.775,
          "xanchor": "center",
          "xref": "paper",
          "y": 1,
          "yanchor": "bottom",
          "yref": "paper"
         },
         {
          "font": {
           "size": 16
          },
          "showarrow": false,
          "text": "6-Month Returns",
          "x": 0.225,
          "xanchor": "center",
          "xref": "paper",
          "y": 0.375,
          "yanchor": "bottom",
          "yref": "paper"
         },
         {
          "font": {
           "size": 16
          },
          "showarrow": false,
          "text": "12-Month Returns",
          "x": 0.775,
          "xanchor": "center",
          "xref": "paper",
          "y": 0.375,
          "yanchor": "bottom",
          "yref": "paper"
         }
        ],
        "height": 800,
        "showlegend": false,
        "template": {
         "data": {
          "bar": [
           {
            "error_x": {
             "color": "#2a3f5f"
            },
            "error_y": {
             "color": "#2a3f5f"
            },
            "marker": {
             "line": {
              "color": "#E5ECF6",
              "width": 0.5
             },
             "pattern": {
              "fillmode": "overlay",
              "size": 10,
              "solidity": 0.2
             }
            },
            "type": "bar"
           }
          ],
          "barpolar": [
           {
            "marker": {
             "line": {
              "color": "#E5ECF6",
              "width": 0.5
             },
             "pattern": {
              "fillmode": "overlay",
              "size": 10,
              "solidity": 0.2
             }
            },
            "type": "barpolar"
           }
          ],
          "carpet": [
           {
            "aaxis": {
             "endlinecolor": "#2a3f5f",
             "gridcolor": "white",
             "linecolor": "white",
             "minorgridcolor": "white",
             "startlinecolor": "#2a3f5f"
            },
            "baxis": {
             "endlinecolor": "#2a3f5f",
             "gridcolor": "white",
             "linecolor": "white",
             "minorgridcolor": "white",
             "startlinecolor": "#2a3f5f"
            },
            "type": "carpet"
           }
          ],
          "choropleth": [
           {
            "colorbar": {
             "outlinewidth": 0,
             "ticks": ""
            },
            "type": "choropleth"
           }
          ],
          "contour": [
           {
            "colorbar": {
             "outlinewidth": 0,
             "ticks": ""
            },
            "colorscale": [
             [
              0,
              "#0d0887"
             ],
             [
              0.1111111111111111,
              "#46039f"
             ],
             [
              0.2222222222222222,
              "#7201a8"
             ],
             [
              0.3333333333333333,
              "#9c179e"
             ],
             [
              0.4444444444444444,
              "#bd3786"
             ],
             [
              0.5555555555555556,
              "#d8576b"
             ],
             [
              0.6666666666666666,
              "#ed7953"
             ],
             [
              0.7777777777777778,
              "#fb9f3a"
             ],
             [
              0.8888888888888888,
              "#fdca26"
             ],
             [
              1,
              "#f0f921"
             ]
            ],
            "type": "contour"
           }
          ],
          "contourcarpet": [
           {
            "colorbar": {
             "outlinewidth": 0,
             "ticks": ""
            },
            "type": "contourcarpet"
           }
          ],
          "heatmap": [
           {
            "colorbar": {
             "outlinewidth": 0,
             "ticks": ""
            },
            "colorscale": [
             [
              0,
              "#0d0887"
             ],
             [
              0.1111111111111111,
              "#46039f"
             ],
             [
              0.2222222222222222,
              "#7201a8"
             ],
             [
              0.3333333333333333,
              "#9c179e"
             ],
             [
              0.4444444444444444,
              "#bd3786"
             ],
             [
              0.5555555555555556,
              "#d8576b"
             ],
             [
              0.6666666666666666,
              "#ed7953"
             ],
             [
              0.7777777777777778,
              "#fb9f3a"
             ],
             [
              0.8888888888888888,
              "#fdca26"
             ],
             [
              1,
              "#f0f921"
             ]
            ],
            "type": "heatmap"
           }
          ],
          "histogram": [
           {
            "marker": {
             "pattern": {
              "fillmode": "overlay",
              "size": 10,
              "solidity": 0.2
             }
            },
            "type": "histogram"
           }
          ],
          "histogram2d": [
           {
            "colorbar": {
             "outlinewidth": 0,
             "ticks": ""
            },
            "colorscale": [
             [
              0,
              "#0d0887"
             ],
             [
              0.1111111111111111,
              "#46039f"
             ],
             [
              0.2222222222222222,
              "#7201a8"
             ],
             [
              0.3333333333333333,
              "#9c179e"
             ],
             [
              0.4444444444444444,
              "#bd3786"
             ],
             [
              0.5555555555555556,
              "#d8576b"
             ],
             [
              0.6666666666666666,
              "#ed7953"
             ],
             [
              0.7777777777777778,
              "#fb9f3a"
             ],
             [
              0.8888888888888888,
              "#fdca26"
             ],
             [
              1,
              "#f0f921"
             ]
            ],
            "type": "histogram2d"
           }
          ],
          "histogram2dcontour": [
           {
            "colorbar": {
             "outlinewidth": 0,
             "ticks": ""
            },
            "colorscale": [
             [
              0,
              "#0d0887"
             ],
             [
              0.1111111111111111,
              "#46039f"
             ],
             [
              0.2222222222222222,
              "#7201a8"
             ],
             [
              0.3333333333333333,
              "#9c179e"
             ],
             [
              0.4444444444444444,
              "#bd3786"
             ],
             [
              0.5555555555555556,
              "#d8576b"
             ],
             [
              0.6666666666666666,
              "#ed7953"
             ],
             [
              0.7777777777777778,
              "#fb9f3a"
             ],
             [
              0.8888888888888888,
              "#fdca26"
             ],
             [
              1,
              "#f0f921"
             ]
            ],
            "type": "histogram2dcontour"
           }
          ],
          "mesh3d": [
           {
            "colorbar": {
             "outlinewidth": 0,
             "ticks": ""
            },
            "type": "mesh3d"
           }
          ],
          "parcoords": [
           {
            "line": {
             "colorbar": {
              "outlinewidth": 0,
              "ticks": ""
             }
            },
            "type": "parcoords"
           }
          ],
          "pie": [
           {
            "automargin": true,
            "type": "pie"
           }
          ],
          "scatter": [
           {
            "fillpattern": {
             "fillmode": "overlay",
             "size": 10,
             "solidity": 0.2
            },
            "type": "scatter"
           }
          ],
          "scatter3d": [
           {
            "line": {
             "colorbar": {
              "outlinewidth": 0,
              "ticks": ""
             }
            },
            "marker": {
             "colorbar": {
              "outlinewidth": 0,
              "ticks": ""
             }
            },
            "type": "scatter3d"
           }
          ],
          "scattercarpet": [
           {
            "marker": {
             "colorbar": {
              "outlinewidth": 0,
              "ticks": ""
             }
            },
            "type": "scattercarpet"
           }
          ],
          "scattergeo": [
           {
            "marker": {
             "colorbar": {
              "outlinewidth": 0,
              "ticks": ""
             }
            },
            "type": "scattergeo"
           }
          ],
          "scattergl": [
           {
            "marker": {
             "colorbar": {
              "outlinewidth": 0,
              "ticks": ""
             }
            },
            "type": "scattergl"
           }
          ],
          "scattermap": [
           {
            "marker": {
             "colorbar": {
              "outlinewidth": 0,
              "ticks": ""
             }
            },
            "type": "scattermap"
           }
          ],
          "scattermapbox": [
           {
            "marker": {
             "colorbar": {
              "outlinewidth": 0,
              "ticks": ""
             }
            },
            "type": "scattermapbox"
           }
          ],
          "scatterpolar": [
           {
            "marker": {
             "colorbar": {
              "outlinewidth": 0,
              "ticks": ""
             }
            },
            "type": "scatterpolar"
           }
          ],
          "scatterpolargl": [
           {
            "marker": {
             "colorbar": {
              "outlinewidth": 0,
              "ticks": ""
             }
            },
            "type": "scatterpolargl"
           }
          ],
          "scatterternary": [
           {
            "marker": {
             "colorbar": {
              "outlinewidth": 0,
              "ticks": ""
             }
            },
            "type": "scatterternary"
           }
          ],
          "surface": [
           {
            "colorbar": {
             "outlinewidth": 0,
             "ticks": ""
            },
            "colorscale": [
             [
              0,
              "#0d0887"
             ],
             [
              0.1111111111111111,
              "#46039f"
             ],
             [
              0.2222222222222222,
              "#7201a8"
             ],
             [
              0.3333333333333333,
              "#9c179e"
             ],
             [
              0.4444444444444444,
              "#bd3786"
             ],
             [
              0.5555555555555556,
              "#d8576b"
             ],
             [
              0.6666666666666666,
              "#ed7953"
             ],
             [
              0.7777777777777778,
              "#fb9f3a"
             ],
             [
              0.8888888888888888,
              "#fdca26"
             ],
             [
              1,
              "#f0f921"
             ]
            ],
            "type": "surface"
           }
          ],
          "table": [
           {
            "cells": {
             "fill": {
              "color": "#EBF0F8"
             },
             "line": {
              "color": "white"
             }
            },
            "header": {
             "fill": {
              "color": "#C8D4E3"
             },
             "line": {
              "color": "white"
             }
            },
            "type": "table"
           }
          ]
         },
         "layout": {
          "annotationdefaults": {
           "arrowcolor": "#2a3f5f",
           "arrowhead": 0,
           "arrowwidth": 1
          },
          "autotypenumbers": "strict",
          "coloraxis": {
           "colorbar": {
            "outlinewidth": 0,
            "ticks": ""
           }
          },
          "colorscale": {
           "diverging": [
            [
             0,
             "#8e0152"
            ],
            [
             0.1,
             "#c51b7d"
            ],
            [
             0.2,
             "#de77ae"
            ],
            [
             0.3,
             "#f1b6da"
            ],
            [
             0.4,
             "#fde0ef"
            ],
            [
             0.5,
             "#f7f7f7"
            ],
            [
             0.6,
             "#e6f5d0"
            ],
            [
             0.7,
             "#b8e186"
            ],
            [
             0.8,
             "#7fbc41"
            ],
            [
             0.9,
             "#4d9221"
            ],
            [
             1,
             "#276419"
            ]
           ],
           "sequential": [
            [
             0,
             "#0d0887"
            ],
            [
             0.1111111111111111,
             "#46039f"
            ],
            [
             0.2222222222222222,
             "#7201a8"
            ],
            [
             0.3333333333333333,
             "#9c179e"
            ],
            [
             0.4444444444444444,
             "#bd3786"
            ],
            [
             0.5555555555555556,
             "#d8576b"
            ],
            [
             0.6666666666666666,
             "#ed7953"
            ],
            [
             0.7777777777777778,
             "#fb9f3a"
            ],
            [
             0.8888888888888888,
             "#fdca26"
            ],
            [
             1,
             "#f0f921"
            ]
           ],
           "sequentialminus": [
            [
             0,
             "#0d0887"
            ],
            [
             0.1111111111111111,
             "#46039f"
            ],
            [
             0.2222222222222222,
             "#7201a8"
            ],
            [
             0.3333333333333333,
             "#9c179e"
            ],
            [
             0.4444444444444444,
             "#bd3786"
            ],
            [
             0.5555555555555556,
             "#d8576b"
            ],
            [
             0.6666666666666666,
             "#ed7953"
            ],
            [
             0.7777777777777778,
             "#fb9f3a"
            ],
            [
             0.8888888888888888,
             "#fdca26"
            ],
            [
             1,
             "#f0f921"
            ]
           ]
          },
          "colorway": [
           "#636efa",
           "#EF553B",
           "#00cc96",
           "#ab63fa",
           "#FFA15A",
           "#19d3f3",
           "#FF6692",
           "#B6E880",
           "#FF97FF",
           "#FECB52"
          ],
          "font": {
           "color": "#2a3f5f"
          },
          "geo": {
           "bgcolor": "white",
           "lakecolor": "white",
           "landcolor": "#E5ECF6",
           "showlakes": true,
           "showland": true,
           "subunitcolor": "white"
          },
          "hoverlabel": {
           "align": "left"
          },
          "hovermode": "closest",
          "mapbox": {
           "style": "light"
          },
          "paper_bgcolor": "white",
          "plot_bgcolor": "#E5ECF6",
          "polar": {
           "angularaxis": {
            "gridcolor": "white",
            "linecolor": "white",
            "ticks": ""
           },
           "bgcolor": "#E5ECF6",
           "radialaxis": {
            "gridcolor": "white",
            "linecolor": "white",
            "ticks": ""
           }
          },
          "scene": {
           "xaxis": {
            "backgroundcolor": "#E5ECF6",
            "gridcolor": "white",
            "gridwidth": 2,
            "linecolor": "white",
            "showbackground": true,
            "ticks": "",
            "zerolinecolor": "white"
           },
           "yaxis": {
            "backgroundcolor": "#E5ECF6",
            "gridcolor": "white",
            "gridwidth": 2,
            "linecolor": "white",
            "showbackground": true,
            "ticks": "",
            "zerolinecolor": "white"
           },
           "zaxis": {
            "backgroundcolor": "#E5ECF6",
            "gridcolor": "white",
            "gridwidth": 2,
            "linecolor": "white",
            "showbackground": true,
            "ticks": "",
            "zerolinecolor": "white"
           }
          },
          "shapedefaults": {
           "line": {
            "color": "#2a3f5f"
           }
          },
          "ternary": {
           "aaxis": {
            "gridcolor": "white",
            "linecolor": "white",
            "ticks": ""
           },
           "baxis": {
            "gridcolor": "white",
            "linecolor": "white",
            "ticks": ""
           },
           "bgcolor": "#E5ECF6",
           "caxis": {
            "gridcolor": "white",
            "linecolor": "white",
            "ticks": ""
           }
          },
          "title": {
           "x": 0.05
          },
          "xaxis": {
           "automargin": true,
           "gridcolor": "white",
           "linecolor": "white",
           "ticks": "",
           "title": {
            "standoff": 15
           },
           "zerolinecolor": "white",
           "zerolinewidth": 2
          },
          "yaxis": {
           "automargin": true,
           "gridcolor": "white",
           "linecolor": "white",
           "ticks": "",
           "title": {
            "standoff": 15
           },
           "zerolinecolor": "white",
           "zerolinewidth": 2
          }
         }
        },
        "title": {
         "text": "Return Distributions by ESG Group"
        },
        "width": 1000,
        "xaxis": {
         "anchor": "y",
         "domain": [
          0,
          0.45
         ]
        },
        "xaxis2": {
         "anchor": "y2",
         "domain": [
          0.55,
          1
         ]
        },
        "xaxis3": {
         "anchor": "y3",
         "domain": [
          0,
          0.45
         ]
        },
        "xaxis4": {
         "anchor": "y4",
         "domain": [
          0.55,
          1
         ]
        },
        "yaxis": {
         "anchor": "x",
         "domain": [
          0.625,
          1
         ]
        },
        "yaxis2": {
         "anchor": "x2",
         "domain": [
          0.625,
          1
         ]
        },
        "yaxis3": {
         "anchor": "x3",
         "domain": [
          0,
          0.375
         ]
        },
        "yaxis4": {
         "anchor": "x4",
         "domain": [
          0,
          0.375
         ]
        }
       }
      }
     },
     "metadata": {},
     "output_type": "display_data"
    }
   ],
   "source": [
    "# Create subplots\n",
    "fig = make_subplots(rows=2, cols=2, \n",
    "                   subplot_titles=('1-Month Returns', '3-Month Returns', \n",
    "                                 '6-Month Returns', '12-Month Returns'))\n",
    "\n",
    "# Add box plots for each time period\n",
    "time_periods = ['1M_Return', '3M_Return', '6M_Return', '12M_Return']\n",
    "positions = [(1,1), (1,2), (2,1), (2,2)]\n",
    "\n",
    "for period, pos in zip(time_periods, positions):\n",
    "    fig.add_trace(\n",
    "        go.Box(\n",
    "            y=df[period],\n",
    "            x=df['ESG_Group'],\n",
    "            name=period,\n",
    "            boxpoints='all',\n",
    "            jitter=0.3,\n",
    "            pointpos=-1.8\n",
    "        ),\n",
    "        row=pos[0], col=pos[1]\n",
    "    )\n",
    "\n",
    "fig.update_layout(\n",
    "    height=800,\n",
    "    width=1000,\n",
    "    title_text='Return Distributions by ESG Group',\n",
    "    showlegend=False\n",
    ")\n",
    "fig.show()"
   ]
  },
  {
   "cell_type": "markdown",
   "metadata": {},
   "source": [
    "## 3. Risk-Adjusted Returns Analysis"
   ]
  },
  {
   "cell_type": "code",
   "execution_count": 5,
   "metadata": {},
   "outputs": [
    {
     "name": "stderr",
     "output_type": "stream",
     "text": [
      "/var/folders/wr/t_bxfzcj2833m59mtbb50m_w0000gn/T/ipykernel_75723/3005397136.py:5: FutureWarning:\n",
      "\n",
      "The default of observed=False is deprecated and will be changed to True in a future version of pandas. Pass observed=False to retain current behavior or observed=True to adopt the future default and silence this warning.\n",
      "\n"
     ]
    },
    {
     "data": {
      "text/plain": [
       "<Figure size 1200x600 with 0 Axes>"
      ]
     },
     "metadata": {},
     "output_type": "display_data"
    },
    {
     "data": {
      "image/png": "[encoded data removed]",
      "text/plain": [
       "<Figure size 640x480 with 1 Axes>"
      ]
     },
     "metadata": {},
     "output_type": "display_data"
    }
   ],
   "source": [
    "# Calculate Sharpe ratios (assuming risk-free rate of 0 for simplicity)\n",
    "def calculate_sharpe(returns, periods=12):\n",
    "    return np.sqrt(periods) * ((returns - 1).mean() / (returns - 1).std())\n",
    "\n",
    "sharpe_ratios = df.groupby('ESG_Group').agg({\n",
    "    '1M_Return': lambda x: calculate_sharpe(x, 12),\n",
    "    '3M_Return': lambda x: calculate_sharpe(x, 4),\n",
    "    '6M_Return': lambda x: calculate_sharpe(x, 2),\n",
    "    '12M_Return': lambda x: calculate_sharpe(x, 1)\n",
    "})\n",
    "\n",
    "# Plot Sharpe ratios\n",
    "plt.figure(figsize=(12, 6))\n",
    "sharpe_ratios.T.plot(kind='bar')\n",
    "plt.title('Sharpe Ratios by ESG Group and Time Horizon')\n",
    "plt.ylabel('Sharpe Ratio')\n",
    "plt.xticks(rotation=45)\n",
    "plt.legend(title='ESG Group')\n",
    "plt.tight_layout()\n",
    "plt.show()"
   ]
  },
  {
   "cell_type": "markdown",
   "metadata": {},
   "source": [
    "## 4. Sector Composition Analysis"
   ]
  },
  {
   "cell_type": "code",
   "execution_count": 6,
   "metadata": {},
   "outputs": [
    {
     "data": {
      "image/png": "[encoded data removed]",
      "text/plain": [
       "<Figure size 1200x800 with 2 Axes>"
      ]
     },
     "metadata": {},
     "output_type": "display_data"
    }
   ],
   "source": [
    "# Calculate sector composition\n",
    "sector_composition = pd.crosstab(df['ESG_Group'], df['GIS Sector'], normalize='index') * 100\n",
    "\n",
    "# Create heatmap\n",
    "plt.figure(figsize=(12, 8))\n",
    "sns.heatmap(sector_composition, annot=True, fmt='.1f', cmap='YlGnBu')\n",
    "plt.title('Sector Composition by ESG Group (%)')\n",
    "plt.xlabel('Sector')\n",
    "plt.ylabel('ESG Group')\n",
    "plt.tight_layout()\n",
    "plt.show()"
   ]
  },
  {
   "cell_type": "markdown",
   "metadata": {},
   "source": [
    "## 5. ESG Score Distribution and Performance"
   ]
  },
  {
   "cell_type": "code",
   "execution_count": 7,
   "metadata": {},
   "outputs": [
    {
     "data": {
      "application/vnd.plotly.v1+json": {
       "config": {
        "plotlyServerURL": "https://plot.ly"
       },
       "data": [
        {
         "hovertemplate": "ESG_Group=Low ESG<br>ESG Score=%{x}<br>12-Month Return=%{y}<extra></extra>",
         "legendgroup": "Low ESG",
         "marker": {
          "color": "#636efa",
          "symbol": "circle"
         },
         "mode": "markers",
         "name": "Low ESG",
         "orientation": "v",
         "showlegend": true,
         "type": "scatter",
         "x": {
          "bdata": "PQrXo3C9K0CuR+F6FK4wQEjhehSuRytASOF6FK7HL0AAAAAAAEAwQLgehetROC9ASOF6FK7HK0DsUbgehWsnQI/C9ShcjydAw/UoXI/CLECF61G4HgUpQM3MzMzMzCVAZmZmZmZmLkAfhetRuJ4pQDMzMzMzMyRApHA9CtejLUDD9Shcj8IwQFyPwvUo3CZAH4XrUbgeLkDXo3A9CtcrQK5H4XoUriNAuB6F61F4MUB7FK5H4XopQFK4HoXrETBAFK5H4XqUKkD2KFyPwvUrQFyPwvUo3DBASOF6FK5HKUDhehSuR2ElQJqZmZmZ2TBACtejcD2KJECkcD0K16MvQClcj8L1aDBA16NwPQrXMEAAAAAAAAAwQEjhehSuRzBAmpmZmZkZMEAzMzMzM7MqQKRwPQrXoy1Aw/UoXI8CMUB7FK5H4bowQK5H4XoULipAmpmZmZkZKEDXo3A9CtcsQFyPwvUo3CxAmpmZmZmZLUCkcD0K16MrQEjhehSuRzFAUrgehetRK0BxPQrXo/AuQIXrUbgehShAUrgehetRHEBcj8L1KNwuQM3MzMzMzCVAUrgehetRLUBmZmZmZqYwQMP1KFyPwi1APQrXo3A9LUCuR+F6FC4pQA==",
          "dtype": "f8"
         },
         "xaxis": "x",
         "y": {
          "bdata": "JHsGotI+6j9uti4x2f7vP51CZwHq0u8/Q6R+x/Q46T+yySabTFHqPxuEWh0OovI/XJ4VeuNr5j9FzPSQYYnsP/L8rWDcxug/pJhrDmrG8D++OqzPoZriP4ql2PiaI+k/brWSD2oZ6D/LT2K8JjXsP8SjdvXWL+c/iYeHh0OL7j9TDToPEJLnPwBi2p8Xy+M/OE9828xs5z8nROse1dflPydzBciDkeg/ZS6nIZk26T8t6TknW4vmP9TgebnvjOo/TCU6jGuF7z/j6w2Fkn7oP9YYmTN0ZPA/l3Hgyfzw6D8WVRbJQQnxPxMJFuxyBvA/8YMHaWpz5z9Q6VoNO0HnPyRYAGKgUOA/VmFMiA4r6D+xtmklRkLyP6fdO8+yPfE/QL9duMZI7T9qJQalWUbxP/Mni62UR+0/yQ19TVNz6T+oax/z6BjvPwziDDxUx+c/5Vhh4xdb8z/+8EybV3btP9EPeQ6DN+o/bFVuRChc6D8t39LU/qfxPx6gWkryeuc/kIIoSx5M9T/20kJ7qs7uP+4lytmSFfE/m62uiqjZ4j/6Hmdh+jjnP833mL6nPO4/Md0rXazN5j9lN1Z4kCLwP9gQ12pmE+A/EEvGGVPf7z8jTgOTPVTsPw==",
          "dtype": "f8"
         },
         "yaxis": "y"
        },
        {
         "hovertemplate": "<b>OLS trendline</b><br>12M_Return = 0.0095501 * totalEsg + 0.72586<br>R<sup>2</sup>=0.015092<br><br>ESG_Group=Low ESG<br>ESG Score=%{x}<br>12-Month Return=%{y} <b>(trend)</b><extra></extra>",
         "legendgroup": "Low ESG",
         "marker": {
          "color": "#636efa",
          "symbol": "circle"
         },
         "mode": "lines",
         "name": "Low ESG",
         "showlegend": false,
         "type": "scatter",
         "x": {
          "bdata": "UrgehetRHECuR+F6FK4jQDMzMzMzMyRACtejcD2KJEDhehSuR2ElQM3MzMzMzCVAzczMzMzMJUBcj8L1KNwmQOxRuB6FaydAj8L1KFyPJ0CamZmZmRkoQIXrUbgehShAhetRuB4FKUCuR+F6FC4pQEjhehSuRylAexSuR+F6KUAfhetRuJ4pQK5H4XoULipAFK5H4XqUKkAzMzMzM7MqQEjhehSuRytAUrgehetRK0CkcD0K16MrQD0K16NwvStASOF6FK7HK0DXo3A9CtcrQPYoXI/C9StAw/UoXI/CLEDXo3A9CtcsQFyPwvUo3CxAPQrXo3A9LUBSuB6F61EtQJqZmZmZmS1ApHA9CtejLUCkcD0K16MtQMP1KFyPwi1AH4XrUbgeLkBmZmZmZmYuQFyPwvUo3C5AcT0K16PwLkC4HoXrUTgvQKRwPQrXoy9ASOF6FK7HL0AAAAAAAAAwQFK4HoXrETBAmpmZmZkZMEAAAAAAAEAwQEjhehSuRzBAKVyPwvVoMEBmZmZmZqYwQK5H4XoUrjBAexSuR+G6MEDD9Shcj8IwQNejcD0K1zBAmpmZmZnZMEBcj8L1KNwwQMP1KFyPAjFASOF6FK5HMUC4HoXrUXgxQA==",
          "dtype": "f8"
         },
         "xaxis": "x",
         "y": {
          "bdata": "V6vAcCVk6T9yb5S/EjzqP4fg7gdqUOo/ZO/uyrZd6j/BuZSOkn7qP/CeZ3AAj+o/8J5ncACP6j+uNtFId7jqP+0SlSBfzuo//AmGFtnT6j+mMJWm+OjqP9QVaIhm+eo/VdENifUM6z/5fbPGNxPrP+AJOy0hF+s/rSFK+vMe6z+8GDvwbSTrP/r0/sdVOus/lCQdYvtJ6z8PZlkQrU7rP+L30S9dZes/C2M7v+1m6z9TvIY6cnPrPzpIDqFbd+s/Y7N3MOx46z8g1JUHRXvrP5sV0rX2f+s/z3QO6kGf6z8hS+EIY6LrP7YAllAro+s/u3r/ogiy6z8OUdLBKbXrPyw/tK0dwOs/VqodPa7B6z9Wqh09rsHrP9DrWetfxus/QrAO9nTU6z9gnvDhaN/rP7juLFNn8es/CsX/cYj06z8ps+FdfP/rP1iYtD/qD+w/aI+lNWQV7D/JXGlK/x3sP9hTWkB5I+w/lnR4F9Il7D9KGA9LjjHsPwc5LSLnM+w/knFaxhI+7D9+d0t/2VDsPzuYaVYyU+w/IiTxvBtX7D/gRA+UdFnsP4PxtNG2X+w/GKdpGX9g7D+sXB5hR2HsP2AAtZQDbew/CifEJCOC7D8PoS13AJHsPw==",
          "dtype": "f8"
         },
         "yaxis": "y"
        },
        {
         "hovertemplate": "ESG_Group=Medium ESG<br>ESG Score=%{x}<br>12-Month Return=%{y}<extra></extra>",
         "legendgroup": "Medium ESG",
         "marker": {
          "color": "#EF553B",
          "symbol": "circle"
         },
         "mode": "markers",
         "name": "Medium ESG",
         "orientation": "v",
         "showlegend": true,
         "type": "scatter",
         "x": {
          "bdata": "UrgehesRNUC4HoXrUfg2QClcj8L1KDVAuB6F61F4NkA9CtejcL0zQFyPwvUoXDVAH4XrUbjeNEDsUbgehes2QIXrUbgeBTZASOF6FK7HNUBcj8L1KNwzQJqZmZmZmTFAH4XrUbieMkCF61G4HkU3QBSuR+F6FDJAzczMzMxMNUBSuB6F65EyQClcj8L1qDRAH4XrUbieNUA9CtejcD02QFK4HoXrUTNAcT0K16NwNEApXI/C9agyQNejcD0KlzFASOF6FK5HN0AAAAAAAIA2QIXrUbgeRTRASOF6FK7HM0DNzMzMzEwyQOxRuB6FqzFAexSuR+F6MUCuR+F6FG41QOF6FK5HITJAzczMzMxMM0Bcj8L1KBw3QOF6FK5HoTVA9ihcj8I1NUCkcD0K1+MzQFK4HoXrETVACtejcD3KNkD2KFyPwrU0QJqZmZmZGTRAexSuR+G6MkD2KFyPwvU1QHE9CtejsDZAcT0K16OwNEDhehSuRyE1QOxRuB6FazVAAAAAAACAN0Bcj8L1KNwzQNejcD0K1zVAKVyPwvXoM0BSuB6F69E1QI/C9ShcjzZASOF6FK5HNEApXI/C9Sg3QKRwPQrXozJAFK5H4XpUNEA=",
          "dtype": "f8"
         },
         "xaxis": "x",
         "y": {
          "bdata": "uFPfThg36T8wrLsCxQL0P4rDVyWkJvI/VukFjDBo8j9nnw7tOVXpPyQeJtl2Ue4/NTweF7Yy6T8Oo5AQk3/tP1ZkL79qPvE/8HxzH2eC6j/mlsvZjq7kP9/0Tg+Dv+Q/+3B8rv3D7j9QpFBMfGnuP4Eu5KMF0O8/E91fFamn6T/CHTiundLjP/u4h3m7oOw/yhxdtKR37D9jQsriNa7zP0vcYHwSWO0/Hfa8/IlD7T8XalgMiC3mP2D86iFcqvE/yISTJ3q07z+l73Ilh7DsP+nHs2uUU/E/u+dIBl2E6D/EzBq0ShvpP4XFVxuwp+c/vlWa4jes5T+kmrvPeSDwP/NrGxs7/Ow//v7vJlaR8T9VTRZ3Iy7yP5rOeB7fIOw/YkqTzXG07T9gGIxYqKzxPyd/pVeu5+8/O5OcttKo6T+8F94LbyXoP/z7hy9grO4/sD3GC4P75z+uZXAJCuX0P+N/V+6jSec/mtdGvpQN7T+jm7kRn2b1P8fJr9hwK+k/gMnuXIPb9D8AZzGp6tbqP2FofHekbe4/7oP5QNvf7T/831640qbzP8MkKcpou+Y/4CXVrCvQ+D8sc1zqjYvlP2RXOPI71/A/OBxc0v1E8z8=",
          "dtype": "f8"
         },
         "yaxis": "y"
        },
        {
         "hovertemplate": "<b>OLS trendline</b><br>12M_Return = 0.0331033 * totalEsg + 0.257666<br>R<sup>2</sup>=0.077889<br><br>ESG_Group=Medium ESG<br>ESG Score=%{x}<br>12-Month Return=%{y} <b>(trend)</b><extra></extra>",
         "legendgroup": "Medium ESG",
         "marker": {
          "color": "#EF553B",
          "symbol": "circle"
         },
         "mode": "lines",
         "name": "Medium ESG",
         "showlegend": false,
         "type": "scatter",
         "x": {
          "bdata": "exSuR+F6MUDXo3A9CpcxQJqZmZmZmTFA7FG4HoWrMUAUrkfhehQyQOF6FK5HITJAzczMzMxMMkBSuB6F65EyQB+F61G4njJApHA9CtejMkApXI/C9agyQHsUrkfhujJAzczMzMxMM0BSuB6F61EzQD0K16NwvTNASOF6FK7HM0Bcj8L1KNwzQFyPwvUo3DNApHA9CtfjM0ApXI/C9egzQJqZmZmZGTRAhetRuB5FNEBI4XoUrkc0QBSuR+F6VDRAcT0K16NwNEApXI/C9ag0QHE9CtejsDRA9ihcj8K1NEAfhetRuN40QFK4HoXrETVAUrgehesRNUDhehSuRyE1QClcj8L1KDVA9ihcj8I1NUDNzMzMzEw1QFyPwvUoXDVA7FG4HoVrNUCuR+F6FG41QB+F61G4njVA4XoUrkehNUBI4XoUrsc1QFK4HoXr0TVA16NwPQrXNUD2KFyPwvU1QIXrUbgeBTZAPQrXo3A9NkC4HoXrUXg2QAAAAAAAgDZAj8L1KFyPNkBxPQrXo7A2QArXo3A9yjZA7FG4HoXrNkC4HoXrUfg2QFyPwvUoHDdAKVyPwvUoN0CF61G4HkU3QEjhehSuRzdAAAAAAACAN0A=",
          "dtype": "f8"
         },
         "xaxis": "x",
         "y": {
          "bdata": "QzP4zBHD6j/jSgVM5uDqP2fBHYac4+o//P7IHJj26j/0+bNqx2XrP4NKLo1Wc+s/NSnOaHCh6z8FqWKJqOrrP5T53Ks3+Os/muYNIKT96z+f0z6UEAPsPzQR6ioMFuw/XXRcGp+w7D9iYY2OC7bsP97SkBbxJ+0/6qzy/sky7T8BYbbPe0jtPwFhts97SO0/i8T/fZ5Q7T+QsTDyClbtP0l9AUKRie0/+1uhHau37T9+0rlXYbrtPwwjNHrwx+0/rTpB+cTl7T/uaVv3bSHuP3fNpKWQKe4/fbrVGf0u7j+sIl27YFruP+dkRkWdkO4/52RGRZ2Q7j/4K9mh4qDuP4KPIlAFqe4/EeCccpS27j+rCnl9/M7uP7zRC9pB3+4/z5ieNofv7j9RD7dwPfLuPwrbh8DDJe8/jFGg+nko7z85Qw9iJ1HvP0QdcUoAXO8/Sgqivmxh7z9umMd394HvP39fWtQ8ku8/wI500uXN7z9CmlOFIgbwPwZMeNwzCvA/j6/BilYS8D/jsWAE9yPwP3EC2yaGMfA/xQR6oCZD8D8MLbcx7knwP6BqYsjpXPA/6JKfWbFj8D+4HiaZm3LwP/pZMrb2c/A/mnE/NcuR8D8=",
          "dtype": "f8"
         },
         "yaxis": "y"
        },
        {
         "hovertemplate": "ESG_Group=High ESG<br>ESG Score=%{x}<br>12-Month Return=%{y}<extra></extra>",
         "legendgroup": "High ESG",
         "marker": {
          "color": "#00cc96",
          "symbol": "circle"
         },
         "mode": "markers",
         "name": "High ESG",
         "orientation": "v",
         "showlegend": true,
         "type": "scatter",
         "x": {
          "bdata": "UrgehevRP0ApXI/C9eg3QArXo3A9ijdACtejcD3KP0DNzMzMzEw8QPYoXI/CNTlAw/UoXI9CPECamZmZmZk3QPYoXI/C9UFAexSuR+G6PkAzMzMzM3M6QOxRuB6FqzhAPQrXo3B9PkBmZmZmZmY6QEjhehSuhztA7FG4HoWrOEBcj8L1KJw+QFK4HoXr0TdAAAAAAACAPEAUrkfhetREQMP1KFyPwkBAzczMzMwMOkCkcD0K16M7QPYoXI/CdTtAZmZmZmbmN0CamZmZmVk9QB+F61G4Hj5ArkfhehSOQEBSuB6F65E6QBSuR+F61D5AAAAAAAAAPkA9CtejcH1AQIXrUbgeBTpACtejcD3KPkCF61G4HkU5QArXo3A9SjlAexSuR+F6PEB7FK5H4Xo5QDMzMzMzczxAXI/C9SjcN0BxPQrXo3A5QMP1KFyPQj1AFK5H4XrUOEB7FK5H4Xo9QBSuR+F69EBArkfhehTOQECamZmZmVk6QFyPwvUonDlASOF6FK5HPUDXo3A9Cpc3QBSuR+F6FDhASOF6FK5nQ0AfhetRuF48QIXrUbgeBTpAcT0K16PwOUBSuB6F65E3QDMzMzMzszlAj8L1KFxPOUDhehSuR+E5QA==",
          "dtype": "f8"
         },
         "xaxis": "x",
         "y": {
          "bdata": "2lb/m9wT7D9HdhCjo83xP4LnLFrbCOs/oqgmF1499z+ADkWfWmbnP+PdRrDTouk/Q0u3op+E7j/oN5qPkRHyPzcjff6iKeg/Lt/BR+eV8j+pa5wQufXwPwmNjSRuhuk/O6wD/V9N+z+u5kd1PajoP8iJVwNkxvY/kdfcfd7z6z9NAvhQHnLgP24Ahe+wv/A/RDeTmH6M4z8NhoXrs7YAQNues72mf/Q/Evsnrr5I9D/eAY/M4zLyP5tWhFi1iPA/wf2+om977z8HpaxlMhPnP/Bmed4QuOk/VKSg8YYE+z8OT248F7LvP2UZ13oLDvM/velNb+RB8D95w8+NhT3xPx/Nt0qakvA/DL0fULfO8j9dUDjle1rnP3zVpgZ1Ju0/9gDZSbnp7z8w+zSsDGXlP7VShd3LHfI/ao+EANXk5z8dNA1OaBnmP8gw7RfMtuo/rjPVzmTi6T+BwJ+Eti3tP50ghzoUTPg/0c2RgqBo7j9BHbYbiLLoP0eMKmfnHO0/57O/FoI77D8nE1jnJYb0P0F+AYLRKOs/bzVYoRY8+j8hEtzqu7LyPyXd5AduBfE/H9i0Qbow5z/fk3fUwcHkP3nuSUm6ZO8/je0JXSjv2T8+HHplj9jpPw==",
          "dtype": "f8"
         },
         "yaxis": "y"
        },
        {
         "hovertemplate": "<b>OLS trendline</b><br>12M_Return = 0.0443246 * totalEsg + -0.243114<br>R<sup>2</sup>=0.306718<br><br>ESG_Group=High ESG<br>ESG Score=%{x}<br>12-Month Return=%{y} <b>(trend)</b><extra></extra>",
         "legendgroup": "High ESG",
         "marker": {
          "color": "#00cc96",
          "symbol": "circle"
         },
         "mode": "lines",
         "name": "High ESG",
         "showlegend": false,
         "type": "scatter",
         "x": {
          "bdata": "CtejcD2KN0BSuB6F65E3QNejcD0KlzdAmpmZmZmZN0BSuB6F69E3QFyPwvUo3DdAZmZmZmbmN0ApXI/C9eg3QBSuR+F6FDhA7FG4HoWrOEDsUbgehas4QBSuR+F61DhA9ihcj8I1OUCF61G4HkU5QArXo3A9SjlAj8L1KFxPOUBxPQrXo3A5QHsUrkfhejlAXI/C9SicOUAzMzMzM7M5QOF6FK5H4TlAcT0K16PwOUCF61G4HgU6QIXrUbgeBTpAzczMzMwMOkCamZmZmVk6QGZmZmZmZjpAMzMzMzNzOkBSuB6F65E6QPYoXI/CdTtASOF6FK6HO0CkcD0K16M7QMP1KFyPQjxAzczMzMxMPEAfhetRuF48QDMzMzMzczxAexSuR+F6PEAAAAAAAIA8QMP1KFyPQj1ASOF6FK5HPUCamZmZmVk9QHsUrkfhej1AAAAAAAAAPkAfhetRuB4+QD0K16NwfT5AXI/C9SicPkB7FK5H4bo+QArXo3A9yj5AFK5H4XrUPkAK16NwPco/QFK4HoXr0T9APQrXo3B9QECuR+F6FI5AQMP1KFyPwkBArkfhehTOQEAUrkfhevRAQPYoXI/C9UFASOF6FK5nQ0AUrkfhetREQA==",
          "dtype": "f8"
         },
         "xaxis": "x",
         "y": {
          "bdata": "IbQ83/Gb6T9X9i6I1qbpP3sie6MZruk/jTghMbux6T8VHmddnQHqP1t2/5MjEOo/oc6Xyqke6j+15D1YSyLqP+NbRcAFYOo//3GMZUE26z//cYxlQTbrPxnT7T9acOs/vxmVRlX66z8pnnmYHhDsP03KxbNhF+w/cfYRz6Qe7D9ZFYEA2U3sP6FtGTdfXOw/h4yIaJOL7D8nU19jQazsP2ngDFmd7ew/02TxqmYD7T9hFSIYcyDtP2EVIhhzIO0/l1cUwVcr7T+t7YpaRpjtPwVcyR5uqu0/X8oH45W87T8109CGKOjtP2d/jsVSK+8/4xkZpb1E7z+nDDy7rmzvP3yyuoTnJvA/oN4GoCou8D/eK8wP4DrwPySEZEZmSfA/QKXdmthO8D9Su4MoelLwP/YBKy913PA/CBjRvBbg8D9GZZYszOzwP7r0TUVmBPE/iDIsqM5i8T/0thD6l3jxPzxPkbbEu/E/qNN1CI7R8T8SWFpaV+fxP0iaTAM88vE/bMaYHn/58T/C6bytyafyP94KNgI8rfI/5grXGdZ/8z9amo4ycJfzP8heWwrg4fM/FsLGBzfy8z8iDYJUrij0PyC3NXCalfU/Lix15Eqi9z8WdWg9uKf5Pw==",
          "dtype": "f8"
         },
         "yaxis": "y"
        }
       ],
       "layout": {
        "height": 600,
        "legend": {
         "title": {
          "text": "ESG_Group"
         },
         "tracegroupgap": 0
        },
        "showlegend": true,
        "template": {
         "data": {
          "bar": [
           {
            "error_x": {
             "color": "#2a3f5f"
            },
            "error_y": {
             "color": "#2a3f5f"
            },
            "marker": {
             "line": {
              "color": "#E5ECF6",
              "width": 0.5
             },
             "pattern": {
              "fillmode": "overlay",
              "size": 10,
              "solidity": 0.2
             }
            },
            "type": "bar"
           }
          ],
          "barpolar": [
           {
            "marker": {
             "line": {
              "color": "#E5ECF6",
              "width": 0.5
             },
             "pattern": {
              "fillmode": "overlay",
              "size": 10,
              "solidity": 0.2
             }
            },
            "type": "barpolar"
           }
          ],
          "carpet": [
           {
            "aaxis": {
             "endlinecolor": "#2a3f5f",
             "gridcolor": "white",
             "linecolor": "white",
             "minorgridcolor": "white",
             "startlinecolor": "#2a3f5f"
            },
            "baxis": {
             "endlinecolor": "#2a3f5f",
             "gridcolor": "white",
             "linecolor": "white",
             "minorgridcolor": "white",
             "startlinecolor": "#2a3f5f"
            },
            "type": "carpet"
           }
          ],
          "choropleth": [
           {
            "colorbar": {
             "outlinewidth": 0,
             "ticks": ""
            },
            "type": "choropleth"
           }
          ],
          "contour": [
           {
            "colorbar": {
             "outlinewidth": 0,
             "ticks": ""
            },
            "colorscale": [
             [
              0,
              "#0d0887"
             ],
             [
              0.1111111111111111,
              "#46039f"
             ],
             [
              0.2222222222222222,
              "#7201a8"
             ],
             [
              0.3333333333333333,
              "#9c179e"
             ],
             [
              0.4444444444444444,
              "#bd3786"
             ],
             [
              0.5555555555555556,
              "#d8576b"
             ],
             [
              0.6666666666666666,
              "#ed7953"
             ],
             [
              0.7777777777777778,
              "#fb9f3a"
             ],
             [
              0.8888888888888888,
              "#fdca26"
             ],
             [
              1,
              "#f0f921"
             ]
            ],
            "type": "contour"
           }
          ],
          "contourcarpet": [
           {
            "colorbar": {
             "outlinewidth": 0,
             "ticks": ""
            },
            "type": "contourcarpet"
           }
          ],
          "heatmap": [
           {
            "colorbar": {
             "outlinewidth": 0,
             "ticks": ""
            },
            "colorscale": [
             [
              0,
              "#0d0887"
             ],
             [
              0.1111111111111111,
              "#46039f"
             ],
             [
              0.2222222222222222,
              "#7201a8"
             ],
             [
              0.3333333333333333,
              "#9c179e"
             ],
             [
              0.4444444444444444,
              "#bd3786"
             ],
             [
              0.5555555555555556,
              "#d8576b"
             ],
             [
              0.6666666666666666,
              "#ed7953"
             ],
             [
              0.7777777777777778,
              "#fb9f3a"
             ],
             [
              0.8888888888888888,
              "#fdca26"
             ],
             [
              1,
              "#f0f921"
             ]
            ],
            "type": "heatmap"
           }
          ],
          "histogram": [
           {
            "marker": {
             "pattern": {
              "fillmode": "overlay",
              "size": 10,
              "solidity": 0.2
             }
            },
            "type": "histogram"
           }
          ],
          "histogram2d": [
           {
            "colorbar": {
             "outlinewidth": 0,
             "ticks": ""
            },
            "colorscale": [
             [
              0,
              "#0d0887"
             ],
             [
              0.1111111111111111,
              "#46039f"
             ],
             [
              0.2222222222222222,
              "#7201a8"
             ],
             [
              0.3333333333333333,
              "#9c179e"
             ],
             [
              0.4444444444444444,
              "#bd3786"
             ],
             [
              0.5555555555555556,
              "#d8576b"
             ],
             [
              0.6666666666666666,
              "#ed7953"
             ],
             [
              0.7777777777777778,
              "#fb9f3a"
             ],
             [
              0.8888888888888888,
              "#fdca26"
             ],
             [
              1,
              "#f0f921"
             ]
            ],
            "type": "histogram2d"
           }
          ],
          "histogram2dcontour": [
           {
            "colorbar": {
             "outlinewidth": 0,
             "ticks": ""
            },
            "colorscale": [
             [
              0,
              "#0d0887"
             ],
             [
              0.1111111111111111,
              "#46039f"
             ],
             [
              0.2222222222222222,
              "#7201a8"
             ],
             [
              0.3333333333333333,
              "#9c179e"
             ],
             [
              0.4444444444444444,
              "#bd3786"
             ],
             [
              0.5555555555555556,
              "#d8576b"
             ],
             [
              0.6666666666666666,
              "#ed7953"
             ],
             [
              0.7777777777777778,
              "#fb9f3a"
             ],
             [
              0.8888888888888888,
              "#fdca26"
             ],
             [
              1,
              "#f0f921"
             ]
            ],
            "type": "histogram2dcontour"
           }
          ],
          "mesh3d": [
           {
            "colorbar": {
             "outlinewidth": 0,
             "ticks": ""
            },
            "type": "mesh3d"
           }
          ],
          "parcoords": [
           {
            "line": {
             "colorbar": {
              "outlinewidth": 0,
              "ticks": ""
             }
            },
            "type": "parcoords"
           }
          ],
          "pie": [
           {
            "automargin": true,
            "type": "pie"
           }
          ],
          "scatter": [
           {
            "fillpattern": {
             "fillmode": "overlay",
             "size": 10,
             "solidity": 0.2
            },
            "type": "scatter"
           }
          ],
          "scatter3d": [
           {
            "line": {
             "colorbar": {
              "outlinewidth": 0,
              "ticks": ""
             }
            },
            "marker": {
             "colorbar": {
              "outlinewidth": 0,
              "ticks": ""
             }
            },
            "type": "scatter3d"
           }
          ],
          "scattercarpet": [
           {
            "marker": {
             "colorbar": {
              "outlinewidth": 0,
              "ticks": ""
             }
            },
            "type": "scattercarpet"
           }
          ],
          "scattergeo": [
           {
            "marker": {
             "colorbar": {
              "outlinewidth": 0,
              "ticks": ""
             }
            },
            "type": "scattergeo"
           }
          ],
          "scattergl": [
           {
            "marker": {
             "colorbar": {
              "outlinewidth": 0,
              "ticks": ""
             }
            },
            "type": "scattergl"
           }
          ],
          "scattermap": [
           {
            "marker": {
             "colorbar": {
              "outlinewidth": 0,
              "ticks": ""
             }
            },
            "type": "scattermap"
           }
          ],
          "scattermapbox": [
           {
            "marker": {
             "colorbar": {
              "outlinewidth": 0,
              "ticks": ""
             }
            },
            "type": "scattermapbox"
           }
          ],
          "scatterpolar": [
           {
            "marker": {
             "colorbar": {
              "outlinewidth": 0,
              "ticks": ""
             }
            },
            "type": "scatterpolar"
           }
          ],
          "scatterpolargl": [
           {
            "marker": {
             "colorbar": {
              "outlinewidth": 0,
              "ticks": ""
             }
            },
            "type": "scatterpolargl"
           }
          ],
          "scatterternary": [
           {
            "marker": {
             "colorbar": {
              "outlinewidth": 0,
              "ticks": ""
             }
            },
            "type": "scatterternary"
           }
          ],
          "surface": [
           {
            "colorbar": {
             "outlinewidth": 0,
             "ticks": ""
            },
            "colorscale": [
             [
              0,
              "#0d0887"
             ],
             [
              0.1111111111111111,
              "#46039f"
             ],
             [
              0.2222222222222222,
              "#7201a8"
             ],
             [
              0.3333333333333333,
              "#9c179e"
             ],
             [
              0.4444444444444444,
              "#bd3786"
             ],
             [
              0.5555555555555556,
              "#d8576b"
             ],
             [
              0.6666666666666666,
              "#ed7953"
             ],
             [
              0.7777777777777778,
              "#fb9f3a"
             ],
             [
              0.8888888888888888,
              "#fdca26"
             ],
             [
              1,
              "#f0f921"
             ]
            ],
            "type": "surface"
           }
          ],
          "table": [
           {
            "cells": {
             "fill": {
              "color": "#EBF0F8"
             },
             "line": {
              "color": "white"
             }
            },
            "header": {
             "fill": {
              "color": "#C8D4E3"
             },
             "line": {
              "color": "white"
             }
            },
            "type": "table"
           }
          ]
         },
         "layout": {
          "annotationdefaults": {
           "arrowcolor": "#2a3f5f",
           "arrowhead": 0,
           "arrowwidth": 1
          },
          "autotypenumbers": "strict",
          "coloraxis": {
           "colorbar": {
            "outlinewidth": 0,
            "ticks": ""
           }
          },
          "colorscale": {
           "diverging": [
            [
             0,
             "#8e0152"
            ],
            [
             0.1,
             "#c51b7d"
            ],
            [
             0.2,
             "#de77ae"
            ],
            [
             0.3,
             "#f1b6da"
            ],
            [
             0.4,
             "#fde0ef"
            ],
            [
             0.5,
             "#f7f7f7"
            ],
            [
             0.6,
             "#e6f5d0"
            ],
            [
             0.7,
             "#b8e186"
            ],
            [
             0.8,
             "#7fbc41"
            ],
            [
             0.9,
             "#4d9221"
            ],
            [
             1,
             "#276419"
            ]
           ],
           "sequential": [
            [
             0,
             "#0d0887"
            ],
            [
             0.1111111111111111,
             "#46039f"
            ],
            [
             0.2222222222222222,
             "#7201a8"
            ],
            [
             0.3333333333333333,
             "#9c179e"
            ],
            [
             0.4444444444444444,
             "#bd3786"
            ],
            [
             0.5555555555555556,
             "#d8576b"
            ],
            [
             0.6666666666666666,
             "#ed7953"
            ],
            [
             0.7777777777777778,
             "#fb9f3a"
            ],
            [
             0.8888888888888888,
             "#fdca26"
            ],
            [
             1,
             "#f0f921"
            ]
           ],
           "sequentialminus": [
            [
             0,
             "#0d0887"
            ],
            [
             0.1111111111111111,
             "#46039f"
            ],
            [
             0.2222222222222222,
             "#7201a8"
            ],
            [
             0.3333333333333333,
             "#9c179e"
            ],
            [
             0.4444444444444444,
             "#bd3786"
            ],
            [
             0.5555555555555556,
             "#d8576b"
            ],
            [
             0.6666666666666666,
             "#ed7953"
            ],
            [
             0.7777777777777778,
             "#fb9f3a"
            ],
            [
             0.8888888888888888,
             "#fdca26"
            ],
            [
             1,
             "#f0f921"
            ]
           ]
          },
          "colorway": [
           "#636efa",
           "#EF553B",
           "#00cc96",
           "#ab63fa",
           "#FFA15A",
           "#19d3f3",
           "#FF6692",
           "#B6E880",
           "#FF97FF",
           "#FECB52"
          ],
          "font": {
           "color": "#2a3f5f"
          },
          "geo": {
           "bgcolor": "white",
           "lakecolor": "white",
           "landcolor": "#E5ECF6",
           "showlakes": true,
           "showland": true,
           "subunitcolor": "white"
          },
          "hoverlabel": {
           "align": "left"
          },
          "hovermode": "closest",
          "mapbox": {
           "style": "light"
          },
          "paper_bgcolor": "white",
          "plot_bgcolor": "#E5ECF6",
          "polar": {
           "angularaxis": {
            "gridcolor": "white",
            "linecolor": "white",
            "ticks": ""
           },
           "bgcolor": "#E5ECF6",
           "radialaxis": {
            "gridcolor": "white",
            "linecolor": "white",
            "ticks": ""
           }
          },
          "scene": {
           "xaxis": {
            "backgroundcolor": "#E5ECF6",
            "gridcolor": "white",
            "gridwidth": 2,
            "linecolor": "white",
            "showbackground": true,
            "ticks": "",
            "zerolinecolor": "white"
           },
           "yaxis": {
            "backgroundcolor": "#E5ECF6",
            "gridcolor": "white",
            "gridwidth": 2,
            "linecolor": "white",
            "showbackground": true,
            "ticks": "",
            "zerolinecolor": "white"
           },
           "zaxis": {
            "backgroundcolor": "#E5ECF6",
            "gridcolor": "white",
            "gridwidth": 2,
            "linecolor": "white",
            "showbackground": true,
            "ticks": "",
            "zerolinecolor": "white"
           }
          },
          "shapedefaults": {
           "line": {
            "color": "#2a3f5f"
           }
          },
          "ternary": {
           "aaxis": {
            "gridcolor": "white",
            "linecolor": "white",
            "ticks": ""
           },
           "baxis": {
            "gridcolor": "white",
            "linecolor": "white",
            "ticks": ""
           },
           "bgcolor": "#E5ECF6",
           "caxis": {
            "gridcolor": "white",
            "linecolor": "white",
            "ticks": ""
           }
          },
          "title": {
           "x": 0.05
          },
          "xaxis": {
           "automargin": true,
           "gridcolor": "white",
           "linecolor": "white",
           "ticks": "",
           "title": {
            "standoff": 15
           },
           "zerolinecolor": "white",
           "zerolinewidth": 2
          },
          "yaxis": {
           "automargin": true,
           "gridcolor": "white",
           "linecolor": "white",
           "ticks": "",
           "title": {
            "standoff": 15
           },
           "zerolinecolor": "white",
           "zerolinewidth": 2
          }
         }
        },
        "title": {
         "text": "ESG Score vs 12-Month Returns"
        },
        "width": 800,
        "xaxis": {
         "anchor": "y",
         "domain": [
          0,
          1
         ],
         "title": {
          "text": "ESG Score"
         }
        },
        "yaxis": {
         "anchor": "x",
         "domain": [
          0,
          1
         ],
         "title": {
          "text": "12-Month Return"
         }
        }
       }
      }
     },
     "metadata": {},
     "output_type": "display_data"
    }
   ],
   "source": [
    "# Create scatter plot with regression lines\n",
    "fig = px.scatter(df, x='totalEsg', y='12M_Return', \n",
    "                color='ESG_Group',\n",
    "                trendline='ols',\n",
    "                title='ESG Score vs 12-Month Returns',\n",
    "                labels={'totalEsg': 'ESG Score', '12M_Return': '12-Month Return'})\n",
    "\n",
    "fig.update_layout(\n",
    "    height=600,\n",
    "    width=800,\n",
    "    showlegend=True\n",
    ")\n",
    "fig.show()"
   ]
  },
  {
   "cell_type": "markdown",
   "metadata": {},
   "source": [
    "## 6. Performance During Market Conditions"
   ]
  },
  {
   "cell_type": "code",
   "execution_count": 8,
   "metadata": {},
   "outputs": [
    {
     "name": "stderr",
     "output_type": "stream",
     "text": [
      "/var/folders/wr/t_bxfzcj2833m59mtbb50m_w0000gn/T/ipykernel_75723/1699558819.py:3: FutureWarning:\n",
      "\n",
      "'M' is deprecated and will be removed in a future version, please use 'ME' instead.\n",
      "\n"
     ]
    },
    {
     "data": {
      "image/png": "[encoded data removed]",
      "text/plain": [
       "<Figure size 1200x600 with 1 Axes>"
      ]
     },
     "metadata": {},
     "output_type": "display_data"
    }
   ],
   "source": [
    "# Calculate cumulative returns for each group\n",
    "time_periods = ['1M_Return', '3M_Return', '6M_Return', '12M_Return']\n",
    "dates = pd.date_range(end=pd.Timestamp.now(), periods=len(time_periods), freq='M')\n",
    "\n",
    "plt.figure(figsize=(12, 6))\n",
    "for group in df['ESG_Group'].unique():\n",
    "    group_data = df[df['ESG_Group'] == group]\n",
    "    cumulative_returns = [group_data[period].mean() for period in time_periods]\n",
    "    plt.plot(dates, cumulative_returns, label=f'{group} Portfolio', marker='o')\n",
    "\n",
    "plt.title('Cumulative Returns by ESG Group Over Time')\n",
    "plt.xlabel('Date')\n",
    "plt.ylabel('Cumulative Return')\n",
    "plt.legend()\n",
    "plt.grid(True)\n",
    "plt.tight_layout()\n",
    "plt.show()"
   ]
  },
  {
   "cell_type": "markdown",
   "metadata": {},
   "source": [
    "## 7. Statistical Significance Tests"
   ]
  },
  {
   "cell_type": "code",
   "execution_count": 9,
   "metadata": {},
   "outputs": [
    {
     "data": {
      "text/html": [
       "<div>\n",
       "<style scoped>\n",
       "    .dataframe tbody tr th:only-of-type {\n",
       "        vertical-align: middle;\n",
       "    }\n",
       "\n",
       "    .dataframe tbody tr th {\n",
       "        vertical-align: top;\n",
       "    }\n",
       "\n",
       "    .dataframe thead th {\n",
       "        text-align: right;\n",
       "    }\n",
       "</style>\n",
       "<table border=\"1\" class=\"dataframe\">\n",
       "  <thead>\n",
       "    <tr style=\"text-align: right;\">\n",
       "      <th></th>\n",
       "      <th>F-statistic</th>\n",
       "      <th>p-value</th>\n",
       "    </tr>\n",
       "  </thead>\n",
       "  <tbody>\n",
       "    <tr>\n",
       "      <th>1M_Return</th>\n",
       "      <td>1.0509</td>\n",
       "      <td>0.3518</td>\n",
       "    </tr>\n",
       "    <tr>\n",
       "      <th>3M_Return</th>\n",
       "      <td>0.7160</td>\n",
       "      <td>0.4902</td>\n",
       "    </tr>\n",
       "    <tr>\n",
       "      <th>6M_Return</th>\n",
       "      <td>1.3472</td>\n",
       "      <td>0.2627</td>\n",
       "    </tr>\n",
       "    <tr>\n",
       "      <th>12M_Return</th>\n",
       "      <td>5.3302</td>\n",
       "      <td>0.0057</td>\n",
       "    </tr>\n",
       "  </tbody>\n",
       "</table>\n",
       "</div>"
      ],
      "text/plain": [
       "            F-statistic  p-value\n",
       "1M_Return        1.0509   0.3518\n",
       "3M_Return        0.7160   0.4902\n",
       "6M_Return        1.3472   0.2627\n",
       "12M_Return       5.3302   0.0057"
      ]
     },
     "execution_count": 9,
     "metadata": {},
     "output_type": "execute_result"
    }
   ],
   "source": [
    "# Perform ANOVA test for each time period\n",
    "results = {}\n",
    "for period in ['1M_Return', '3M_Return', '6M_Return', '12M_Return']:\n",
    "    groups = [df[df['ESG_Group'] == group][period] for group in df['ESG_Group'].unique()]\n",
    "    f_stat, p_value = stats.f_oneway(*groups)\n",
    "    results[period] = {'F-statistic': f_stat, 'p-value': p_value}\n",
    "\n",
    "# Display results\n",
    "pd.DataFrame(results).T.round(4)"
   ]
  }
 ],
 "metadata": {
  "kernelspec": {
   "display_name": "MLHW",
   "language": "python",
   "name": "python3"
  },
  "language_info": {
   "codemirror_mode": {
    "name": "ipython",
    "version": 3
   },
   "file_extension": ".py",
   "mimetype": "text/x-python",
   "name": "python",
   "nbconvert_exporter": "python",
   "pygments_lexer": "ipython3",
   "version": "3.11.0"
  }
 },
 "nbformat": 4,
 "nbformat_minor": 4
}
